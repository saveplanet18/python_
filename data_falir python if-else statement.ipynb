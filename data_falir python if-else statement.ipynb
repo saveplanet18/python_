{
 "cells": [
  {
   "cell_type": "markdown",
   "id": "059c49c9",
   "metadata": {},
   "source": [
    "# python if-else nested statement\n",
    "1. if statement\n",
    "2. if-else statement\n",
    "3. nested if statement\n",
    "4. chined conditional\n",
    "5. single statement condition"
   ]
  },
  {
   "cell_type": "code",
   "execution_count": 1,
   "id": "3e0829df",
   "metadata": {},
   "outputs": [
    {
     "name": "stdout",
     "output_type": "stream",
     "text": [
      "7 is good\n"
     ]
    }
   ],
   "source": [
    "# python if statements\n",
    "# if statements\n",
    "a = 7\n",
    "if a> 6:\n",
    "    print(f\"{a} is good\")"
   ]
  },
  {
   "cell_type": "code",
   "execution_count": 2,
   "id": "b44709ba",
   "metadata": {},
   "outputs": [
    {
     "name": "stdout",
     "output_type": "stream",
     "text": [
      "7 is very good..\n"
     ]
    }
   ],
   "source": [
    "if a > 5:\n",
    "    print(f\"{a} is very good..\")"
   ]
  },
  {
   "cell_type": "code",
   "execution_count": 3,
   "id": "e6295de1",
   "metadata": {},
   "outputs": [
    {
     "name": "stdout",
     "output_type": "stream",
     "text": [
      "yeh\n"
     ]
    }
   ],
   "source": [
    "if 1 :\n",
    "    print(\"yeh\")"
   ]
  },
  {
   "cell_type": "code",
   "execution_count": 4,
   "id": "1f680074",
   "metadata": {},
   "outputs": [
    {
     "name": "stdout",
     "output_type": "stream",
     "text": [
      "1\n"
     ]
    }
   ],
   "source": [
    "if (1==1):\n",
    "    print(\"1\")"
   ]
  },
  {
   "cell_type": "markdown",
   "id": "9e51ae96",
   "metadata": {},
   "source": [
    "# python if-else statements"
   ]
  },
  {
   "cell_type": "code",
   "execution_count": 5,
   "id": "ae02a63c",
   "metadata": {},
   "outputs": [
    {
     "name": "stdout",
     "output_type": "stream",
     "text": [
      "1\n"
     ]
    }
   ],
   "source": [
    "if 2 < 1:\n",
    "    print(\"2\")\n",
    "else:\n",
    "    print(\"1\")"
   ]
  },
  {
   "cell_type": "code",
   "execution_count": 6,
   "id": "75bb4262",
   "metadata": {},
   "outputs": [
    {
     "name": "stdout",
     "output_type": "stream",
     "text": [
      "2\n"
     ]
    }
   ],
   "source": [
    "if 2 > 1:\n",
    "    print(\"2\")\n",
    "else:\n",
    "    print(\"1\")"
   ]
  },
  {
   "cell_type": "code",
   "execution_count": 8,
   "id": "2da2fd1c",
   "metadata": {},
   "outputs": [
    {
     "name": "stdout",
     "output_type": "stream",
     "text": [
      "1\n"
     ]
    }
   ],
   "source": [
    "if 2 < 1:\n",
    "    print(\"2\")\n",
    "else:\n",
    "    print(\"1\")\n",
    "# else:\n",
    "#     print(\"nothing more nothing less..\")"
   ]
  },
  {
   "cell_type": "code",
   "execution_count": 9,
   "id": "25d3d86f",
   "metadata": {},
   "outputs": [
    {
     "name": "stdout",
     "output_type": "stream",
     "text": [
      "1\n"
     ]
    }
   ],
   "source": [
    "# chained condtionals(elifladder)\n",
    "if 2 < 1:\n",
    "    print(\"2\")\n",
    "elif 1 < 2:\n",
    "    print(\"1\")"
   ]
  },
  {
   "cell_type": "code",
   "execution_count": 10,
   "id": "cad0dc10",
   "metadata": {},
   "outputs": [
    {
     "name": "stdout",
     "output_type": "stream",
     "text": [
      "1\n"
     ]
    }
   ],
   "source": [
    "if 2 < 1:\n",
    "    print(\"2\")\n",
    "elif 3 < 1:\n",
    "    print(\"3\")\n",
    "else:\n",
    "    print(\"1\")"
   ]
  },
  {
   "cell_type": "markdown",
   "id": "b17f3eb4",
   "metadata": {},
   "source": [
    "# nested if statement in python\n"
   ]
  },
  {
   "cell_type": "code",
   "execution_count": 11,
   "id": "837486c1",
   "metadata": {},
   "outputs": [
    {
     "name": "stdout",
     "output_type": "stream",
     "text": [
      "a is 1 and b is 2\n"
     ]
    }
   ],
   "source": [
    "a = 1\n",
    "b = 2\n",
    "if a == 1:\n",
    "    if b == 2:\n",
    "        print(\"a is 1 and b is 2\")"
   ]
  },
  {
   "cell_type": "code",
   "execution_count": 12,
   "id": "08fdb23c",
   "metadata": {},
   "outputs": [
    {
     "name": "stdout",
     "output_type": "stream",
     "text": [
      "greater than equal to ...\n"
     ]
    }
   ],
   "source": [
    "a = 7\n",
    "if a > 4:\n",
    "    print(\"greater than equal to ...\")"
   ]
  },
  {
   "cell_type": "code",
   "execution_count": 13,
   "id": "c4afe021",
   "metadata": {},
   "outputs": [
    {
     "name": "stdout",
     "output_type": "stream",
     "text": [
      "hi\n"
     ]
    }
   ],
   "source": [
    "if a > 4:\n",
    "    print(\"hi\")\n",
    "else:\n",
    "    print(\"works...\")"
   ]
  },
  {
   "cell_type": "markdown",
   "id": "0a15e3e1",
   "metadata": {},
   "source": [
    "# implement python switch case statement\n",
    "1. using function\n",
    "2. with classes"
   ]
  },
  {
   "cell_type": "code",
   "execution_count": 29,
   "id": "0d2a7a59",
   "metadata": {},
   "outputs": [],
   "source": [
    "def week(i):\n",
    "    switch = {\n",
    "        0:'sunday',\n",
    "        1:'Monday',\n",
    "        2:'Wednesday',\n",
    "        3:'Thursday',\n",
    "        4:'Friday',\n",
    "        5:'Saturday'\n",
    "    }\n",
    "    return switch.get(i,\"invalid day of weeks\")"
   ]
  },
  {
   "cell_type": "code",
   "execution_count": 30,
   "id": "340f49c6",
   "metadata": {},
   "outputs": [
    {
     "data": {
      "text/plain": [
       "'Wednesday'"
      ]
     },
     "execution_count": 30,
     "metadata": {},
     "output_type": "execute_result"
    }
   ],
   "source": [
    "week(2)"
   ]
  },
  {
   "cell_type": "code",
   "execution_count": 31,
   "id": "2c41b011",
   "metadata": {},
   "outputs": [],
   "source": [
    "data = {0:'sunday',1:'Monday',2:'Tuesday',3:'wednesday',4:'Thursday',5:'Friday',6:'saturday'}"
   ]
  },
  {
   "cell_type": "code",
   "execution_count": 32,
   "id": "56091c48",
   "metadata": {},
   "outputs": [
    {
     "data": {
      "text/plain": [
       "'invalid'"
      ]
     },
     "execution_count": 32,
     "metadata": {},
     "output_type": "execute_result"
    }
   ],
   "source": [
    "data.get(9,\"invalid\")"
   ]
  },
  {
   "cell_type": "code",
   "execution_count": 33,
   "id": "7e9a4c01",
   "metadata": {},
   "outputs": [
    {
     "data": {
      "text/plain": [
       "'Wednesday'"
      ]
     },
     "execution_count": 33,
     "metadata": {},
     "output_type": "execute_result"
    }
   ],
   "source": [
    "week(2)"
   ]
  },
  {
   "cell_type": "code",
   "execution_count": 34,
   "id": "c41f6118",
   "metadata": {},
   "outputs": [
    {
     "data": {
      "text/plain": [
       "'Thursday'"
      ]
     },
     "execution_count": 34,
     "metadata": {},
     "output_type": "execute_result"
    }
   ],
   "source": [
    "week(3)"
   ]
  },
  {
   "cell_type": "code",
   "execution_count": 35,
   "id": "52d2a4e7",
   "metadata": {},
   "outputs": [
    {
     "data": {
      "text/plain": [
       "'Saturday'"
      ]
     },
     "execution_count": 35,
     "metadata": {},
     "output_type": "execute_result"
    }
   ],
   "source": [
    "week(5)"
   ]
  },
  {
   "cell_type": "code",
   "execution_count": 36,
   "id": "4c9cd1fb",
   "metadata": {},
   "outputs": [
    {
     "data": {
      "text/plain": [
       "'sunday'"
      ]
     },
     "execution_count": 36,
     "metadata": {},
     "output_type": "execute_result"
    }
   ],
   "source": [
    "week(0)"
   ]
  },
  {
   "cell_type": "code",
   "execution_count": 37,
   "id": "51281682",
   "metadata": {},
   "outputs": [
    {
     "data": {
      "text/plain": [
       "'Saturday'"
      ]
     },
     "execution_count": 37,
     "metadata": {},
     "output_type": "execute_result"
    }
   ],
   "source": [
    "week(5)"
   ]
  },
  {
   "cell_type": "code",
   "execution_count": 38,
   "id": "0afa8993",
   "metadata": {},
   "outputs": [
    {
     "data": {
      "text/plain": [
       "'invalid day of weeks'"
      ]
     },
     "execution_count": 38,
     "metadata": {},
     "output_type": "execute_result"
    }
   ],
   "source": [
    "week(7)"
   ]
  },
  {
   "cell_type": "code",
   "execution_count": 39,
   "id": "1941f454",
   "metadata": {},
   "outputs": [
    {
     "data": {
      "text/plain": [
       "'invalid day of weeks'"
      ]
     },
     "execution_count": 39,
     "metadata": {},
     "output_type": "execute_result"
    }
   ],
   "source": [
    "week(4.5)"
   ]
  },
  {
   "cell_type": "code",
   "execution_count": 40,
   "id": "20dbc4a9",
   "metadata": {},
   "outputs": [],
   "source": [
    "def zero():\n",
    "    return 'zero'\n"
   ]
  },
  {
   "cell_type": "code",
   "execution_count": 41,
   "id": "ee65608d",
   "metadata": {},
   "outputs": [],
   "source": [
    "def one():\n",
    "    return 'one'"
   ]
  },
  {
   "cell_type": "code",
   "execution_count": 42,
   "id": "2d69ec3f",
   "metadata": {},
   "outputs": [],
   "source": [
    "def two():\n",
    "    return 'two'"
   ]
  },
  {
   "cell_type": "code",
   "execution_count": 43,
   "id": "34a9aa5b",
   "metadata": {},
   "outputs": [],
   "source": [
    "def main(i):\n",
    "    switch = {\n",
    "        0: zero,\n",
    "        1: one,\n",
    "        2 : two,\n",
    "        3:lambda : 'three'\n",
    "    }\n",
    "    func = switch.get(i,'invalid keyword')\n",
    "    return func()"
   ]
  },
  {
   "cell_type": "code",
   "execution_count": 44,
   "id": "547c3b97",
   "metadata": {},
   "outputs": [
    {
     "data": {
      "text/plain": [
       "'two'"
      ]
     },
     "execution_count": 44,
     "metadata": {},
     "output_type": "execute_result"
    }
   ],
   "source": [
    "main(2)"
   ]
  },
  {
   "cell_type": "code",
   "execution_count": 45,
   "id": "8469cbfd",
   "metadata": {},
   "outputs": [
    {
     "data": {
      "text/plain": [
       "'three'"
      ]
     },
     "execution_count": 45,
     "metadata": {},
     "output_type": "execute_result"
    }
   ],
   "source": [
    "main(3)"
   ]
  },
  {
   "cell_type": "markdown",
   "id": "450b545e",
   "metadata": {},
   "source": [
    "# python data structures -lists,tuples ,sets, dictionaries, lis,tuple,sets,dicionaries\n",
    "1. tuples \n",
    "2. sets\n",
    "3. lists\n",
    "4. dictionaries"
   ]
  },
  {
   "cell_type": "code",
   "execution_count": 46,
   "id": "e94e12c0",
   "metadata": {},
   "outputs": [],
   "source": [
    "# how to declare python list\n",
    "languages = ['c++','python','scratch']"
   ]
  },
  {
   "cell_type": "code",
   "execution_count": 48,
   "id": "46ea70f4",
   "metadata": {},
   "outputs": [
    {
     "data": {
      "text/plain": [
       "['c++', 'python', 'scratch']"
      ]
     },
     "execution_count": 48,
     "metadata": {},
     "output_type": "execute_result"
    }
   ],
   "source": [
    "languages"
   ]
  },
  {
   "cell_type": "code",
   "execution_count": 49,
   "id": "2f02705b",
   "metadata": {},
   "outputs": [],
   "source": [
    "list1 = [1,[2,3],(4,5),False,'no']"
   ]
  },
  {
   "cell_type": "code",
   "execution_count": 50,
   "id": "2c40e834",
   "metadata": {},
   "outputs": [
    {
     "data": {
      "text/plain": [
       "[1, [2, 3], (4, 5), False, 'no']"
      ]
     },
     "execution_count": 50,
     "metadata": {},
     "output_type": "execute_result"
    }
   ],
   "source": [
    "list1"
   ]
  },
  {
   "cell_type": "code",
   "execution_count": 51,
   "id": "529a75f3",
   "metadata": {},
   "outputs": [
    {
     "data": {
      "text/plain": [
       "1"
      ]
     },
     "execution_count": 51,
     "metadata": {},
     "output_type": "execute_result"
    }
   ],
   "source": [
    "# accesing an entire list \n",
    "list1[0]"
   ]
  },
  {
   "cell_type": "code",
   "execution_count": 52,
   "id": "75836c42",
   "metadata": {},
   "outputs": [
    {
     "data": {
      "text/plain": [
       "False"
      ]
     },
     "execution_count": 52,
     "metadata": {},
     "output_type": "execute_result"
    }
   ],
   "source": [
    "list1[3]"
   ]
  },
  {
   "cell_type": "code",
   "execution_count": 53,
   "id": "47e3f027",
   "metadata": {},
   "outputs": [
    {
     "data": {
      "text/plain": [
       "bool"
      ]
     },
     "execution_count": 53,
     "metadata": {},
     "output_type": "execute_result"
    }
   ],
   "source": [
    "type(list1[-2])"
   ]
  },
  {
   "cell_type": "code",
   "execution_count": 54,
   "id": "dd8e3ae8",
   "metadata": {},
   "outputs": [
    {
     "ename": "TypeError",
     "evalue": "list indices must be integers or slices, not float",
     "output_type": "error",
     "traceback": [
      "\u001b[1;31m---------------------------------------------------------------------------\u001b[0m",
      "\u001b[1;31mTypeError\u001b[0m                                 Traceback (most recent call last)",
      "\u001b[1;32m~\\AppData\\Local\\Temp/ipykernel_4704/1967262666.py\u001b[0m in \u001b[0;36m<module>\u001b[1;34m\u001b[0m\n\u001b[1;32m----> 1\u001b[1;33m \u001b[0mlist1\u001b[0m\u001b[1;33m[\u001b[0m\u001b[1;36m1.0\u001b[0m\u001b[1;33m]\u001b[0m\u001b[1;33m\u001b[0m\u001b[1;33m\u001b[0m\u001b[0m\n\u001b[0m",
      "\u001b[1;31mTypeError\u001b[0m: list indices must be integers or slices, not float"
     ]
    }
   ],
   "source": [
    "list1[1.0]"
   ]
  },
  {
   "cell_type": "code",
   "execution_count": 55,
   "id": "90ce246d",
   "metadata": {},
   "outputs": [
    {
     "data": {
      "text/plain": [
       "[1, [2, 3], (4, 5)]"
      ]
     },
     "execution_count": 55,
     "metadata": {},
     "output_type": "execute_result"
    }
   ],
   "source": [
    "list1[:-2]"
   ]
  },
  {
   "cell_type": "code",
   "execution_count": 56,
   "id": "d88ca705",
   "metadata": {},
   "outputs": [
    {
     "data": {
      "text/plain": [
       "['c++', 'python', 'scratch']"
      ]
     },
     "execution_count": 56,
     "metadata": {},
     "output_type": "execute_result"
    }
   ],
   "source": [
    "# a list is mutable \n",
    "languages "
   ]
  },
  {
   "cell_type": "code",
   "execution_count": 57,
   "id": "e1926afb",
   "metadata": {},
   "outputs": [],
   "source": [
    "languages[2] = 'java'"
   ]
  },
  {
   "cell_type": "code",
   "execution_count": 58,
   "id": "da58048c",
   "metadata": {},
   "outputs": [
    {
     "data": {
      "text/plain": [
       "['c++', 'python', 'java']"
      ]
     },
     "execution_count": 58,
     "metadata": {},
     "output_type": "execute_result"
    }
   ],
   "source": [
    "languages"
   ]
  },
  {
   "cell_type": "code",
   "execution_count": 61,
   "id": "23e8781b",
   "metadata": {},
   "outputs": [
    {
     "data": {
      "text/plain": [
       "['c++', 'python', 'java']"
      ]
     },
     "execution_count": 61,
     "metadata": {},
     "output_type": "execute_result"
    }
   ],
   "source": [
    "languages."
   ]
  },
  {
   "cell_type": "code",
   "execution_count": 62,
   "id": "c3d36012",
   "metadata": {},
   "outputs": [
    {
     "data": {
      "text/plain": [
       "[1, [2, 3], (4, 5), False, 'no']"
      ]
     },
     "execution_count": 62,
     "metadata": {},
     "output_type": "execute_result"
    }
   ],
   "source": [
    "# how to delete python list.\n",
    "list1"
   ]
  },
  {
   "cell_type": "code",
   "execution_count": 63,
   "id": "ff2d762a",
   "metadata": {},
   "outputs": [],
   "source": [
    "del languages"
   ]
  },
  {
   "cell_type": "code",
   "execution_count": 64,
   "id": "d30b453a",
   "metadata": {},
   "outputs": [
    {
     "ename": "NameError",
     "evalue": "name 'languages' is not defined",
     "output_type": "error",
     "traceback": [
      "\u001b[1;31m---------------------------------------------------------------------------\u001b[0m",
      "\u001b[1;31mNameError\u001b[0m                                 Traceback (most recent call last)",
      "\u001b[1;32m~\\AppData\\Local\\Temp/ipykernel_4704/3665537252.py\u001b[0m in \u001b[0;36m<module>\u001b[1;34m\u001b[0m\n\u001b[1;32m----> 1\u001b[1;33m \u001b[0mlanguages\u001b[0m\u001b[1;33m\u001b[0m\u001b[1;33m\u001b[0m\u001b[0m\n\u001b[0m",
      "\u001b[1;31mNameError\u001b[0m: name 'languages' is not defined"
     ]
    }
   ],
   "source": [
    "languages"
   ]
  },
  {
   "cell_type": "code",
   "execution_count": 65,
   "id": "0fb0cf6c",
   "metadata": {},
   "outputs": [],
   "source": [
    "# reassgining a list in python\n",
    "list1 = [1,2,3,4,5,6,7,8,9,0]"
   ]
  },
  {
   "cell_type": "code",
   "execution_count": 66,
   "id": "dc6eda4e",
   "metadata": {},
   "outputs": [
    {
     "data": {
      "text/plain": [
       "[1, 2, 3, 4, 5, 6, 7, 8, 9, 0]"
      ]
     },
     "execution_count": 66,
     "metadata": {},
     "output_type": "execute_result"
    }
   ],
   "source": [
    "list1"
   ]
  },
  {
   "cell_type": "code",
   "execution_count": 67,
   "id": "97381e24",
   "metadata": {},
   "outputs": [],
   "source": [
    "list1[0] = 0"
   ]
  },
  {
   "cell_type": "code",
   "execution_count": 68,
   "id": "de57ec6b",
   "metadata": {},
   "outputs": [
    {
     "data": {
      "text/plain": [
       "[0, 2, 3, 4, 5, 6, 7, 8, 9, 0]"
      ]
     },
     "execution_count": 68,
     "metadata": {},
     "output_type": "execute_result"
    }
   ],
   "source": [
    "list1"
   ]
  },
  {
   "cell_type": "code",
   "execution_count": 69,
   "id": "b8cd42c0",
   "metadata": {},
   "outputs": [
    {
     "data": {
      "text/plain": [
       "[0, 9, 10, 11, 4, 5, 6, 7, 8, 9, 0]"
      ]
     },
     "execution_count": 69,
     "metadata": {},
     "output_type": "execute_result"
    }
   ],
   "source": [
    "list1[1:3] = [9,10,11]\n",
    "list1"
   ]
  },
  {
   "cell_type": "code",
   "execution_count": 70,
   "id": "e02ba5e8",
   "metadata": {},
   "outputs": [],
   "source": [
    "list1[1:5] = [10,20,30]"
   ]
  },
  {
   "cell_type": "code",
   "execution_count": 71,
   "id": "76c4a8fb",
   "metadata": {},
   "outputs": [
    {
     "data": {
      "text/plain": [
       "[0, 10, 20, 30, 5, 6, 7, 8, 9, 0]"
      ]
     },
     "execution_count": 71,
     "metadata": {},
     "output_type": "execute_result"
    }
   ],
   "source": [
    "list1"
   ]
  },
  {
   "cell_type": "code",
   "execution_count": 72,
   "id": "5f560e20",
   "metadata": {},
   "outputs": [],
   "source": [
    "list1 = [0,0,0]"
   ]
  },
  {
   "cell_type": "code",
   "execution_count": 73,
   "id": "ab275481",
   "metadata": {},
   "outputs": [
    {
     "data": {
      "text/plain": [
       "[0, 0, 0]"
      ]
     },
     "execution_count": 73,
     "metadata": {},
     "output_type": "execute_result"
    }
   ],
   "source": [
    "list1"
   ]
  },
  {
   "cell_type": "code",
   "execution_count": 74,
   "id": "61abbd2c",
   "metadata": {},
   "outputs": [
    {
     "data": {
      "text/plain": [
       "[0, 0, 0]"
      ]
     },
     "execution_count": 74,
     "metadata": {},
     "output_type": "execute_result"
    }
   ],
   "source": [
    "list1"
   ]
  },
  {
   "cell_type": "code",
   "execution_count": 75,
   "id": "9a1c2695",
   "metadata": {},
   "outputs": [],
   "source": [
    "# python tuple\n",
    "# this python data structure is like a , list in python is a heterogeneous container for items\n",
    "colors = ('red','green','blue')"
   ]
  },
  {
   "cell_type": "code",
   "execution_count": 76,
   "id": "2470099d",
   "metadata": {},
   "outputs": [
    {
     "data": {
      "text/plain": [
       "('red', 'green', 'blue')"
      ]
     },
     "execution_count": 76,
     "metadata": {},
     "output_type": "execute_result"
    }
   ],
   "source": [
    "colors"
   ]
  },
  {
   "cell_type": "code",
   "execution_count": 77,
   "id": "49ab474e",
   "metadata": {},
   "outputs": [],
   "source": [
    "mytuple = 1,2,3"
   ]
  },
  {
   "cell_type": "code",
   "execution_count": 78,
   "id": "5b0ce610",
   "metadata": {},
   "outputs": [
    {
     "data": {
      "text/plain": [
       "(1, 2, 3)"
      ]
     },
     "execution_count": 78,
     "metadata": {},
     "output_type": "execute_result"
    }
   ],
   "source": [
    "mytuple"
   ]
  },
  {
   "cell_type": "code",
   "execution_count": 79,
   "id": "5ec8fc5a",
   "metadata": {},
   "outputs": [
    {
     "name": "stdout",
     "output_type": "stream",
     "text": [
      "1 2 3\n"
     ]
    }
   ],
   "source": [
    "# python tuple unpacking \n",
    "a,b,c = mytuple\n",
    "print(a,b,c)"
   ]
  },
  {
   "cell_type": "code",
   "execution_count": 80,
   "id": "a1b18f4f",
   "metadata": {},
   "outputs": [],
   "source": [
    "a = (1)"
   ]
  },
  {
   "cell_type": "code",
   "execution_count": 81,
   "id": "dd7bea09",
   "metadata": {},
   "outputs": [
    {
     "data": {
      "text/plain": [
       "1"
      ]
     },
     "execution_count": 81,
     "metadata": {},
     "output_type": "execute_result"
    }
   ],
   "source": [
    "a"
   ]
  },
  {
   "cell_type": "code",
   "execution_count": 82,
   "id": "580a9178",
   "metadata": {},
   "outputs": [
    {
     "data": {
      "text/plain": [
       "int"
      ]
     },
     "execution_count": 82,
     "metadata": {},
     "output_type": "execute_result"
    }
   ],
   "source": [
    "type(a)"
   ]
  },
  {
   "cell_type": "code",
   "execution_count": 83,
   "id": "b63320eb",
   "metadata": {},
   "outputs": [],
   "source": [
    "a = (1,)"
   ]
  },
  {
   "cell_type": "code",
   "execution_count": 85,
   "id": "d508c11e",
   "metadata": {},
   "outputs": [
    {
     "name": "stdout",
     "output_type": "stream",
     "text": [
      "<class 'tuple'>\n"
     ]
    }
   ],
   "source": [
    "print(type(a))"
   ]
  },
  {
   "cell_type": "code",
   "execution_count": 86,
   "id": "dd7b8adb",
   "metadata": {},
   "outputs": [
    {
     "ename": "TypeError",
     "evalue": "'tuple' object doesn't support item deletion",
     "output_type": "error",
     "traceback": [
      "\u001b[1;31m---------------------------------------------------------------------------\u001b[0m",
      "\u001b[1;31mTypeError\u001b[0m                                 Traceback (most recent call last)",
      "\u001b[1;32m~\\AppData\\Local\\Temp/ipykernel_4704/3074760810.py\u001b[0m in \u001b[0;36m<module>\u001b[1;34m\u001b[0m\n\u001b[1;32m----> 1\u001b[1;33m \u001b[1;32mdel\u001b[0m \u001b[0ma\u001b[0m\u001b[1;33m[\u001b[0m\u001b[1;36m0\u001b[0m\u001b[1;33m]\u001b[0m\u001b[1;33m\u001b[0m\u001b[1;33m\u001b[0m\u001b[0m\n\u001b[0m",
      "\u001b[1;31mTypeError\u001b[0m: 'tuple' object doesn't support item deletion"
     ]
    }
   ],
   "source": [
    "del a[0]"
   ]
  },
  {
   "cell_type": "code",
   "execution_count": 87,
   "id": "89423c98",
   "metadata": {},
   "outputs": [],
   "source": [
    "# python set\n",
    "# this is one of the important python data structures.\n",
    "myset = {3,1,2}"
   ]
  },
  {
   "cell_type": "code",
   "execution_count": 88,
   "id": "5e4a4b51",
   "metadata": {},
   "outputs": [
    {
     "data": {
      "text/plain": [
       "{1, 2, 3}"
      ]
     },
     "execution_count": 88,
     "metadata": {},
     "output_type": "execute_result"
    }
   ],
   "source": [
    "myset"
   ]
  },
  {
   "cell_type": "code",
   "execution_count": 89,
   "id": "c0be1fcb",
   "metadata": {},
   "outputs": [],
   "source": [
    "# python dictionaries\n",
    "mydict = {1:2,2:4,3:6}"
   ]
  },
  {
   "cell_type": "code",
   "execution_count": 90,
   "id": "8d3cf690",
   "metadata": {},
   "outputs": [
    {
     "data": {
      "text/plain": [
       "{1: 2, 2: 4, 3: 6}"
      ]
     },
     "execution_count": 90,
     "metadata": {},
     "output_type": "execute_result"
    }
   ],
   "source": [
    "mydict"
   ]
  },
  {
   "cell_type": "code",
   "execution_count": 91,
   "id": "ddd95880",
   "metadata": {},
   "outputs": [
    {
     "data": {
      "text/plain": [
       "4"
      ]
     },
     "execution_count": 91,
     "metadata": {},
     "output_type": "execute_result"
    }
   ],
   "source": [
    "mydict[2]"
   ]
  },
  {
   "cell_type": "markdown",
   "id": "99cafab0",
   "metadata": {},
   "source": [
    "# python list with examples\n",
    "1. creating lists\n",
    "2. accessing lists\n",
    "3. slicing lists\n",
    "4. reassgining lists\n",
    "5. deleting elemetns\n",
    "6. multidimensional lists\n",
    "7. concatenation of lists\n",
    "8. operation on lists\n",
    "9. iterating on a lists\n",
    "10. list comprehension\n",
    "11. built-in function\n",
    "12. buitl-in methods"
   ]
  },
  {
   "cell_type": "code",
   "execution_count": 92,
   "id": "5e5a9505",
   "metadata": {},
   "outputs": [],
   "source": [
    "# how to creat python list?\n",
    "colors = ['red','green','blue']"
   ]
  },
  {
   "cell_type": "code",
   "execution_count": 94,
   "id": "c5da017a",
   "metadata": {},
   "outputs": [
    {
     "data": {
      "text/plain": [
       "['red', 'green', 'blue']"
      ]
     },
     "execution_count": 94,
     "metadata": {},
     "output_type": "execute_result"
    }
   ],
   "source": [
    "colors"
   ]
  },
  {
   "cell_type": "code",
   "execution_count": 95,
   "id": "2bb9cb39",
   "metadata": {},
   "outputs": [],
   "source": [
    "days = ['Monday','Tuesday','Wednesday',4,5,6,7.0]"
   ]
  },
  {
   "cell_type": "code",
   "execution_count": 96,
   "id": "203f3153",
   "metadata": {},
   "outputs": [
    {
     "data": {
      "text/plain": [
       "['Monday', 'Tuesday', 'Wednesday', 4, 5, 6, 7.0]"
      ]
     },
     "execution_count": 96,
     "metadata": {},
     "output_type": "execute_result"
    }
   ],
   "source": [
    "days"
   ]
  },
  {
   "cell_type": "code",
   "execution_count": 99,
   "id": "a2311aea",
   "metadata": {},
   "outputs": [],
   "source": [
    "languages = [['english'],['gujrath'],['hindi'],'romanian','spanish']"
   ]
  },
  {
   "cell_type": "code",
   "execution_count": 100,
   "id": "10d54333",
   "metadata": {},
   "outputs": [
    {
     "data": {
      "text/plain": [
       "[['english'], ['gujrath'], ['hindi'], 'romanian', 'spanish']"
      ]
     },
     "execution_count": 100,
     "metadata": {},
     "output_type": "execute_result"
    }
   ],
   "source": [
    "languages"
   ]
  },
  {
   "cell_type": "code",
   "execution_count": 101,
   "id": "3aecb5ba",
   "metadata": {},
   "outputs": [
    {
     "data": {
      "text/plain": [
       "list"
      ]
     },
     "execution_count": 101,
     "metadata": {},
     "output_type": "execute_result"
    }
   ],
   "source": [
    "type(languages[0])"
   ]
  },
  {
   "cell_type": "code",
   "execution_count": 102,
   "id": "2b577e06",
   "metadata": {},
   "outputs": [
    {
     "name": "stdout",
     "output_type": "stream",
     "text": [
      "<class 'list'>\n"
     ]
    }
   ],
   "source": [
    "print(type(languages[0]))"
   ]
  },
  {
   "cell_type": "code",
   "execution_count": 103,
   "id": "945867d4",
   "metadata": {},
   "outputs": [],
   "source": [
    "languages = ['english','gujrath','romanian']"
   ]
  },
  {
   "cell_type": "code",
   "execution_count": 104,
   "id": "b282a3a4",
   "metadata": {},
   "outputs": [
    {
     "data": {
      "text/plain": [
       "['english', 'gujrath', 'romanian']"
      ]
     },
     "execution_count": 104,
     "metadata": {},
     "output_type": "execute_result"
    }
   ],
   "source": [
    "languages"
   ]
  },
  {
   "cell_type": "code",
   "execution_count": 105,
   "id": "e0f43ab0",
   "metadata": {},
   "outputs": [],
   "source": [
    "lang = ['english','spanish','marathi','telugu']"
   ]
  },
  {
   "cell_type": "code",
   "execution_count": 106,
   "id": "f63016fe",
   "metadata": {},
   "outputs": [
    {
     "data": {
      "text/plain": [
       "['english', 'spanish', 'marathi', 'telugu']"
      ]
     },
     "execution_count": 106,
     "metadata": {},
     "output_type": "execute_result"
    }
   ],
   "source": [
    "lang"
   ]
  },
  {
   "cell_type": "code",
   "execution_count": 107,
   "id": "a2dc4fd6",
   "metadata": {},
   "outputs": [
    {
     "data": {
      "text/plain": [
       "'english'"
      ]
     },
     "execution_count": 107,
     "metadata": {},
     "output_type": "execute_result"
    }
   ],
   "source": [
    "lang[0]"
   ]
  },
  {
   "cell_type": "code",
   "execution_count": 108,
   "id": "f3067952",
   "metadata": {},
   "outputs": [
    {
     "data": {
      "text/plain": [
       "'marathi'"
      ]
     },
     "execution_count": 108,
     "metadata": {},
     "output_type": "execute_result"
    }
   ],
   "source": [
    "lang[2]"
   ]
  },
  {
   "cell_type": "code",
   "execution_count": 109,
   "id": "8d276acb",
   "metadata": {},
   "outputs": [
    {
     "data": {
      "text/plain": [
       "'telugu'"
      ]
     },
     "execution_count": 109,
     "metadata": {},
     "output_type": "execute_result"
    }
   ],
   "source": [
    "lang[3]"
   ]
  },
  {
   "cell_type": "code",
   "execution_count": 110,
   "id": "709305e9",
   "metadata": {},
   "outputs": [
    {
     "data": {
      "text/plain": [
       "'marathi'"
      ]
     },
     "execution_count": 110,
     "metadata": {},
     "output_type": "execute_result"
    }
   ],
   "source": [
    "lang[2]"
   ]
  },
  {
   "cell_type": "code",
   "execution_count": 111,
   "id": "0a78ed80",
   "metadata": {},
   "outputs": [
    {
     "ename": "IndexError",
     "evalue": "list index out of range",
     "output_type": "error",
     "traceback": [
      "\u001b[1;31m---------------------------------------------------------------------------\u001b[0m",
      "\u001b[1;31mIndexError\u001b[0m                                Traceback (most recent call last)",
      "\u001b[1;32m~\\AppData\\Local\\Temp/ipykernel_4704/2785614673.py\u001b[0m in \u001b[0;36m<module>\u001b[1;34m\u001b[0m\n\u001b[1;32m----> 1\u001b[1;33m \u001b[0mlang\u001b[0m\u001b[1;33m[\u001b[0m\u001b[1;36m5\u001b[0m\u001b[1;33m]\u001b[0m\u001b[1;33m\u001b[0m\u001b[1;33m\u001b[0m\u001b[0m\n\u001b[0m",
      "\u001b[1;31mIndexError\u001b[0m: list index out of range"
     ]
    }
   ],
   "source": [
    "lang[5]"
   ]
  },
  {
   "cell_type": "code",
   "execution_count": 112,
   "id": "81f389c8",
   "metadata": {},
   "outputs": [
    {
     "ename": "NameError",
     "evalue": "name 'language' is not defined",
     "output_type": "error",
     "traceback": [
      "\u001b[1;31m---------------------------------------------------------------------------\u001b[0m",
      "\u001b[1;31mNameError\u001b[0m                                 Traceback (most recent call last)",
      "\u001b[1;32m~\\AppData\\Local\\Temp/ipykernel_4704/319167740.py\u001b[0m in \u001b[0;36m<module>\u001b[1;34m\u001b[0m\n\u001b[1;32m----> 1\u001b[1;33m \u001b[0mtype\u001b[0m\u001b[1;33m(\u001b[0m\u001b[0mlanguage\u001b[0m\u001b[1;33m[\u001b[0m\u001b[1;36m0\u001b[0m\u001b[1;33m]\u001b[0m\u001b[1;33m)\u001b[0m\u001b[1;33m\u001b[0m\u001b[1;33m\u001b[0m\u001b[0m\n\u001b[0m",
      "\u001b[1;31mNameError\u001b[0m: name 'language' is not defined"
     ]
    }
   ],
   "source": [
    "type(language[0])"
   ]
  },
  {
   "cell_type": "code",
   "execution_count": 113,
   "id": "5cadf812",
   "metadata": {},
   "outputs": [
    {
     "name": "stdout",
     "output_type": "stream",
     "text": [
      "<class 'list'>\n"
     ]
    }
   ],
   "source": [
    "print(type(lang))"
   ]
  },
  {
   "cell_type": "markdown",
   "id": "36d232d9",
   "metadata": {},
   "source": [
    "# how to access python list"
   ]
  },
  {
   "cell_type": "code",
   "execution_count": 114,
   "id": "bc26a787",
   "metadata": {},
   "outputs": [
    {
     "data": {
      "text/plain": [
       "['Monday', 'Tuesday', 'Wednesday', 4, 5, 6, 7.0]"
      ]
     },
     "execution_count": 114,
     "metadata": {},
     "output_type": "execute_result"
    }
   ],
   "source": [
    "days"
   ]
  },
  {
   "cell_type": "code",
   "execution_count": 115,
   "id": "211cd2fd",
   "metadata": {},
   "outputs": [
    {
     "name": "stdout",
     "output_type": "stream",
     "text": [
      "['english', 'gujrath', 'romanian']\n"
     ]
    }
   ],
   "source": [
    "print(languages)"
   ]
  },
  {
   "cell_type": "code",
   "execution_count": 116,
   "id": "94b3ba68",
   "metadata": {},
   "outputs": [
    {
     "data": {
      "text/plain": [
       "'english'"
      ]
     },
     "execution_count": 116,
     "metadata": {},
     "output_type": "execute_result"
    }
   ],
   "source": [
    "languages[0]"
   ]
  },
  {
   "cell_type": "code",
   "execution_count": 118,
   "id": "adce825b",
   "metadata": {},
   "outputs": [],
   "source": [
    "indices = ['zero','one','two','three','four','five']"
   ]
  },
  {
   "cell_type": "code",
   "execution_count": 119,
   "id": "acac761a",
   "metadata": {},
   "outputs": [
    {
     "data": {
      "text/plain": [
       "['zero', 'one', 'two', 'three', 'four', 'five']"
      ]
     },
     "execution_count": 119,
     "metadata": {},
     "output_type": "execute_result"
    }
   ],
   "source": [
    "indices"
   ]
  },
  {
   "cell_type": "code",
   "execution_count": 121,
   "id": "c3bd820b",
   "metadata": {},
   "outputs": [
    {
     "data": {
      "text/plain": [
       "['zero', 'one', 'two', 'three']"
      ]
     },
     "execution_count": 121,
     "metadata": {},
     "output_type": "execute_result"
    }
   ],
   "source": [
    "indices[:4]"
   ]
  },
  {
   "cell_type": "code",
   "execution_count": 122,
   "id": "b1231f2f",
   "metadata": {},
   "outputs": [
    {
     "data": {
      "text/plain": [
       "['zero', 'one', 'two']"
      ]
     },
     "execution_count": 122,
     "metadata": {},
     "output_type": "execute_result"
    }
   ],
   "source": [
    "indices[:3]"
   ]
  },
  {
   "cell_type": "code",
   "execution_count": 123,
   "id": "ba81d69e",
   "metadata": {},
   "outputs": [
    {
     "data": {
      "text/plain": [
       "['zero', 'one', 'two', 'three', 'four', 'five']"
      ]
     },
     "execution_count": 123,
     "metadata": {},
     "output_type": "execute_result"
    }
   ],
   "source": [
    "indices[:]"
   ]
  },
  {
   "cell_type": "code",
   "execution_count": 124,
   "id": "9db6e05d",
   "metadata": {},
   "outputs": [
    {
     "data": {
      "text/plain": [
       "['zero', 'one', 'two', 'three', 'four', 'five']"
      ]
     },
     "execution_count": 124,
     "metadata": {},
     "output_type": "execute_result"
    }
   ],
   "source": [
    "indices[:]"
   ]
  },
  {
   "cell_type": "code",
   "execution_count": 126,
   "id": "4f555411",
   "metadata": {},
   "outputs": [
    {
     "data": {
      "text/plain": [
       "['zero', 'one', 'two', 'three']"
      ]
     },
     "execution_count": 126,
     "metadata": {},
     "output_type": "execute_result"
    }
   ],
   "source": [
    "# negative indices\n",
    "indices[:-2]"
   ]
  },
  {
   "cell_type": "code",
   "execution_count": 127,
   "id": "52214107",
   "metadata": {},
   "outputs": [
    {
     "data": {
      "text/plain": [
       "['one']"
      ]
     },
     "execution_count": 127,
     "metadata": {},
     "output_type": "execute_result"
    }
   ],
   "source": [
    "indices[1:2]"
   ]
  },
  {
   "cell_type": "code",
   "execution_count": 128,
   "id": "8144bbfa",
   "metadata": {},
   "outputs": [
    {
     "data": {
      "text/plain": [
       "['four']"
      ]
     },
     "execution_count": 128,
     "metadata": {},
     "output_type": "execute_result"
    }
   ],
   "source": [
    "indices[-2:-1]"
   ]
  },
  {
   "cell_type": "code",
   "execution_count": 129,
   "id": "11aa0649",
   "metadata": {},
   "outputs": [
    {
     "data": {
      "text/plain": [
       "[]"
      ]
     },
     "execution_count": 129,
     "metadata": {},
     "output_type": "execute_result"
    }
   ],
   "source": [
    "indices[-1:-2]"
   ]
  },
  {
   "cell_type": "markdown",
   "id": "e67779fe",
   "metadata": {},
   "source": [
    "# reassgining a python list(mutable)\n",
    "## python lists are mutable. this means that you can reassign its items"
   ]
  },
  {
   "cell_type": "code",
   "execution_count": 131,
   "id": "bbab55e3",
   "metadata": {},
   "outputs": [],
   "source": [
    "colors = ['red','green','blue']"
   ]
  },
  {
   "cell_type": "code",
   "execution_count": 132,
   "id": "066095f9",
   "metadata": {},
   "outputs": [
    {
     "data": {
      "text/plain": [
       "['red', 'green', 'blue']"
      ]
     },
     "execution_count": 132,
     "metadata": {},
     "output_type": "execute_result"
    }
   ],
   "source": [
    "colors"
   ]
  },
  {
   "cell_type": "code",
   "execution_count": 133,
   "id": "1e745e10",
   "metadata": {},
   "outputs": [],
   "source": [
    "colors = ['caramel','gold','silver','occur']"
   ]
  },
  {
   "cell_type": "code",
   "execution_count": 134,
   "id": "a20c647d",
   "metadata": {},
   "outputs": [
    {
     "data": {
      "text/plain": [
       "['caramel', 'gold', 'silver', 'occur']"
      ]
     },
     "execution_count": 134,
     "metadata": {},
     "output_type": "execute_result"
    }
   ],
   "source": [
    "colors"
   ]
  },
  {
   "cell_type": "code",
   "execution_count": 135,
   "id": "954028ec",
   "metadata": {},
   "outputs": [
    {
     "data": {
      "text/plain": [
       "['caramel', 'gold', 'silver', 'occur']"
      ]
     },
     "execution_count": 135,
     "metadata": {},
     "output_type": "execute_result"
    }
   ],
   "source": [
    "colors"
   ]
  },
  {
   "cell_type": "code",
   "execution_count": 136,
   "id": "9a4a9727",
   "metadata": {},
   "outputs": [
    {
     "data": {
      "text/plain": [
       "['silver', 'occur']"
      ]
     },
     "execution_count": 136,
     "metadata": {},
     "output_type": "execute_result"
    }
   ],
   "source": [
    "colors[2:]"
   ]
  },
  {
   "cell_type": "code",
   "execution_count": 137,
   "id": "f1b6b7e9",
   "metadata": {},
   "outputs": [],
   "source": [
    "colors = ['renukadevi','prasanna','yallamma']"
   ]
  },
  {
   "cell_type": "code",
   "execution_count": 138,
   "id": "0ebee5b2",
   "metadata": {},
   "outputs": [
    {
     "data": {
      "text/plain": [
       "['renukadevi', 'prasanna', 'yallamma']"
      ]
     },
     "execution_count": 138,
     "metadata": {},
     "output_type": "execute_result"
    }
   ],
   "source": [
    "colors"
   ]
  },
  {
   "cell_type": "code",
   "execution_count": 140,
   "id": "e0b4fe7d",
   "metadata": {},
   "outputs": [
    {
     "data": {
      "text/plain": [
       "['yallamma']"
      ]
     },
     "execution_count": 140,
     "metadata": {},
     "output_type": "execute_result"
    }
   ],
   "source": [
    "colors[2:]"
   ]
  },
  {
   "cell_type": "code",
   "execution_count": 141,
   "id": "090c731c",
   "metadata": {},
   "outputs": [
    {
     "data": {
      "text/plain": [
       "['caramel', 'gold', 'silver', 'occur']"
      ]
     },
     "execution_count": 141,
     "metadata": {},
     "output_type": "execute_result"
    }
   ],
   "source": [
    "colors = ['caramel','gold','silver','occur']\n",
    "colors"
   ]
  },
  {
   "cell_type": "code",
   "execution_count": 142,
   "id": "cc6df0d2",
   "metadata": {},
   "outputs": [],
   "source": [
    "colors[2:3] = ['bronze','silver']"
   ]
  },
  {
   "cell_type": "code",
   "execution_count": 143,
   "id": "3851a184",
   "metadata": {},
   "outputs": [
    {
     "data": {
      "text/plain": [
       "['caramel', 'gold', 'bronze', 'silver', 'occur']"
      ]
     },
     "execution_count": 143,
     "metadata": {},
     "output_type": "execute_result"
    }
   ],
   "source": [
    "colors"
   ]
  },
  {
   "cell_type": "code",
   "execution_count": 144,
   "id": "9019ef44",
   "metadata": {},
   "outputs": [
    {
     "data": {
      "text/plain": [
       "[]"
      ]
     },
     "execution_count": 144,
     "metadata": {},
     "output_type": "execute_result"
    }
   ],
   "source": [
    "colors[2:2]"
   ]
  },
  {
   "cell_type": "code",
   "execution_count": 145,
   "id": "569e7235",
   "metadata": {},
   "outputs": [
    {
     "data": {
      "text/plain": [
       "['caramel', 'gold', 'bronze', 'silver', 'occur']"
      ]
     },
     "execution_count": 145,
     "metadata": {},
     "output_type": "execute_result"
    }
   ],
   "source": [
    "colors"
   ]
  },
  {
   "cell_type": "code",
   "execution_count": 146,
   "id": "43b58c03",
   "metadata": {},
   "outputs": [
    {
     "data": {
      "text/plain": [
       "['bronze', 'silver', 'occur']"
      ]
     },
     "execution_count": 146,
     "metadata": {},
     "output_type": "execute_result"
    }
   ],
   "source": [
    "colors[2:]"
   ]
  },
  {
   "cell_type": "code",
   "execution_count": 147,
   "id": "6f6d5e11",
   "metadata": {},
   "outputs": [
    {
     "data": {
      "text/plain": [
       "['caramel', 'gold', 'bronze', 'silver', 'occur']"
      ]
     },
     "execution_count": 147,
     "metadata": {},
     "output_type": "execute_result"
    }
   ],
   "source": [
    "# reassigning a single element\n",
    "colors"
   ]
  },
  {
   "cell_type": "code",
   "execution_count": 148,
   "id": "332e10d2",
   "metadata": {},
   "outputs": [],
   "source": [
    "colors[3] = 'bronze'"
   ]
  },
  {
   "cell_type": "code",
   "execution_count": 149,
   "id": "7631a1b2",
   "metadata": {},
   "outputs": [
    {
     "data": {
      "text/plain": [
       "['caramel', 'gold', 'bronze', 'bronze', 'occur']"
      ]
     },
     "execution_count": 149,
     "metadata": {},
     "output_type": "execute_result"
    }
   ],
   "source": [
    "colors"
   ]
  },
  {
   "cell_type": "code",
   "execution_count": 150,
   "id": "140c3153",
   "metadata": {},
   "outputs": [],
   "source": [
    "colors[3] = 'yallammadevi'"
   ]
  },
  {
   "cell_type": "code",
   "execution_count": 151,
   "id": "52d3d656",
   "metadata": {},
   "outputs": [
    {
     "data": {
      "text/plain": [
       "['caramel', 'gold', 'bronze', 'yallammadevi', 'occur']"
      ]
     },
     "execution_count": 151,
     "metadata": {},
     "output_type": "execute_result"
    }
   ],
   "source": [
    "colors"
   ]
  },
  {
   "cell_type": "code",
   "execution_count": 152,
   "id": "cd414c08",
   "metadata": {},
   "outputs": [],
   "source": [
    "colors[4] = 'holographic'"
   ]
  },
  {
   "cell_type": "code",
   "execution_count": 153,
   "id": "670f83c4",
   "metadata": {},
   "outputs": [
    {
     "data": {
      "text/plain": [
       "['caramel', 'gold', 'bronze', 'yallammadevi', 'holographic']"
      ]
     },
     "execution_count": 153,
     "metadata": {},
     "output_type": "execute_result"
    }
   ],
   "source": [
    "colors"
   ]
  },
  {
   "cell_type": "code",
   "execution_count": 154,
   "id": "cdd04110",
   "metadata": {},
   "outputs": [],
   "source": [
    "colors[4] = 'holographic'"
   ]
  },
  {
   "cell_type": "code",
   "execution_count": 155,
   "id": "0e08d3b2",
   "metadata": {},
   "outputs": [
    {
     "data": {
      "text/plain": [
       "['caramel', 'gold', 'bronze', 'yallammadevi', 'holographic']"
      ]
     },
     "execution_count": 155,
     "metadata": {},
     "output_type": "execute_result"
    }
   ],
   "source": [
    "colors"
   ]
  },
  {
   "cell_type": "code",
   "execution_count": 156,
   "id": "0c91721a",
   "metadata": {},
   "outputs": [],
   "source": [
    "colors = ['caramel','gold','silver','bronze','holographic']"
   ]
  },
  {
   "cell_type": "code",
   "execution_count": 157,
   "id": "689070a5",
   "metadata": {},
   "outputs": [
    {
     "data": {
      "text/plain": [
       "['caramel', 'gold', 'silver', 'bronze', 'holographic']"
      ]
     },
     "execution_count": 157,
     "metadata": {},
     "output_type": "execute_result"
    }
   ],
   "source": [
    "colors"
   ]
  },
  {
   "cell_type": "code",
   "execution_count": 158,
   "id": "bf32c93e",
   "metadata": {},
   "outputs": [],
   "source": [
    "# how can we delete a python list?\n",
    "del colors"
   ]
  },
  {
   "cell_type": "code",
   "execution_count": 159,
   "id": "c975aae4",
   "metadata": {},
   "outputs": [
    {
     "name": "stderr",
     "output_type": "stream",
     "text": [
      "UsageError: %colors: you must specify a color scheme. See '%colors?'\n"
     ]
    }
   ],
   "source": [
    "colors"
   ]
  },
  {
   "cell_type": "code",
   "execution_count": 160,
   "id": "80ddd366",
   "metadata": {},
   "outputs": [],
   "source": [
    "colors = ['caramel','gold','silver','bronze','holographic']"
   ]
  },
  {
   "cell_type": "code",
   "execution_count": 161,
   "id": "f67b3bd6",
   "metadata": {},
   "outputs": [
    {
     "data": {
      "text/plain": [
       "['caramel', 'gold', 'silver', 'bronze', 'holographic']"
      ]
     },
     "execution_count": 161,
     "metadata": {},
     "output_type": "execute_result"
    }
   ],
   "source": [
    "colors"
   ]
  },
  {
   "cell_type": "code",
   "execution_count": 162,
   "id": "3b99fc38",
   "metadata": {},
   "outputs": [],
   "source": [
    "del colors[2:4]"
   ]
  },
  {
   "cell_type": "code",
   "execution_count": 163,
   "id": "b463e206",
   "metadata": {},
   "outputs": [
    {
     "data": {
      "text/plain": [
       "['caramel', 'gold', 'holographic']"
      ]
     },
     "execution_count": 163,
     "metadata": {},
     "output_type": "execute_result"
    }
   ],
   "source": [
    "colors"
   ]
  },
  {
   "cell_type": "code",
   "execution_count": null,
   "id": "b2662aa5",
   "metadata": {},
   "outputs": [],
   "source": []
  }
 ],
 "metadata": {
  "kernelspec": {
   "display_name": "Python 3 (ipykernel)",
   "language": "python",
   "name": "python3"
  },
  "language_info": {
   "codemirror_mode": {
    "name": "ipython",
    "version": 3
   },
   "file_extension": ".py",
   "mimetype": "text/x-python",
   "name": "python",
   "nbconvert_exporter": "python",
   "pygments_lexer": "ipython3",
   "version": "3.9.2"
  }
 },
 "nbformat": 4,
 "nbformat_minor": 5
}
