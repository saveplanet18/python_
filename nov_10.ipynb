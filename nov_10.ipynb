{
 "cells": [
  {
   "cell_type": "code",
   "execution_count": 1,
   "id": "acf7c4e6",
   "metadata": {},
   "outputs": [],
   "source": [
    "life = ['love','wisdom','anxiety']"
   ]
  },
  {
   "cell_type": "code",
   "execution_count": 2,
   "id": "e7ad4428",
   "metadata": {},
   "outputs": [
    {
     "data": {
      "text/plain": [
       "['love', 'wisdom', 'anxiety']"
      ]
     },
     "execution_count": 2,
     "metadata": {},
     "output_type": "execute_result"
    }
   ],
   "source": [
    "life"
   ]
  },
  {
   "cell_type": "code",
   "execution_count": 3,
   "id": "c778083e",
   "metadata": {},
   "outputs": [
    {
     "name": "stdout",
     "output_type": "stream",
     "text": [
      "love\n",
      "wisdom\n",
      "anxiety\n"
     ]
    }
   ],
   "source": [
    "for item in life:\n",
    "    print(item)"
   ]
  },
  {
   "cell_type": "code",
   "execution_count": 4,
   "id": "1a6bd2dc",
   "metadata": {},
   "outputs": [],
   "source": [
    "arity = [1,2,3]"
   ]
  },
  {
   "cell_type": "code",
   "execution_count": 5,
   "id": "fc3fe1e6",
   "metadata": {},
   "outputs": [
    {
     "name": "stdout",
     "output_type": "stream",
     "text": [
      "[1, 2, 3]\n"
     ]
    }
   ],
   "source": [
    "print(arity)"
   ]
  },
  {
   "cell_type": "code",
   "execution_count": 6,
   "id": "0244e59e",
   "metadata": {},
   "outputs": [],
   "source": [
    "person = ['firstname',21]"
   ]
  },
  {
   "cell_type": "code",
   "execution_count": 7,
   "id": "ad1b78d3",
   "metadata": {},
   "outputs": [
    {
     "data": {
      "text/plain": [
       "'firstname'"
      ]
     },
     "execution_count": 7,
     "metadata": {},
     "output_type": "execute_result"
    }
   ],
   "source": [
    "person[0]"
   ]
  },
  {
   "cell_type": "code",
   "execution_count": 8,
   "id": "8aba6cb4",
   "metadata": {},
   "outputs": [],
   "source": [
    "pizza = ('base','sauce','cheese','mushroom')"
   ]
  },
  {
   "cell_type": "code",
   "execution_count": 10,
   "id": "9ebeb7b1",
   "metadata": {},
   "outputs": [
    {
     "data": {
      "text/plain": [
       "('base', 'sauce', 'cheese', 'mushroom')"
      ]
     },
     "execution_count": 10,
     "metadata": {},
     "output_type": "execute_result"
    }
   ],
   "source": [
    "pizza"
   ]
  },
  {
   "cell_type": "code",
   "execution_count": 12,
   "id": "ae18c148",
   "metadata": {},
   "outputs": [
    {
     "data": {
      "text/plain": [
       "'cheese'"
      ]
     },
     "execution_count": 12,
     "metadata": {},
     "output_type": "execute_result"
    }
   ],
   "source": [
    "pizza[2]"
   ]
  },
  {
   "cell_type": "code",
   "execution_count": 13,
   "id": "9db8c3f4",
   "metadata": {},
   "outputs": [
    {
     "data": {
      "text/plain": [
       "'sauce'"
      ]
     },
     "execution_count": 13,
     "metadata": {},
     "output_type": "execute_result"
    }
   ],
   "source": [
    "pizza[1]"
   ]
  },
  {
   "cell_type": "code",
   "execution_count": 17,
   "id": "19f5744b",
   "metadata": {},
   "outputs": [
    {
     "data": {
      "text/plain": [
       "'sauce'"
      ]
     },
     "execution_count": 17,
     "metadata": {},
     "output_type": "execute_result"
    }
   ],
   "source": [
    "pizza[1]"
   ]
  },
  {
   "cell_type": "markdown",
   "id": "981fff02",
   "metadata": {},
   "source": [
    "# python syntax-take your first step in the python programming"
   ]
  },
  {
   "cell_type": "code",
   "execution_count": 18,
   "id": "f7f98ec5",
   "metadata": {},
   "outputs": [
    {
     "name": "stdout",
     "output_type": "stream",
     "text": [
      "enter your name : \n",
      "25\n"
     ]
    }
   ],
   "source": [
    "print(\"enter your name : \")\n",
    "name = input()"
   ]
  },
  {
   "cell_type": "code",
   "execution_count": 19,
   "id": "c45f0850",
   "metadata": {},
   "outputs": [
    {
     "name": "stdout",
     "output_type": "stream",
     "text": [
      "enter your age : \n",
      "25\n"
     ]
    }
   ],
   "source": [
    "print(\"enter your age : \")\n",
    "age = int(input())"
   ]
  },
  {
   "cell_type": "code",
   "execution_count": 20,
   "id": "d912bda2",
   "metadata": {},
   "outputs": [
    {
     "name": "stdout",
     "output_type": "stream",
     "text": [
      "25 is eligible to vote\n"
     ]
    }
   ],
   "source": [
    "if age >= 18:\n",
    "    print(name,\"is eligible to vote\")\n",
    "else:\n",
    "    print(name,\"is not eligible to vote\")"
   ]
  },
  {
   "cell_type": "markdown",
   "id": "64a5d111",
   "metadata": {},
   "source": [
    "# types of syntax structures in python\n",
    "1. line structure\n",
    "2. docstring\n",
    "3. quotations\n",
    "4. variables\n",
    "5. comments\n",
    "6. indentation\n",
    "7. identifiers\n",
    "8. string formatters"
   ]
  },
  {
   "cell_type": "markdown",
   "id": "776802f6",
   "metadata": {},
   "source": [
    "# 1 line structure\n"
   ]
  },
  {
   "cell_type": "code",
   "execution_count": 21,
   "id": "bdf859b4",
   "metadata": {},
   "outputs": [
    {
     "ename": "SyntaxError",
     "evalue": "EOL while scanning string literal (Temp/ipykernel_8892/106677869.py, line 1)",
     "output_type": "error",
     "traceback": [
      "\u001b[1;36m  File \u001b[1;32m\"C:\\Users\\yaraz\\AppData\\Local\\Temp/ipykernel_8892/106677869.py\"\u001b[1;36m, line \u001b[1;32m1\u001b[0m\n\u001b[1;33m    print(\"hi\u001b[0m\n\u001b[1;37m             ^\u001b[0m\n\u001b[1;31mSyntaxError\u001b[0m\u001b[1;31m:\u001b[0m EOL while scanning string literal\n"
     ]
    }
   ],
   "source": [
    "print(\"hi\n",
    "      how are you?\")"
   ]
  },
  {
   "cell_type": "markdown",
   "id": "8fbdc6ec",
   "metadata": {},
   "source": [
    "# 2 python multiline statements"
   ]
  },
  {
   "cell_type": "code",
   "execution_count": 22,
   "id": "2407bf8a",
   "metadata": {},
   "outputs": [
    {
     "name": "stdout",
     "output_type": "stream",
     "text": [
      "hihow are you ?\n"
     ]
    }
   ],
   "source": [
    "print(\"hi\\\n",
    "how are you ?\")"
   ]
  },
  {
   "cell_type": "code",
   "execution_count": 23,
   "id": "e471859e",
   "metadata": {},
   "outputs": [
    {
     "name": "stdout",
     "output_type": "stream",
     "text": [
      "10\n"
     ]
    }
   ],
   "source": [
    "a\\\n",
    "=\\\n",
    "10\n",
    "print(a)"
   ]
  },
  {
   "cell_type": "code",
   "execution_count": 24,
   "id": "46ea06af",
   "metadata": {},
   "outputs": [
    {
     "name": "stdout",
     "output_type": "stream",
     "text": [
      "hi\n",
      "how are you?\n"
     ]
    }
   ],
   "source": [
    "# put the string in triple quotes\n",
    "print(\"\"\"hi\n",
    "how are you?\"\"\")"
   ]
  },
  {
   "cell_type": "code",
   "execution_count": 25,
   "id": "9b2e20a3",
   "metadata": {},
   "outputs": [
    {
     "data": {
      "text/plain": [
       "'\\x08\\n=10'"
      ]
     },
     "execution_count": 25,
     "metadata": {},
     "output_type": "execute_result"
    }
   ],
   "source": [
    "\"\"\"\\b\n",
    "=\\\n",
    "10\"\"\""
   ]
  },
  {
   "cell_type": "code",
   "execution_count": 26,
   "id": "1c16e309",
   "metadata": {},
   "outputs": [
    {
     "ename": "NameError",
     "evalue": "name 'b' is not defined",
     "output_type": "error",
     "traceback": [
      "\u001b[1;31m---------------------------------------------------------------------------\u001b[0m",
      "\u001b[1;31mNameError\u001b[0m                                 Traceback (most recent call last)",
      "\u001b[1;32m~\\AppData\\Local\\Temp/ipykernel_8892/324135452.py\u001b[0m in \u001b[0;36m<module>\u001b[1;34m\u001b[0m\n\u001b[1;32m----> 1\u001b[1;33m \u001b[0mprint\u001b[0m\u001b[1;33m(\u001b[0m\u001b[0mb\u001b[0m\u001b[1;33m)\u001b[0m\u001b[1;33m\u001b[0m\u001b[1;33m\u001b[0m\u001b[0m\n\u001b[0m",
      "\u001b[1;31mNameError\u001b[0m: name 'b' is not defined"
     ]
    }
   ],
   "source": [
    "print(b)"
   ]
  },
  {
   "cell_type": "markdown",
   "id": "4b625e40",
   "metadata": {},
   "source": [
    "# python comments"
   ]
  },
  {
   "cell_type": "code",
   "execution_count": 27,
   "id": "0c59a9f6",
   "metadata": {},
   "outputs": [],
   "source": [
    "# this is a comment\n",
    "# this is a second comment"
   ]
  },
  {
   "cell_type": "code",
   "execution_count": 28,
   "id": "4b0e4c27",
   "metadata": {},
   "outputs": [],
   "source": [
    "def func():\n",
    "    \"\"\"\n",
    "    this function prints out a greeting\n",
    "    \"\"\"\n",
    "    print(\"hi\")\n",
    "    "
   ]
  },
  {
   "cell_type": "code",
   "execution_count": 29,
   "id": "d7ca01e0",
   "metadata": {},
   "outputs": [
    {
     "name": "stdout",
     "output_type": "stream",
     "text": [
      "hi\n"
     ]
    }
   ],
   "source": [
    "func()"
   ]
  },
  {
   "cell_type": "markdown",
   "id": "160793ce",
   "metadata": {},
   "source": [
    "# python indentation"
   ]
  },
  {
   "cell_type": "code",
   "execution_count": 30,
   "id": "ebfd985d",
   "metadata": {},
   "outputs": [
    {
     "name": "stdout",
     "output_type": "stream",
     "text": [
      "2 is the bigger person:\n",
      "but 1 is worthy too.\n"
     ]
    }
   ],
   "source": [
    "if 2 > 1:\n",
    "    print(\"2 is the bigger person:\")\n",
    "    print(\"but 1 is worthy too.\")"
   ]
  },
  {
   "cell_type": "code",
   "execution_count": 33,
   "id": "23155451",
   "metadata": {},
   "outputs": [
    {
     "ename": "IndentationError",
     "evalue": "unindent does not match any outer indentation level (<tokenize>, line 3)",
     "output_type": "error",
     "traceback": [
      "\u001b[1;36m  File \u001b[1;32m\"<tokenize>\"\u001b[1;36m, line \u001b[1;32m3\u001b[0m\n\u001b[1;33m    print(\"but i is worthy too.\")\u001b[0m\n\u001b[1;37m    ^\u001b[0m\n\u001b[1;31mIndentationError\u001b[0m\u001b[1;31m:\u001b[0m unindent does not match any outer indentation level\n"
     ]
    }
   ],
   "source": [
    "if 2 > 1:\n",
    "    print(\"2 is the bigger person\")\n",
    " print(\"but i is worthy too.\")"
   ]
  },
  {
   "cell_type": "markdown",
   "id": "65b9bd60",
   "metadata": {},
   "source": [
    "# python multiple statement is one line"
   ]
  },
  {
   "cell_type": "code",
   "execution_count": 35,
   "id": "5f540cdc",
   "metadata": {},
   "outputs": [
    {
     "name": "stdout",
     "output_type": "stream",
     "text": [
      "7\n"
     ]
    }
   ],
   "source": [
    "a = 7 ; print(a)"
   ]
  },
  {
   "cell_type": "markdown",
   "id": "04f08272",
   "metadata": {},
   "source": [
    "# python quotation"
   ]
  },
  {
   "cell_type": "code",
   "execution_count": 36,
   "id": "7c4d038c",
   "metadata": {},
   "outputs": [
    {
     "name": "stdout",
     "output_type": "stream",
     "text": [
      "we need a chaperone\n"
     ]
    }
   ],
   "source": [
    "print(\"we need a chaperone\")"
   ]
  },
  {
   "cell_type": "code",
   "execution_count": 37,
   "id": "c6d9dfd2",
   "metadata": {},
   "outputs": [
    {
     "name": "stdout",
     "output_type": "stream",
     "text": [
      "this is my word\n"
     ]
    }
   ],
   "source": [
    "print('this is my word')"
   ]
  },
  {
   "cell_type": "code",
   "execution_count": 38,
   "id": "669cff09",
   "metadata": {},
   "outputs": [
    {
     "name": "stdout",
     "output_type": "stream",
     "text": [
      "this is my 'word'\n"
     ]
    }
   ],
   "source": [
    "print(\"this is my 'word'\")"
   ]
  },
  {
   "cell_type": "code",
   "execution_count": 39,
   "id": "071fd91f",
   "metadata": {},
   "outputs": [
    {
     "ename": "SyntaxError",
     "evalue": "invalid syntax (Temp/ipykernel_8892/1606750108.py, line 1)",
     "output_type": "error",
     "traceback": [
      "\u001b[1;36m  File \u001b[1;32m\"C:\\Users\\yaraz\\AppData\\Local\\Temp/ipykernel_8892/1606750108.py\"\u001b[1;36m, line \u001b[1;32m1\u001b[0m\n\u001b[1;33m    print(\"we need a \"chaperone\"\")\u001b[0m\n\u001b[1;37m                      ^\u001b[0m\n\u001b[1;31mSyntaxError\u001b[0m\u001b[1;31m:\u001b[0m invalid syntax\n"
     ]
    }
   ],
   "source": [
    "print(\"we need a \"chaperone\"\")"
   ]
  },
  {
   "cell_type": "markdown",
   "id": "86de7549",
   "metadata": {},
   "source": [
    "# python blank lines"
   ]
  },
  {
   "cell_type": "code",
   "execution_count": 40,
   "id": "016c3fb6",
   "metadata": {},
   "outputs": [],
   "source": [
    "# python interpreter will ignore it\n"
   ]
  },
  {
   "cell_type": "markdown",
   "id": "27de9df0",
   "metadata": {},
   "source": [
    "# python identifiers\n",
    "1. and def false import not True\n",
    "2. as del finally in or try\n",
    "3. assert elif for is pass while\n",
    "4. break else from lambda print with\n",
    "5. class except global None raise yield\n",
    "6. continue exec if nonlocal return"
   ]
  },
  {
   "cell_type": "markdown",
   "id": "a0c098e5",
   "metadata": {},
   "source": [
    "# 10 python variable"
   ]
  },
  {
   "cell_type": "code",
   "execution_count": 41,
   "id": "ce511767",
   "metadata": {},
   "outputs": [
    {
     "name": "stdout",
     "output_type": "stream",
     "text": [
      "10\n"
     ]
    }
   ],
   "source": [
    "x = 10\n",
    "print(x)"
   ]
  },
  {
   "cell_type": "code",
   "execution_count": 42,
   "id": "ba916567",
   "metadata": {},
   "outputs": [
    {
     "name": "stdout",
     "output_type": "stream",
     "text": [
      "hello\n"
     ]
    }
   ],
   "source": [
    "x = 'hello'\n",
    "print(x)"
   ]
  },
  {
   "cell_type": "code",
   "execution_count": 43,
   "id": "63b9647b",
   "metadata": {},
   "outputs": [
    {
     "name": "stdout",
     "output_type": "stream",
     "text": [
      "i just printed 10 page to the printer hp\n"
     ]
    }
   ],
   "source": [
    "x = 10; printer = \"hp\"\n",
    "print(\"i just printed %s page to the printer %s\" % (x, printer))"
   ]
  },
  {
   "cell_type": "code",
   "execution_count": 44,
   "id": "d62be8cf",
   "metadata": {},
   "outputs": [],
   "source": [
    "name = \"renukadevi\" ; age = 10000000"
   ]
  },
  {
   "cell_type": "code",
   "execution_count": 46,
   "id": "390bc1fa",
   "metadata": {},
   "outputs": [
    {
     "name": "stdout",
     "output_type": "stream",
     "text": [
      "my name is renukadevi and age is 10000000\n"
     ]
    }
   ],
   "source": [
    "print(\"my name is %s and age is %s\" % (name,age))"
   ]
  },
  {
   "cell_type": "markdown",
   "id": "470cec99",
   "metadata": {},
   "source": [
    "# python string formatters\n",
    "1. % operator\n",
    "2. format method\n",
    "3. f-string"
   ]
  },
  {
   "cell_type": "code",
   "execution_count": 47,
   "id": "8bc63967",
   "metadata": {},
   "outputs": [],
   "source": [
    "name = \"malingray prasanna\" ; age = 2500000"
   ]
  },
  {
   "cell_type": "code",
   "execution_count": 48,
   "id": "aebc7161",
   "metadata": {},
   "outputs": [
    {
     "name": "stdout",
     "output_type": "stream",
     "text": [
      "my name is malingray prasanna and i am 2500000 year old.\n"
     ]
    }
   ],
   "source": [
    "print(\"my name is %s and i am %s year old.\" % (name, age))"
   ]
  },
  {
   "cell_type": "code",
   "execution_count": 49,
   "id": "5015a526",
   "metadata": {},
   "outputs": [],
   "source": [
    "x = 10 ; printer = 'HP'"
   ]
  },
  {
   "cell_type": "code",
   "execution_count": 50,
   "id": "0b9f09ad",
   "metadata": {},
   "outputs": [
    {
     "name": "stdout",
     "output_type": "stream",
     "text": [
      "i just printed 10 page to the printer HP\n"
     ]
    }
   ],
   "source": [
    "print(\"i just printed %s page to the printer %s\" % (x, printer))"
   ]
  },
  {
   "cell_type": "code",
   "execution_count": 51,
   "id": "fba2e83a",
   "metadata": {},
   "outputs": [
    {
     "name": "stdout",
     "output_type": "stream",
     "text": [
      "i just printed 10 pages to the printer HP\n"
     ]
    }
   ],
   "source": [
    "# format method\n",
    "print(\"i just printed {0} pages to the printer {1}\".format(x,printer))"
   ]
  },
  {
   "cell_type": "code",
   "execution_count": 52,
   "id": "3a7aad68",
   "metadata": {},
   "outputs": [
    {
     "name": "stdout",
     "output_type": "stream",
     "text": [
      "i just printed7 pages to the printer HP\n"
     ]
    }
   ],
   "source": [
    "print(\"i just printed{x} pages to the printer {printer}\".format(x = 7, printer = \"HP\"))"
   ]
  },
  {
   "cell_type": "code",
   "execution_count": 53,
   "id": "ccf8b41d",
   "metadata": {},
   "outputs": [
    {
     "name": "stdout",
     "output_type": "stream",
     "text": [
      "i just printed 10 pages to the printer HP\n"
     ]
    }
   ],
   "source": [
    "print(\"i just printed {0} pages to the printer {1}\".format(x,printer))"
   ]
  },
  {
   "cell_type": "code",
   "execution_count": 54,
   "id": "eab31830",
   "metadata": {},
   "outputs": [
    {
     "name": "stdout",
     "output_type": "stream",
     "text": [
      "i just printed 10 pages to the printer HP\n"
     ]
    }
   ],
   "source": [
    "print(f\"i just printed {x} pages to the printer {printer}\")"
   ]
  },
  {
   "cell_type": "markdown",
   "id": "3a334459",
   "metadata": {},
   "source": [
    "# python comment | python indentation | python\n",
    "1. multiline statement\n",
    "2. multiple statement in one ine\n",
    "3. string statement\n",
    "4. blank python statement"
   ]
  },
  {
   "cell_type": "code",
   "execution_count": 57,
   "id": "844cc1cc",
   "metadata": {},
   "outputs": [],
   "source": [
    "# python comment,python indentation, python statement\n",
    "#1. multiline statement\n",
    "a*=3"
   ]
  },
  {
   "cell_type": "code",
   "execution_count": 58,
   "id": "ae6e4c13",
   "metadata": {},
   "outputs": [
    {
     "data": {
      "text/plain": [
       "21"
      ]
     },
     "execution_count": 58,
     "metadata": {},
     "output_type": "execute_result"
    }
   ],
   "source": [
    "a"
   ]
  },
  {
   "cell_type": "code",
   "execution_count": 3,
   "id": "4c619d2e",
   "metadata": {},
   "outputs": [],
   "source": [
    "a = 3"
   ]
  },
  {
   "cell_type": "code",
   "execution_count": 4,
   "id": "fcc8d74d",
   "metadata": {},
   "outputs": [],
   "source": [
    "a*=3"
   ]
  },
  {
   "cell_type": "code",
   "execution_count": 5,
   "id": "a5f833bb",
   "metadata": {},
   "outputs": [
    {
     "data": {
      "text/plain": [
       "9"
      ]
     },
     "execution_count": 5,
     "metadata": {},
     "output_type": "execute_result"
    }
   ],
   "source": [
    "a"
   ]
  },
  {
   "cell_type": "code",
   "execution_count": 6,
   "id": "205136c0",
   "metadata": {},
   "outputs": [],
   "source": [
    "a = a*5"
   ]
  },
  {
   "cell_type": "code",
   "execution_count": 7,
   "id": "46682f6a",
   "metadata": {},
   "outputs": [
    {
     "data": {
      "text/plain": [
       "45"
      ]
     },
     "execution_count": 7,
     "metadata": {},
     "output_type": "execute_result"
    }
   ],
   "source": [
    "a"
   ]
  },
  {
   "cell_type": "code",
   "execution_count": 8,
   "id": "c7912705",
   "metadata": {},
   "outputs": [],
   "source": [
    "a*=2"
   ]
  },
  {
   "cell_type": "code",
   "execution_count": 9,
   "id": "8de0c641",
   "metadata": {},
   "outputs": [
    {
     "data": {
      "text/plain": [
       "90"
      ]
     },
     "execution_count": 9,
     "metadata": {},
     "output_type": "execute_result"
    }
   ],
   "source": [
    "a"
   ]
  },
  {
   "cell_type": "code",
   "execution_count": 10,
   "id": "5d2c8ec0",
   "metadata": {},
   "outputs": [],
   "source": [
    "a*=5"
   ]
  },
  {
   "cell_type": "code",
   "execution_count": 11,
   "id": "719d6ed6",
   "metadata": {},
   "outputs": [
    {
     "data": {
      "text/plain": [
       "450"
      ]
     },
     "execution_count": 11,
     "metadata": {},
     "output_type": "execute_result"
    }
   ],
   "source": [
    "a"
   ]
  },
  {
   "cell_type": "code",
   "execution_count": 12,
   "id": "41d4f921",
   "metadata": {},
   "outputs": [],
   "source": [
    "a=\\\n",
    "10\\\n",
    "+20"
   ]
  },
  {
   "cell_type": "code",
   "execution_count": 13,
   "id": "b782ea6b",
   "metadata": {},
   "outputs": [
    {
     "data": {
      "text/plain": [
       "30"
      ]
     },
     "execution_count": 13,
     "metadata": {},
     "output_type": "execute_result"
    }
   ],
   "source": [
    "a"
   ]
  },
  {
   "cell_type": "code",
   "execution_count": 14,
   "id": "823a3462",
   "metadata": {},
   "outputs": [
    {
     "data": {
      "text/plain": [
       "'hellohi'"
      ]
     },
     "execution_count": 14,
     "metadata": {},
     "output_type": "execute_result"
    }
   ],
   "source": [
    "\"hello\\\n",
    "hi\""
   ]
  },
  {
   "cell_type": "code",
   "execution_count": 15,
   "id": "db300842",
   "metadata": {},
   "outputs": [],
   "source": [
    "a = (\n",
    "10+\n",
    "20)"
   ]
  },
  {
   "cell_type": "code",
   "execution_count": 16,
   "id": "b8a8fe4d",
   "metadata": {},
   "outputs": [
    {
     "data": {
      "text/plain": [
       "30"
      ]
     },
     "execution_count": 16,
     "metadata": {},
     "output_type": "execute_result"
    }
   ],
   "source": [
    "a"
   ]
  },
  {
   "cell_type": "code",
   "execution_count": 17,
   "id": "ceb14fae",
   "metadata": {},
   "outputs": [
    {
     "data": {
      "text/plain": [
       "int"
      ]
     },
     "execution_count": 17,
     "metadata": {},
     "output_type": "execute_result"
    }
   ],
   "source": [
    "type(a)"
   ]
  },
  {
   "cell_type": "markdown",
   "id": "795942b6",
   "metadata": {},
   "source": [
    "# multiline statement"
   ]
  },
  {
   "cell_type": "code",
   "execution_count": 1,
   "id": "fdd9f9e8",
   "metadata": {},
   "outputs": [
    {
     "name": "stdout",
     "output_type": "stream",
     "text": [
      "7\n"
     ]
    }
   ],
   "source": [
    "# u can put multiple statement in pyton on one line\n",
    "a = 7 ; print(a)"
   ]
  },
  {
   "cell_type": "code",
   "execution_count": 4,
   "id": "b11605df",
   "metadata": {},
   "outputs": [
    {
     "name": "stdout",
     "output_type": "stream",
     "text": [
      "7\n"
     ]
    }
   ],
   "source": [
    "if a < 8:\n",
    "    print(a)"
   ]
  },
  {
   "cell_type": "code",
   "execution_count": 5,
   "id": "d55e2809",
   "metadata": {},
   "outputs": [
    {
     "data": {
      "text/plain": [
       "\"hello 'user'\""
      ]
     },
     "execution_count": 5,
     "metadata": {},
     "output_type": "execute_result"
    }
   ],
   "source": [
    "# string python statement\n",
    "\"hello 'user'\""
   ]
  },
  {
   "cell_type": "code",
   "execution_count": 6,
   "id": "d1cfee5f",
   "metadata": {},
   "outputs": [],
   "source": [
    "# blanck lines python statements\n",
    "if 2 < 1 :\n",
    "    print(\"2\")"
   ]
  },
  {
   "cell_type": "code",
   "execution_count": 7,
   "id": "2e532f52",
   "metadata": {},
   "outputs": [
    {
     "name": "stdout",
     "output_type": "stream",
     "text": [
      "2\n"
     ]
    }
   ],
   "source": [
    "if 2 > 1:\n",
    "    print(\"2\")"
   ]
  },
  {
   "cell_type": "code",
   "execution_count": 8,
   "id": "bd871605",
   "metadata": {},
   "outputs": [
    {
     "name": "stdout",
     "output_type": "stream",
     "text": [
      "1\n",
      "2\n"
     ]
    }
   ],
   "source": [
    "if 2 > 1:\n",
    "    print(\"1\")\n",
    "    print(\"2\")"
   ]
  },
  {
   "cell_type": "markdown",
   "id": "4437e238",
   "metadata": {},
   "source": [
    "# python comment\n",
    "1. multiline comment\n",
    "2. docstring comment"
   ]
  },
  {
   "cell_type": "code",
   "execution_count": 9,
   "id": "dacbae7a",
   "metadata": {},
   "outputs": [],
   "source": [
    "# this is a comment\n",
    "# line 1 of comment\n",
    "# line 2 of comment\n",
    "# line 3 of comment\n",
    "# line 4 of comment"
   ]
  },
  {
   "cell_type": "code",
   "execution_count": 10,
   "id": "de3a5073",
   "metadata": {},
   "outputs": [
    {
     "data": {
      "text/plain": [
       "'this comment is spanned across multiple lines'"
      ]
     },
     "execution_count": 10,
     "metadata": {},
     "output_type": "execute_result"
    }
   ],
   "source": [
    "\"\"\"this comment is spanned across multiple lines\"\"\""
   ]
  },
  {
   "cell_type": "code",
   "execution_count": 11,
   "id": "43400ccb",
   "metadata": {},
   "outputs": [
    {
     "name": "stdout",
     "output_type": "stream",
     "text": [
      "i am bright person..\n"
     ]
    }
   ],
   "source": [
    "print(\"i am bright person..\")"
   ]
  },
  {
   "cell_type": "code",
   "execution_count": 12,
   "id": "8bf85b7c",
   "metadata": {},
   "outputs": [
    {
     "name": "stdout",
     "output_type": "stream",
     "text": [
      "hello word \n"
     ]
    }
   ],
   "source": [
    "print(\"hello word \")"
   ]
  },
  {
   "cell_type": "code",
   "execution_count": 13,
   "id": "1e8959c6",
   "metadata": {},
   "outputs": [
    {
     "name": "stdout",
     "output_type": "stream",
     "text": [
      "hi \n",
      "this is my word..\n"
     ]
    }
   ],
   "source": [
    "print(\"\"\"hi \n",
    "this is my word..\"\"\")"
   ]
  },
  {
   "cell_type": "code",
   "execution_count": 14,
   "id": "21bd6ec3",
   "metadata": {},
   "outputs": [
    {
     "name": "stdout",
     "output_type": "stream",
     "text": [
      "my name is manjunath kannur\n",
      "i am software developer and i am start-company\n"
     ]
    }
   ],
   "source": [
    "print(\"\"\"my name is manjunath kannur\n",
    "i am software developer and i am start-company\"\"\")"
   ]
  },
  {
   "cell_type": "markdown",
   "id": "8244fe2b",
   "metadata": {},
   "source": [
    "# dostring python comment"
   ]
  },
  {
   "cell_type": "code",
   "execution_count": 15,
   "id": "2bb19619",
   "metadata": {},
   "outputs": [
    {
     "name": "stdout",
     "output_type": "stream",
     "text": [
      "hi hello\n"
     ]
    }
   ],
   "source": [
    "def sayhi():\n",
    "    \"\"\"\n",
    "    this function prints hi\n",
    "    \"\"\"\n",
    "    print(\"hi hello\")\n",
    "sayhi()"
   ]
  },
  {
   "cell_type": "code",
   "execution_count": 16,
   "id": "e3b26c71",
   "metadata": {},
   "outputs": [
    {
     "data": {
      "text/plain": [
       "'\\n    this function prints hi\\n    '"
      ]
     },
     "execution_count": 16,
     "metadata": {},
     "output_type": "execute_result"
    }
   ],
   "source": [
    "sayhi.__doc__"
   ]
  },
  {
   "cell_type": "code",
   "execution_count": 17,
   "id": "b5eb7514",
   "metadata": {},
   "outputs": [
    {
     "name": "stdout",
     "output_type": "stream",
     "text": [
      "hi\n"
     ]
    }
   ],
   "source": [
    "def sayhi():\n",
    "    print(\"hi\")\n",
    "    \"\"\"\n",
    "    this function prints hi\"\"\"\n",
    "sayhi()"
   ]
  },
  {
   "cell_type": "code",
   "execution_count": 21,
   "id": "b75e2d0a",
   "metadata": {},
   "outputs": [
    {
     "name": "stdout",
     "output_type": "stream",
     "text": [
      "hi\n"
     ]
    }
   ],
   "source": [
    "sayhi().__doc__"
   ]
  },
  {
   "cell_type": "code",
   "execution_count": 19,
   "id": "71ef1ded",
   "metadata": {},
   "outputs": [
    {
     "name": "stdout",
     "output_type": "stream",
     "text": [
      "hi\n"
     ]
    }
   ],
   "source": [
    "def show():\n",
    "    print(\"hi\")\n",
    "    \"\"\"this is my word\"\"\"\n",
    "show()"
   ]
  },
  {
   "cell_type": "code",
   "execution_count": 22,
   "id": "b28c2e88",
   "metadata": {},
   "outputs": [],
   "source": [
    "show.__doc__"
   ]
  },
  {
   "cell_type": "markdown",
   "id": "730f881f",
   "metadata": {},
   "source": [
    "# python variables and data types"
   ]
  },
  {
   "cell_type": "code",
   "execution_count": 23,
   "id": "f384dda4",
   "metadata": {},
   "outputs": [
    {
     "data": {
      "text/plain": [
       "int"
      ]
     },
     "execution_count": 23,
     "metadata": {},
     "output_type": "execute_result"
    }
   ],
   "source": [
    "x = 45\n",
    "type(x)"
   ]
  },
  {
   "cell_type": "code",
   "execution_count": 24,
   "id": "9336e887",
   "metadata": {},
   "outputs": [],
   "source": [
    "name = \"renukadevi prasanna\""
   ]
  },
  {
   "cell_type": "code",
   "execution_count": 25,
   "id": "72f556ba",
   "metadata": {},
   "outputs": [
    {
     "name": "stdout",
     "output_type": "stream",
     "text": [
      "<class 'str'>\n"
     ]
    }
   ],
   "source": [
    "print(type(name))"
   ]
  },
  {
   "cell_type": "code",
   "execution_count": 26,
   "id": "c82cb839",
   "metadata": {},
   "outputs": [],
   "source": [
    "nums = [1,8.5,9]"
   ]
  },
  {
   "cell_type": "code",
   "execution_count": 27,
   "id": "01260a72",
   "metadata": {},
   "outputs": [
    {
     "name": "stdout",
     "output_type": "stream",
     "text": [
      "<class 'list'>\n"
     ]
    }
   ],
   "source": [
    "print(type(nums))"
   ]
  },
  {
   "cell_type": "markdown",
   "id": "f0339588",
   "metadata": {},
   "source": [
    "# python variables naming rules"
   ]
  },
  {
   "cell_type": "code",
   "execution_count": 28,
   "id": "f93f0d06",
   "metadata": {},
   "outputs": [
    {
     "ename": "SyntaxError",
     "evalue": "invalid syntax (Temp/ipykernel_11076/2232563625.py, line 1)",
     "output_type": "error",
     "traceback": [
      "\u001b[1;36m  File \u001b[1;32m\"C:\\Users\\yaraz\\AppData\\Local\\Temp/ipykernel_11076/2232563625.py\"\u001b[1;36m, line \u001b[1;32m1\u001b[0m\n\u001b[1;33m    9lives = 9\u001b[0m\n\u001b[1;37m     ^\u001b[0m\n\u001b[1;31mSyntaxError\u001b[0m\u001b[1;31m:\u001b[0m invalid syntax\n"
     ]
    }
   ],
   "source": [
    "9lives = 9"
   ]
  },
  {
   "cell_type": "code",
   "execution_count": 29,
   "id": "c1c70e0a",
   "metadata": {},
   "outputs": [],
   "source": [
    "flag = 0"
   ]
  },
  {
   "cell_type": "code",
   "execution_count": 30,
   "id": "f96259e0",
   "metadata": {},
   "outputs": [
    {
     "name": "stdout",
     "output_type": "stream",
     "text": [
      "0\n"
     ]
    }
   ],
   "source": [
    "print(flag)"
   ]
  },
  {
   "cell_type": "code",
   "execution_count": 31,
   "id": "6f835ba0",
   "metadata": {},
   "outputs": [],
   "source": [
    "_9lives = \"cat\""
   ]
  },
  {
   "cell_type": "code",
   "execution_count": 32,
   "id": "bfb7a798",
   "metadata": {},
   "outputs": [
    {
     "name": "stdout",
     "output_type": "stream",
     "text": [
      "cat\n"
     ]
    }
   ],
   "source": [
    "print(_9lives)"
   ]
  },
  {
   "cell_type": "code",
   "execution_count": 33,
   "id": "f9133dab",
   "metadata": {},
   "outputs": [],
   "source": [
    "year2 = \"kannur\""
   ]
  },
  {
   "cell_type": "code",
   "execution_count": 34,
   "id": "61deaf16",
   "metadata": {},
   "outputs": [
    {
     "data": {
      "text/plain": [
       "'kannur'"
      ]
     },
     "execution_count": 34,
     "metadata": {},
     "output_type": "execute_result"
    }
   ],
   "source": [
    "year2"
   ]
  },
  {
   "cell_type": "code",
   "execution_count": 35,
   "id": "71c78a4f",
   "metadata": {},
   "outputs": [
    {
     "ename": "SyntaxError",
     "evalue": "invalid syntax (Temp/ipykernel_11076/3052307896.py, line 1)",
     "output_type": "error",
     "traceback": [
      "\u001b[1;36m  File \u001b[1;32m\"C:\\Users\\yaraz\\AppData\\Local\\Temp/ipykernel_11076/3052307896.py\"\u001b[1;36m, line \u001b[1;32m1\u001b[0m\n\u001b[1;33m    _$$ = 44\u001b[0m\n\u001b[1;37m     ^\u001b[0m\n\u001b[1;31mSyntaxError\u001b[0m\u001b[1;31m:\u001b[0m invalid syntax\n"
     ]
    }
   ],
   "source": [
    "_$$ = 44"
   ]
  },
  {
   "cell_type": "code",
   "execution_count": 36,
   "id": "e84f5aed",
   "metadata": {},
   "outputs": [],
   "source": [
    "name = \"renukadevi prasanna\""
   ]
  },
  {
   "cell_type": "code",
   "execution_count": 37,
   "id": "74c44b05",
   "metadata": {},
   "outputs": [
    {
     "name": "stdout",
     "output_type": "stream",
     "text": [
      "renukadevi prasanna\n"
     ]
    }
   ],
   "source": [
    "print(name)"
   ]
  },
  {
   "cell_type": "code",
   "execution_count": 38,
   "id": "c6f46145",
   "metadata": {},
   "outputs": [
    {
     "name": "stdout",
     "output_type": "stream",
     "text": [
      "<class 'str'>\n"
     ]
    }
   ],
   "source": [
    "print(type(name))"
   ]
  },
  {
   "cell_type": "markdown",
   "id": "c6bbda3f",
   "metadata": {},
   "source": [
    "# Assigning & Reassigning python variable"
   ]
  },
  {
   "cell_type": "code",
   "execution_count": 39,
   "id": "f6be7d98",
   "metadata": {},
   "outputs": [
    {
     "name": "stdout",
     "output_type": "stream",
     "text": [
      "7\n"
     ]
    }
   ],
   "source": [
    "a = 7\n",
    "print(a)"
   ]
  },
  {
   "cell_type": "code",
   "execution_count": 40,
   "id": "1e0055cb",
   "metadata": {},
   "outputs": [
    {
     "name": "stdout",
     "output_type": "stream",
     "text": [
      "<class 'int'>\n"
     ]
    }
   ],
   "source": [
    "print(type(a))"
   ]
  },
  {
   "cell_type": "code",
   "execution_count": 41,
   "id": "fe310c3c",
   "metadata": {},
   "outputs": [
    {
     "name": "stdout",
     "output_type": "stream",
     "text": [
      "<class 'str'>\n"
     ]
    }
   ],
   "source": [
    "age = 'Dinosaur'\n",
    "print(type(age))"
   ]
  },
  {
   "cell_type": "code",
   "execution_count": 42,
   "id": "4ff6e85a",
   "metadata": {},
   "outputs": [
    {
     "ename": "SyntaxError",
     "evalue": "cannot assign to literal (Temp/ipykernel_11076/225704299.py, line 1)",
     "output_type": "error",
     "traceback": [
      "\u001b[1;36m  File \u001b[1;32m\"C:\\Users\\yaraz\\AppData\\Local\\Temp/ipykernel_11076/225704299.py\"\u001b[1;36m, line \u001b[1;32m1\u001b[0m\n\u001b[1;33m    7 = age\u001b[0m\n\u001b[1;37m    ^\u001b[0m\n\u001b[1;31mSyntaxError\u001b[0m\u001b[1;31m:\u001b[0m cannot assign to literal\n"
     ]
    }
   ],
   "source": [
    "7 = age"
   ]
  },
  {
   "cell_type": "code",
   "execution_count": 43,
   "id": "33adafb5",
   "metadata": {},
   "outputs": [
    {
     "ename": "SyntaxError",
     "evalue": "cannot assign to False (Temp/ipykernel_11076/1040488864.py, line 1)",
     "output_type": "error",
     "traceback": [
      "\u001b[1;36m  File \u001b[1;32m\"C:\\Users\\yaraz\\AppData\\Local\\Temp/ipykernel_11076/1040488864.py\"\u001b[1;36m, line \u001b[1;32m1\u001b[0m\n\u001b[1;33m    False = choice\u001b[0m\n\u001b[1;37m    ^\u001b[0m\n\u001b[1;31mSyntaxError\u001b[0m\u001b[1;31m:\u001b[0m cannot assign to False\n"
     ]
    }
   ],
   "source": [
    "False = choice"
   ]
  },
  {
   "cell_type": "code",
   "execution_count": 44,
   "id": "f4e2c3c2",
   "metadata": {},
   "outputs": [
    {
     "name": "stdout",
     "output_type": "stream",
     "text": [
      "21 indore\n"
     ]
    }
   ],
   "source": [
    "# multline Assignment\n",
    "age , city = 21 , 'indore'\n",
    "print(age,city)"
   ]
  },
  {
   "cell_type": "code",
   "execution_count": 45,
   "id": "3f7e3df3",
   "metadata": {},
   "outputs": [],
   "source": [
    "age = fav = 7"
   ]
  },
  {
   "cell_type": "code",
   "execution_count": 46,
   "id": "b044e917",
   "metadata": {},
   "outputs": [
    {
     "name": "stdout",
     "output_type": "stream",
     "text": [
      "7\n",
      "7\n"
     ]
    }
   ],
   "source": [
    "print(age)\n",
    "print(fav)"
   ]
  },
  {
   "cell_type": "markdown",
   "id": "33f73944",
   "metadata": {},
   "source": [
    "# swapping variables"
   ]
  },
  {
   "cell_type": "code",
   "execution_count": 47,
   "id": "44911b29",
   "metadata": {},
   "outputs": [
    {
     "name": "stdout",
     "output_type": "stream",
     "text": [
      "blue red\n"
     ]
    }
   ],
   "source": [
    "a, b = 'red','blue'\n",
    "a,b = b,a\n",
    "print(a,b)"
   ]
  },
  {
   "cell_type": "code",
   "execution_count": 48,
   "id": "cce38ef1",
   "metadata": {},
   "outputs": [
    {
     "ename": "NameError",
     "evalue": "name 'a' is not defined",
     "output_type": "error",
     "traceback": [
      "\u001b[1;31m---------------------------------------------------------------------------\u001b[0m",
      "\u001b[1;31mNameError\u001b[0m                                 Traceback (most recent call last)",
      "\u001b[1;32m~\\AppData\\Local\\Temp/ipykernel_11076/3344742077.py\u001b[0m in \u001b[0;36m<module>\u001b[1;34m\u001b[0m\n\u001b[0;32m      2\u001b[0m \u001b[0ma\u001b[0m \u001b[1;33m=\u001b[0m \u001b[1;34m'red'\u001b[0m\u001b[1;33m\u001b[0m\u001b[1;33m\u001b[0m\u001b[0m\n\u001b[0;32m      3\u001b[0m \u001b[1;32mdel\u001b[0m \u001b[0ma\u001b[0m\u001b[1;33m\u001b[0m\u001b[1;33m\u001b[0m\u001b[0m\n\u001b[1;32m----> 4\u001b[1;33m \u001b[0ma\u001b[0m\u001b[1;33m\u001b[0m\u001b[1;33m\u001b[0m\u001b[0m\n\u001b[0m",
      "\u001b[1;31mNameError\u001b[0m: name 'a' is not defined"
     ]
    }
   ],
   "source": [
    "# deleting variables\n",
    "a = 'red'\n",
    "del a\n",
    "a"
   ]
  },
  {
   "cell_type": "code",
   "execution_count": 49,
   "id": "ee728861",
   "metadata": {},
   "outputs": [],
   "source": [
    "name = 'manjunath'"
   ]
  },
  {
   "cell_type": "code",
   "execution_count": 50,
   "id": "16cc4306",
   "metadata": {},
   "outputs": [],
   "source": [
    "del name"
   ]
  },
  {
   "cell_type": "code",
   "execution_count": 51,
   "id": "58e18eab",
   "metadata": {},
   "outputs": [
    {
     "ename": "NameError",
     "evalue": "name 'name' is not defined",
     "output_type": "error",
     "traceback": [
      "\u001b[1;31m---------------------------------------------------------------------------\u001b[0m",
      "\u001b[1;31mNameError\u001b[0m                                 Traceback (most recent call last)",
      "\u001b[1;32m~\\AppData\\Local\\Temp/ipykernel_11076/3474671970.py\u001b[0m in \u001b[0;36m<module>\u001b[1;34m\u001b[0m\n\u001b[1;32m----> 1\u001b[1;33m \u001b[0mname\u001b[0m\u001b[1;33m\u001b[0m\u001b[1;33m\u001b[0m\u001b[0m\n\u001b[0m",
      "\u001b[1;31mNameError\u001b[0m: name 'name' is not defined"
     ]
    }
   ],
   "source": [
    "name"
   ]
  },
  {
   "cell_type": "markdown",
   "id": "ed7c8984",
   "metadata": {},
   "source": [
    "# python variables and data type\n",
    "1. introduction to variables\n",
    "2. data types\n",
    "3. type conversion\n",
    "4. local and global variable"
   ]
  },
  {
   "cell_type": "markdown",
   "id": "bd0e5cf5",
   "metadata": {},
   "source": [
    "# python data types\n",
    "# python numbers"
   ]
  },
  {
   "cell_type": "code",
   "execution_count": 52,
   "id": "34683c67",
   "metadata": {},
   "outputs": [
    {
     "name": "stdout",
     "output_type": "stream",
     "text": [
      "<class 'int'>\n"
     ]
    }
   ],
   "source": [
    "a = -7\n",
    "print(type(a))"
   ]
  },
  {
   "cell_type": "code",
   "execution_count": 53,
   "id": "6a16c72e",
   "metadata": {},
   "outputs": [
    {
     "name": "stdout",
     "output_type": "stream",
     "text": [
      "<class 'int'>\n"
     ]
    }
   ],
   "source": [
    "a = 99999999999999999999999999999999999999999999999999999\n",
    "print(type(a))"
   ]
  },
  {
   "cell_type": "code",
   "execution_count": 54,
   "id": "4c709318",
   "metadata": {},
   "outputs": [
    {
     "name": "stdout",
     "output_type": "stream",
     "text": [
      "<class 'float'>\n"
     ]
    }
   ],
   "source": [
    "# float\n",
    "a = 3.0\n",
    "print(type(a))"
   ]
  },
  {
   "cell_type": "code",
   "execution_count": 55,
   "id": "031484a1",
   "metadata": {},
   "outputs": [
    {
     "name": "stdout",
     "output_type": "stream",
     "text": [
      "(2+3j)\n"
     ]
    }
   ],
   "source": [
    "# complex numbers\n",
    "a = 2+3j\n",
    "print(a)"
   ]
  },
  {
   "cell_type": "code",
   "execution_count": 56,
   "id": "e6ec0e8b",
   "metadata": {},
   "outputs": [
    {
     "name": "stdout",
     "output_type": "stream",
     "text": [
      "<class 'complex'>\n"
     ]
    }
   ],
   "source": [
    "print(type(a))"
   ]
  },
  {
   "cell_type": "code",
   "execution_count": 57,
   "id": "33c7ba14",
   "metadata": {},
   "outputs": [
    {
     "name": "stdout",
     "output_type": "stream",
     "text": [
      "True\n"
     ]
    }
   ],
   "source": [
    "print(isinstance(a,complex))"
   ]
  },
  {
   "cell_type": "markdown",
   "id": "6a219c58",
   "metadata": {},
   "source": [
    "# strings"
   ]
  },
  {
   "cell_type": "code",
   "execution_count": 58,
   "id": "9d435893",
   "metadata": {},
   "outputs": [
    {
     "name": "stdout",
     "output_type": "stream",
     "text": [
      "<class 'str'>\n"
     ]
    }
   ],
   "source": [
    "city = 'muddebihal'\n",
    "print(type(city))"
   ]
  },
  {
   "cell_type": "code",
   "execution_count": 59,
   "id": "25ab6b24",
   "metadata": {},
   "outputs": [
    {
     "name": "stdout",
     "output_type": "stream",
     "text": [
      "muddebihal\n"
     ]
    }
   ],
   "source": [
    "print(city)"
   ]
  },
  {
   "cell_type": "code",
   "execution_count": 60,
   "id": "c0557bff",
   "metadata": {},
   "outputs": [
    {
     "name": "stdout",
     "output_type": "stream",
     "text": [
      "if\n",
      "only\n"
     ]
    }
   ],
   "source": [
    "print(\"\"\"if\n",
    "only\"\"\")"
   ]
  },
  {
   "cell_type": "code",
   "execution_count": 62,
   "id": "d374fd39",
   "metadata": {},
   "outputs": [],
   "source": [
    "var = \"this is my word\""
   ]
  },
  {
   "cell_type": "code",
   "execution_count": 63,
   "id": "2bc450cf",
   "metadata": {},
   "outputs": [
    {
     "name": "stdout",
     "output_type": "stream",
     "text": [
      "this is my word\n"
     ]
    }
   ],
   "source": [
    "print(var)"
   ]
  },
  {
   "cell_type": "markdown",
   "id": "5e92d5d6",
   "metadata": {},
   "source": [
    "# displaying part of string\n"
   ]
  },
  {
   "cell_type": "code",
   "execution_count": 64,
   "id": "403949c0",
   "metadata": {},
   "outputs": [],
   "source": [
    "lesson = \"i am happy..\""
   ]
  },
  {
   "cell_type": "code",
   "execution_count": 65,
   "id": "cbf770b1",
   "metadata": {},
   "outputs": [
    {
     "data": {
      "text/plain": [
       "'i am happy..'"
      ]
     },
     "execution_count": 65,
     "metadata": {},
     "output_type": "execute_result"
    }
   ],
   "source": [
    "lesson"
   ]
  },
  {
   "cell_type": "code",
   "execution_count": 66,
   "id": "5477d13f",
   "metadata": {},
   "outputs": [
    {
     "data": {
      "text/plain": [
       "'i'"
      ]
     },
     "execution_count": 66,
     "metadata": {},
     "output_type": "execute_result"
    }
   ],
   "source": [
    "lesson[0]"
   ]
  },
  {
   "cell_type": "code",
   "execution_count": 67,
   "id": "8b99a804",
   "metadata": {},
   "outputs": [
    {
     "data": {
      "text/plain": [
       "' '"
      ]
     },
     "execution_count": 67,
     "metadata": {},
     "output_type": "execute_result"
    }
   ],
   "source": [
    "lesson[1]"
   ]
  },
  {
   "cell_type": "code",
   "execution_count": 68,
   "id": "16376a6c",
   "metadata": {},
   "outputs": [
    {
     "data": {
      "text/plain": [
       "'m'"
      ]
     },
     "execution_count": 68,
     "metadata": {},
     "output_type": "execute_result"
    }
   ],
   "source": [
    "lesson[3]"
   ]
  },
  {
   "cell_type": "code",
   "execution_count": 69,
   "id": "b1246d15",
   "metadata": {},
   "outputs": [
    {
     "data": {
      "text/plain": [
       "'happy'"
      ]
     },
     "execution_count": 69,
     "metadata": {},
     "output_type": "execute_result"
    }
   ],
   "source": [
    "lesson[5:10]"
   ]
  },
  {
   "cell_type": "code",
   "execution_count": 70,
   "id": "059f367e",
   "metadata": {},
   "outputs": [
    {
     "name": "stdout",
     "output_type": "stream",
     "text": [
      "i\n",
      " \n",
      "a\n",
      "m\n",
      " \n",
      "h\n",
      "a\n",
      "p\n",
      "p\n",
      "y\n",
      ".\n",
      ".\n"
     ]
    }
   ],
   "source": [
    "for item in lesson:\n",
    "    print(item)"
   ]
  },
  {
   "cell_type": "markdown",
   "id": "dbb6b90f",
   "metadata": {},
   "source": [
    "# string formatters\n"
   ]
  },
  {
   "cell_type": "code",
   "execution_count": 71,
   "id": "6d399099",
   "metadata": {},
   "outputs": [
    {
     "name": "stdout",
     "output_type": "stream",
     "text": [
      "i just prented 10 pages to the printer dell\n"
     ]
    }
   ],
   "source": [
    "x = 10\n",
    "printer = 'dell'\n",
    "print(\"i just prented %s pages to the printer %s\" %(x, printer))"
   ]
  },
  {
   "cell_type": "code",
   "execution_count": 72,
   "id": "991ee1cb",
   "metadata": {},
   "outputs": [
    {
     "name": "stdout",
     "output_type": "stream",
     "text": [
      "i just printed 10 pages to the printer dell\n"
     ]
    }
   ],
   "source": [
    "print(\"i just printed {0} pages to the printer {1}\".format(x,printer))"
   ]
  },
  {
   "cell_type": "code",
   "execution_count": 73,
   "id": "185050f9",
   "metadata": {},
   "outputs": [],
   "source": [
    "name = \"renukadevi prasanna\"\n",
    "age = 20000"
   ]
  },
  {
   "cell_type": "code",
   "execution_count": 78,
   "id": "fdac8500",
   "metadata": {},
   "outputs": [
    {
     "name": "stdout",
     "output_type": "stream",
     "text": [
      "my name is renukadevi prasanna and age is 20000\n"
     ]
    }
   ],
   "source": [
    "print(f\"my name is {name} and age is {age}\" .format(name,age))"
   ]
  },
  {
   "cell_type": "code",
   "execution_count": 80,
   "id": "89500a4e",
   "metadata": {},
   "outputs": [
    {
     "name": "stdout",
     "output_type": "stream",
     "text": [
      "i just printed renukadevi prasanna and to the 20000\n"
     ]
    }
   ],
   "source": [
    "print(\"i just printed {0} and to the {1}\".format(name,age))"
   ]
  },
  {
   "cell_type": "code",
   "execution_count": 81,
   "id": "45d71e50",
   "metadata": {},
   "outputs": [
    {
     "name": "stdout",
     "output_type": "stream",
     "text": [
      "1010\n"
     ]
    }
   ],
   "source": [
    "a = '10'\n",
    "print(a+a)"
   ]
  },
  {
   "cell_type": "code",
   "execution_count": 82,
   "id": "7b2dc45f",
   "metadata": {},
   "outputs": [
    {
     "ename": "TypeError",
     "evalue": "can only concatenate str (not \"int\") to str",
     "output_type": "error",
     "traceback": [
      "\u001b[1;31m---------------------------------------------------------------------------\u001b[0m",
      "\u001b[1;31mTypeError\u001b[0m                                 Traceback (most recent call last)",
      "\u001b[1;32m~\\AppData\\Local\\Temp/ipykernel_11076/990838741.py\u001b[0m in \u001b[0;36m<module>\u001b[1;34m\u001b[0m\n\u001b[1;32m----> 1\u001b[1;33m \u001b[0mprint\u001b[0m\u001b[1;33m(\u001b[0m\u001b[1;34m'10'\u001b[0m\u001b[1;33m+\u001b[0m\u001b[1;36m10\u001b[0m\u001b[1;33m)\u001b[0m\u001b[1;33m\u001b[0m\u001b[1;33m\u001b[0m\u001b[0m\n\u001b[0m",
      "\u001b[1;31mTypeError\u001b[0m: can only concatenate str (not \"int\") to str"
     ]
    }
   ],
   "source": [
    "print('10'+10)"
   ]
  },
  {
   "cell_type": "code",
   "execution_count": 83,
   "id": "489eae72",
   "metadata": {},
   "outputs": [],
   "source": [
    "days = ['Monday','tuesday',3,4,5,6,7]"
   ]
  },
  {
   "cell_type": "code",
   "execution_count": 84,
   "id": "1caf631d",
   "metadata": {},
   "outputs": [
    {
     "data": {
      "text/plain": [
       "['Monday', 'tuesday', 3, 4, 5, 6, 7]"
      ]
     },
     "execution_count": 84,
     "metadata": {},
     "output_type": "execute_result"
    }
   ],
   "source": [
    "days"
   ]
  },
  {
   "cell_type": "code",
   "execution_count": 85,
   "id": "94c2298c",
   "metadata": {},
   "outputs": [
    {
     "data": {
      "text/plain": [
       "['tuesday', 3]"
      ]
     },
     "execution_count": 85,
     "metadata": {},
     "output_type": "execute_result"
    }
   ],
   "source": [
    "days[1:3]"
   ]
  },
  {
   "cell_type": "code",
   "execution_count": 88,
   "id": "7bbbacb6",
   "metadata": {},
   "outputs": [
    {
     "name": "stdout",
     "output_type": "stream",
     "text": [
      "['Monday', 'tuesday', 3, 4, 5, 6, 7]\n"
     ]
    }
   ],
   "source": [
    "mylist = []\n",
    "for item in days:\n",
    "    mylist.append(item)\n",
    "print(mylist)"
   ]
  },
  {
   "cell_type": "code",
   "execution_count": 91,
   "id": "f66cbe78",
   "metadata": {},
   "outputs": [
    {
     "data": {
      "text/plain": [
       "7"
      ]
     },
     "execution_count": 91,
     "metadata": {},
     "output_type": "execute_result"
    }
   ],
   "source": [
    "len(days)"
   ]
  },
  {
   "cell_type": "code",
   "execution_count": 92,
   "id": "602a7fee",
   "metadata": {},
   "outputs": [],
   "source": [
    "days[2] = 'Wednesday'"
   ]
  },
  {
   "cell_type": "code",
   "execution_count": 93,
   "id": "4faba07b",
   "metadata": {},
   "outputs": [
    {
     "data": {
      "text/plain": [
       "['Monday', 'tuesday', 'Wednesday', 4, 5, 6, 7]"
      ]
     },
     "execution_count": 93,
     "metadata": {},
     "output_type": "execute_result"
    }
   ],
   "source": [
    "days"
   ]
  },
  {
   "cell_type": "code",
   "execution_count": null,
   "id": "10b0745f",
   "metadata": {},
   "outputs": [],
   "source": []
  }
 ],
 "metadata": {
  "kernelspec": {
   "display_name": "Python 3 (ipykernel)",
   "language": "python",
   "name": "python3"
  },
  "language_info": {
   "codemirror_mode": {
    "name": "ipython",
    "version": 3
   },
   "file_extension": ".py",
   "mimetype": "text/x-python",
   "name": "python",
   "nbconvert_exporter": "python",
   "pygments_lexer": "ipython3",
   "version": "3.9.2"
  }
 },
 "nbformat": 4,
 "nbformat_minor": 5
}
