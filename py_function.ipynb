{
 "cells": [
  {
   "cell_type": "markdown",
   "id": "03b62c7e",
   "metadata": {},
   "source": [
    "# python_fucntion"
   ]
  },
  {
   "cell_type": "code",
   "execution_count": 1,
   "id": "6dc59264",
   "metadata": {},
   "outputs": [],
   "source": [
    "# # def function_name(parameters):\n",
    "#     \"\"\"docstring\"\"\"\n",
    "#     statement(s)\n",
    "#     return expression\n",
    "def fun():\n",
    "    print(\"wellcome to yarazari!......\")"
   ]
  },
  {
   "cell_type": "code",
   "execution_count": 2,
   "id": "46522d44",
   "metadata": {},
   "outputs": [
    {
     "name": "stdout",
     "output_type": "stream",
     "text": [
      "wellcome to yarazari!......\n"
     ]
    }
   ],
   "source": [
    "fun()"
   ]
  },
  {
   "cell_type": "code",
   "execution_count": 3,
   "id": "a34624bb",
   "metadata": {},
   "outputs": [
    {
     "name": "stdout",
     "output_type": "stream",
     "text": [
      "well come to muddebihal!....\n"
     ]
    }
   ],
   "source": [
    "# simple python function\n",
    "def fun():\n",
    "    print(\"well come to muddebihal!....\")\n",
    "fun()"
   ]
  },
  {
   "cell_type": "markdown",
   "id": "df179bd6",
   "metadata": {},
   "source": [
    "# arguments of function"
   ]
  },
  {
   "cell_type": "code",
   "execution_count": 6,
   "id": "4aa3a4fa",
   "metadata": {},
   "outputs": [],
   "source": [
    "def evenodd(x):\n",
    "    if (x%2 == 0):\n",
    "        print(\"even\")\n",
    "    else:\n",
    "        print(\"odd\")"
   ]
  },
  {
   "cell_type": "code",
   "execution_count": 7,
   "id": "61a9e1fa",
   "metadata": {},
   "outputs": [
    {
     "name": "stdout",
     "output_type": "stream",
     "text": [
      "odd\n"
     ]
    }
   ],
   "source": [
    "evenodd(5)"
   ]
  },
  {
   "cell_type": "code",
   "execution_count": 8,
   "id": "d107cd68",
   "metadata": {},
   "outputs": [],
   "source": [
    "def evenodd(x):\n",
    "    if (x%2 == 0):\n",
    "        print(\"even...\")\n",
    "    else:\n",
    "        print(\"odd...\")"
   ]
  },
  {
   "cell_type": "code",
   "execution_count": 9,
   "id": "ed004c09",
   "metadata": {},
   "outputs": [
    {
     "name": "stdout",
     "output_type": "stream",
     "text": [
      "odd...\n"
     ]
    }
   ],
   "source": [
    "evenodd(5)"
   ]
  },
  {
   "cell_type": "code",
   "execution_count": 10,
   "id": "be8c0e9f",
   "metadata": {},
   "outputs": [
    {
     "name": "stdout",
     "output_type": "stream",
     "text": [
      "even...\n"
     ]
    }
   ],
   "source": [
    "evenodd(2)"
   ]
  },
  {
   "cell_type": "code",
   "execution_count": 11,
   "id": "84359b9f",
   "metadata": {},
   "outputs": [
    {
     "name": "stdout",
     "output_type": "stream",
     "text": [
      "even...\n"
     ]
    }
   ],
   "source": [
    "evenodd(6)"
   ]
  },
  {
   "cell_type": "code",
   "execution_count": 12,
   "id": "9eb5f28a",
   "metadata": {},
   "outputs": [
    {
     "name": "stdout",
     "output_type": "stream",
     "text": [
      "even...\n"
     ]
    }
   ],
   "source": [
    "evenodd(8)"
   ]
  },
  {
   "cell_type": "code",
   "execution_count": 13,
   "id": "44578100",
   "metadata": {},
   "outputs": [
    {
     "name": "stdout",
     "output_type": "stream",
     "text": [
      "odd...\n"
     ]
    }
   ],
   "source": [
    "evenodd(3)"
   ]
  },
  {
   "cell_type": "code",
   "execution_count": 14,
   "id": "7c1e5d0f",
   "metadata": {},
   "outputs": [
    {
     "name": "stdout",
     "output_type": "stream",
     "text": [
      "even...\n"
     ]
    }
   ],
   "source": [
    "evenodd(0)"
   ]
  },
  {
   "cell_type": "code",
   "execution_count": 15,
   "id": "d28c9f61",
   "metadata": {},
   "outputs": [
    {
     "name": "stdout",
     "output_type": "stream",
     "text": [
      "odd...\n"
     ]
    }
   ],
   "source": [
    "evenodd(11)"
   ]
  },
  {
   "cell_type": "markdown",
   "id": "dbc63850",
   "metadata": {},
   "source": [
    "# types of arguments\n",
    "1. default arguments"
   ]
  },
  {
   "cell_type": "code",
   "execution_count": 16,
   "id": "4ccb0236",
   "metadata": {},
   "outputs": [],
   "source": [
    "def myfun(x, y = 50):\n",
    "    print(\"x :\",x)\n",
    "    print(\"y: \",y)"
   ]
  },
  {
   "cell_type": "code",
   "execution_count": 17,
   "id": "03b9a636",
   "metadata": {},
   "outputs": [
    {
     "name": "stdout",
     "output_type": "stream",
     "text": [
      "x : 10\n",
      "y:  50\n"
     ]
    }
   ],
   "source": [
    "myfun(10)"
   ]
  },
  {
   "cell_type": "code",
   "execution_count": 18,
   "id": "ff437f13",
   "metadata": {},
   "outputs": [
    {
     "name": "stdout",
     "output_type": "stream",
     "text": [
      "x : 10\n",
      "y:  20\n"
     ]
    }
   ],
   "source": [
    "myfun(10,20)"
   ]
  },
  {
   "cell_type": "code",
   "execution_count": 19,
   "id": "0194ec23",
   "metadata": {},
   "outputs": [
    {
     "name": "stdout",
     "output_type": "stream",
     "text": [
      "x : 6\n",
      "y:  5\n"
     ]
    }
   ],
   "source": [
    "myfun(6,5)"
   ]
  },
  {
   "cell_type": "code",
   "execution_count": 20,
   "id": "9cfd4ddd",
   "metadata": {},
   "outputs": [],
   "source": [
    "def student(firstname,lastname):\n",
    "    return firstname,lastname"
   ]
  },
  {
   "cell_type": "code",
   "execution_count": 21,
   "id": "54077667",
   "metadata": {},
   "outputs": [
    {
     "data": {
      "text/plain": [
       "('manjunath', 'kannur')"
      ]
     },
     "execution_count": 21,
     "metadata": {},
     "output_type": "execute_result"
    }
   ],
   "source": [
    "student('manjunath','kannur')"
   ]
  },
  {
   "cell_type": "code",
   "execution_count": 23,
   "id": "09087952",
   "metadata": {},
   "outputs": [
    {
     "data": {
      "text/plain": [
       "('renukadevi', 'yallamma')"
      ]
     },
     "execution_count": 23,
     "metadata": {},
     "output_type": "execute_result"
    }
   ],
   "source": [
    "student('renukadevi','yallamma')"
   ]
  },
  {
   "cell_type": "code",
   "execution_count": 26,
   "id": "775922bd",
   "metadata": {},
   "outputs": [],
   "source": [
    "def student1(firstname,lastname):\n",
    "    print(firstname,lastname)"
   ]
  },
  {
   "cell_type": "code",
   "execution_count": 27,
   "id": "828c68d0",
   "metadata": {},
   "outputs": [
    {
     "name": "stdout",
     "output_type": "stream",
     "text": [
      "runukadevi yallammma\n"
     ]
    }
   ],
   "source": [
    "student1('runukadevi','yallammma')"
   ]
  },
  {
   "cell_type": "code",
   "execution_count": 28,
   "id": "abcda089",
   "metadata": {},
   "outputs": [],
   "source": [
    "def show(fist):\n",
    "    return fist"
   ]
  },
  {
   "cell_type": "code",
   "execution_count": 29,
   "id": "3ca1b8e3",
   "metadata": {},
   "outputs": [
    {
     "data": {
      "text/plain": [
       "'kannur'"
      ]
     },
     "execution_count": 29,
     "metadata": {},
     "output_type": "execute_result"
    }
   ],
   "source": [
    "show('kannur')"
   ]
  },
  {
   "cell_type": "code",
   "execution_count": 30,
   "id": "201ab7f5",
   "metadata": {},
   "outputs": [],
   "source": [
    "def showme(last,fist):\n",
    "    return last,fist"
   ]
  },
  {
   "cell_type": "code",
   "execution_count": 31,
   "id": "f38da784",
   "metadata": {},
   "outputs": [
    {
     "data": {
      "text/plain": [
       "('kick', 'showme')"
      ]
     },
     "execution_count": 31,
     "metadata": {},
     "output_type": "execute_result"
    }
   ],
   "source": [
    "showme('kick','showme')"
   ]
  },
  {
   "cell_type": "code",
   "execution_count": 1,
   "id": "69da08ef",
   "metadata": {},
   "outputs": [],
   "source": [
    "def myfun(*args):\n",
    "    for arg in args:\n",
    "        print(arg)"
   ]
  },
  {
   "cell_type": "code",
   "execution_count": 2,
   "id": "29f59280",
   "metadata": {},
   "outputs": [
    {
     "name": "stdout",
     "output_type": "stream",
     "text": [
      "hello\n",
      "welcome\n",
      "to\n",
      "yarazari\n"
     ]
    }
   ],
   "source": [
    "myfun('hello','welcome','to','yarazari')"
   ]
  },
  {
   "cell_type": "code",
   "execution_count": 3,
   "id": "e25a7ae5",
   "metadata": {},
   "outputs": [],
   "source": [
    "def myfun(**kwargs):\n",
    "    for key,value in kwargs.items():\n",
    "        print(\"%s == %s\" %(key,value))"
   ]
  },
  {
   "cell_type": "code",
   "execution_count": 4,
   "id": "1e84a110",
   "metadata": {},
   "outputs": [
    {
     "name": "stdout",
     "output_type": "stream",
     "text": [
      "first == renukadevi\n",
      "last == yallamma\n"
     ]
    }
   ],
   "source": [
    "myfun(first = 'renukadevi',last = 'yallamma')"
   ]
  },
  {
   "cell_type": "markdown",
   "id": "c26a8b5b",
   "metadata": {},
   "source": [
    "# docstring"
   ]
  },
  {
   "cell_type": "code",
   "execution_count": 5,
   "id": "e683eb43",
   "metadata": {},
   "outputs": [],
   "source": [
    "def docstring():\n",
    "    \"\"\"the first value is doc string\"\"\"\n",
    "    print(\"firs doc\")"
   ]
  },
  {
   "cell_type": "code",
   "execution_count": 7,
   "id": "444586fb",
   "metadata": {},
   "outputs": [
    {
     "data": {
      "text/plain": [
       "'the first value is doc string'"
      ]
     },
     "execution_count": 7,
     "metadata": {},
     "output_type": "execute_result"
    }
   ],
   "source": [
    "docstring.__doc__"
   ]
  },
  {
   "cell_type": "code",
   "execution_count": 8,
   "id": "ff920557",
   "metadata": {},
   "outputs": [],
   "source": [
    "def evenodd(x):\n",
    "    if (x%2 == 0):\n",
    "        print(\"even\")\n",
    "    else:\n",
    "        print(\"odd\")"
   ]
  },
  {
   "cell_type": "code",
   "execution_count": 9,
   "id": "b9d433b7",
   "metadata": {},
   "outputs": [
    {
     "name": "stdout",
     "output_type": "stream",
     "text": [
      "odd\n"
     ]
    }
   ],
   "source": [
    "evenodd(5)"
   ]
  },
  {
   "cell_type": "code",
   "execution_count": 12,
   "id": "d2f3c294",
   "metadata": {},
   "outputs": [],
   "source": [
    "def evenodd(x):\n",
    "    \"the fucntion checks if the number is even or odd..\"\n",
    "    if (x%2 == 0):\n",
    "        return 'even'\n",
    "    else:\n",
    "        return 'odd'"
   ]
  },
  {
   "cell_type": "code",
   "execution_count": 13,
   "id": "654d2dc2",
   "metadata": {},
   "outputs": [
    {
     "data": {
      "text/plain": [
       "'even'"
      ]
     },
     "execution_count": 13,
     "metadata": {},
     "output_type": "execute_result"
    }
   ],
   "source": [
    "evenodd(6)"
   ]
  },
  {
   "cell_type": "code",
   "execution_count": 14,
   "id": "3392d262",
   "metadata": {},
   "outputs": [
    {
     "data": {
      "text/plain": [
       "'the fucntion checks if the number is even or odd..'"
      ]
     },
     "execution_count": 14,
     "metadata": {},
     "output_type": "execute_result"
    }
   ],
   "source": [
    "evenodd.__doc__"
   ]
  },
  {
   "cell_type": "markdown",
   "id": "27aa953f",
   "metadata": {},
   "source": [
    "# the return statement"
   ]
  },
  {
   "cell_type": "code",
   "execution_count": 15,
   "id": "665179c3",
   "metadata": {},
   "outputs": [],
   "source": [
    "# # syntax :\n",
    "# return [expression]\n",
    "def squre(num):\n",
    "    return num**2"
   ]
  },
  {
   "cell_type": "code",
   "execution_count": 16,
   "id": "2c176138",
   "metadata": {},
   "outputs": [
    {
     "data": {
      "text/plain": [
       "4"
      ]
     },
     "execution_count": 16,
     "metadata": {},
     "output_type": "execute_result"
    }
   ],
   "source": [
    "squre(2)"
   ]
  },
  {
   "cell_type": "code",
   "execution_count": 17,
   "id": "353b5e74",
   "metadata": {},
   "outputs": [
    {
     "name": "stdout",
     "output_type": "stream",
     "text": [
      "25\n"
     ]
    }
   ],
   "source": [
    "print(squre(-5))"
   ]
  },
  {
   "cell_type": "code",
   "execution_count": 18,
   "id": "836db0f7",
   "metadata": {},
   "outputs": [],
   "source": [
    "def cube(num):\n",
    "    print(num**3)"
   ]
  },
  {
   "cell_type": "code",
   "execution_count": 19,
   "id": "e2883f05",
   "metadata": {},
   "outputs": [
    {
     "name": "stdout",
     "output_type": "stream",
     "text": [
      "27\n"
     ]
    }
   ],
   "source": [
    "cube(3)"
   ]
  },
  {
   "cell_type": "code",
   "execution_count": 11,
   "id": "f3fd7018",
   "metadata": {},
   "outputs": [],
   "source": [
    "def myfun(x):\n",
    "    x[0] = 20"
   ]
  },
  {
   "cell_type": "code",
   "execution_count": 12,
   "id": "0bac281e",
   "metadata": {},
   "outputs": [],
   "source": [
    "lst = [10,11,12,13,14,15,16,20]\n",
    "myfun(lst)"
   ]
  },
  {
   "cell_type": "code",
   "execution_count": 13,
   "id": "29ac5bf2",
   "metadata": {},
   "outputs": [
    {
     "data": {
      "text/plain": [
       "[20, 11, 12, 13, 14, 15, 16, 20]"
      ]
     },
     "execution_count": 13,
     "metadata": {},
     "output_type": "execute_result"
    }
   ],
   "source": [
    "lst"
   ]
  },
  {
   "cell_type": "code",
   "execution_count": 14,
   "id": "022b86c4",
   "metadata": {},
   "outputs": [],
   "source": [
    "def append(x):\n",
    "    for i in x:\n",
    "        x.append(i)\n",
    "        \n",
    "    "
   ]
  },
  {
   "cell_type": "code",
   "execution_count": 15,
   "id": "c2410f52",
   "metadata": {},
   "outputs": [
    {
     "name": "stdout",
     "output_type": "stream",
     "text": [
      "nothing..\n"
     ]
    }
   ],
   "source": [
    "print(\"nothing..\")"
   ]
  },
  {
   "cell_type": "code",
   "execution_count": 16,
   "id": "8441fea6",
   "metadata": {},
   "outputs": [
    {
     "data": {
      "text/plain": [
       "[20, 11, 12, 13, 14, 15, 16, 20]"
      ]
     },
     "execution_count": 16,
     "metadata": {},
     "output_type": "execute_result"
    }
   ],
   "source": [
    "lst"
   ]
  },
  {
   "cell_type": "code",
   "execution_count": null,
   "id": "8829559b",
   "metadata": {},
   "outputs": [],
   "source": [
    "append(lst)"
   ]
  },
  {
   "cell_type": "code",
   "execution_count": 1,
   "id": "0f6c9edc",
   "metadata": {},
   "outputs": [],
   "source": [
    "def myfun(x):\n",
    "    x = [20,30,40]"
   ]
  },
  {
   "cell_type": "code",
   "execution_count": 2,
   "id": "0f79aba4",
   "metadata": {},
   "outputs": [],
   "source": [
    "lst = [10,20,30,40,50,60,70,80,90]"
   ]
  },
  {
   "cell_type": "code",
   "execution_count": 3,
   "id": "f0f37834",
   "metadata": {},
   "outputs": [],
   "source": [
    "myfun(lst)"
   ]
  },
  {
   "cell_type": "code",
   "execution_count": 4,
   "id": "3e1d9485",
   "metadata": {},
   "outputs": [
    {
     "data": {
      "text/plain": [
       "[10, 20, 30, 40, 50, 60, 70, 80, 90]"
      ]
     },
     "execution_count": 4,
     "metadata": {},
     "output_type": "execute_result"
    }
   ],
   "source": [
    "lst"
   ]
  },
  {
   "cell_type": "code",
   "execution_count": 5,
   "id": "c35992e2",
   "metadata": {},
   "outputs": [],
   "source": [
    "mylist = [1,2,3,4,5]"
   ]
  },
  {
   "cell_type": "code",
   "execution_count": 6,
   "id": "7d4e7a62",
   "metadata": {},
   "outputs": [],
   "source": [
    "myfun(mylist)"
   ]
  },
  {
   "cell_type": "code",
   "execution_count": 7,
   "id": "8c963067",
   "metadata": {},
   "outputs": [
    {
     "data": {
      "text/plain": [
       "[1, 2, 3, 4, 5]"
      ]
     },
     "execution_count": 7,
     "metadata": {},
     "output_type": "execute_result"
    }
   ],
   "source": [
    "mylist"
   ]
  },
  {
   "cell_type": "code",
   "execution_count": 8,
   "id": "ff551d09",
   "metadata": {},
   "outputs": [
    {
     "name": "stdout",
     "output_type": "stream",
     "text": [
      "None\n"
     ]
    }
   ],
   "source": [
    "print(myfun(mylist))"
   ]
  },
  {
   "cell_type": "code",
   "execution_count": 9,
   "id": "913371ff",
   "metadata": {},
   "outputs": [],
   "source": [
    "def add(x):\n",
    "    x = [1,2,3,4,5]"
   ]
  },
  {
   "cell_type": "code",
   "execution_count": 10,
   "id": "78549254",
   "metadata": {},
   "outputs": [],
   "source": [
    "del lst"
   ]
  },
  {
   "cell_type": "code",
   "execution_count": 11,
   "id": "e8568d0e",
   "metadata": {},
   "outputs": [],
   "source": [
    "lst = [6,7,8,9,10]"
   ]
  },
  {
   "cell_type": "code",
   "execution_count": 12,
   "id": "20cf06a6",
   "metadata": {},
   "outputs": [],
   "source": [
    "add(lst)"
   ]
  },
  {
   "cell_type": "code",
   "execution_count": 13,
   "id": "7ebb6bc4",
   "metadata": {},
   "outputs": [
    {
     "data": {
      "text/plain": [
       "[6, 7, 8, 9, 10]"
      ]
     },
     "execution_count": 13,
     "metadata": {},
     "output_type": "execute_result"
    }
   ],
   "source": [
    "lst"
   ]
  },
  {
   "cell_type": "code",
   "execution_count": 17,
   "id": "03ea7878",
   "metadata": {},
   "outputs": [],
   "source": [
    "def myfun(x):\n",
    "    x = 20"
   ]
  },
  {
   "cell_type": "code",
   "execution_count": 18,
   "id": "24ce0536",
   "metadata": {},
   "outputs": [],
   "source": [
    "x = 10"
   ]
  },
  {
   "cell_type": "code",
   "execution_count": 19,
   "id": "55b60840",
   "metadata": {},
   "outputs": [],
   "source": [
    "myfun(x)"
   ]
  },
  {
   "cell_type": "code",
   "execution_count": 20,
   "id": "be6d183a",
   "metadata": {},
   "outputs": [],
   "source": [
    "def swap(x,y):\n",
    "    temp = x\n",
    "    x = y\n",
    "    y = temp"
   ]
  },
  {
   "cell_type": "code",
   "execution_count": 21,
   "id": "07a70b36",
   "metadata": {},
   "outputs": [],
   "source": [
    "x = 2\n",
    "y = 3"
   ]
  },
  {
   "cell_type": "code",
   "execution_count": 22,
   "id": "29f0cf64",
   "metadata": {},
   "outputs": [],
   "source": [
    "swap(x,y)"
   ]
  },
  {
   "cell_type": "code",
   "execution_count": 23,
   "id": "b5ffcd1b",
   "metadata": {},
   "outputs": [
    {
     "name": "stdout",
     "output_type": "stream",
     "text": [
      "2 3\n"
     ]
    }
   ],
   "source": [
    "print(x,y)"
   ]
  },
  {
   "cell_type": "markdown",
   "id": "a4f1e0b5",
   "metadata": {},
   "source": [
    "# anonymous function"
   ]
  },
  {
   "cell_type": "code",
   "execution_count": 24,
   "id": "8c919b89",
   "metadata": {},
   "outputs": [],
   "source": [
    "def cube(x):\n",
    "    return x*x*x"
   ]
  },
  {
   "cell_type": "code",
   "execution_count": 25,
   "id": "dc852671",
   "metadata": {},
   "outputs": [
    {
     "data": {
      "text/plain": [
       "27"
      ]
     },
     "execution_count": 25,
     "metadata": {},
     "output_type": "execute_result"
    }
   ],
   "source": [
    "cube(3)"
   ]
  },
  {
   "cell_type": "code",
   "execution_count": 26,
   "id": "e66a6620",
   "metadata": {},
   "outputs": [],
   "source": [
    "cube = lambda x : x**3"
   ]
  },
  {
   "cell_type": "code",
   "execution_count": 28,
   "id": "90c30c53",
   "metadata": {},
   "outputs": [
    {
     "data": {
      "text/plain": [
       "27"
      ]
     },
     "execution_count": 28,
     "metadata": {},
     "output_type": "execute_result"
    }
   ],
   "source": [
    "cube(3)"
   ]
  },
  {
   "cell_type": "markdown",
   "id": "f69aa63f",
   "metadata": {},
   "source": [
    "# python function within function"
   ]
  },
  {
   "cell_type": "code",
   "execution_count": 29,
   "id": "930def2d",
   "metadata": {},
   "outputs": [
    {
     "name": "stdout",
     "output_type": "stream",
     "text": [
      "i love yarazari\n"
     ]
    }
   ],
   "source": [
    "def f1():\n",
    "    s = \"i love yarazari\"\n",
    "    def f2():\n",
    "        print(s)\n",
    "    f2()\n",
    "f1()"
   ]
  },
  {
   "cell_type": "code",
   "execution_count": 30,
   "id": "11828397",
   "metadata": {},
   "outputs": [
    {
     "name": "stdout",
     "output_type": "stream",
     "text": [
      "manjunath kannur\n"
     ]
    }
   ],
   "source": [
    "def show():\n",
    "    name = \"manjunath kannur\"\n",
    "    def kick():\n",
    "        print(name)\n",
    "    kick()\n",
    "show()"
   ]
  },
  {
   "cell_type": "code",
   "execution_count": 31,
   "id": "d5917939",
   "metadata": {},
   "outputs": [],
   "source": [
    "list1 = [3,4,5,20,5,25,1,3]"
   ]
  },
  {
   "cell_type": "code",
   "execution_count": 32,
   "id": "e72148c6",
   "metadata": {},
   "outputs": [
    {
     "data": {
      "text/plain": [
       "4"
      ]
     },
     "execution_count": 32,
     "metadata": {},
     "output_type": "execute_result"
    }
   ],
   "source": [
    "list1.pop(1)"
   ]
  },
  {
   "cell_type": "code",
   "execution_count": 33,
   "id": "10dcc0dd",
   "metadata": {},
   "outputs": [
    {
     "data": {
      "text/plain": [
       "[3, 5, 20, 5, 25, 1, 3]"
      ]
     },
     "execution_count": 33,
     "metadata": {},
     "output_type": "execute_result"
    }
   ],
   "source": [
    "list1"
   ]
  },
  {
   "cell_type": "markdown",
   "id": "06f1f0c0",
   "metadata": {},
   "source": [
    "# python_function"
   ]
  },
  {
   "cell_type": "markdown",
   "id": "31812a65",
   "metadata": {},
   "source": [
    "# while loop"
   ]
  },
  {
   "cell_type": "code",
   "execution_count": 1,
   "id": "ccf381b6",
   "metadata": {},
   "outputs": [
    {
     "name": "stdout",
     "output_type": "stream",
     "text": [
      "hello word...\n",
      "hello word...\n",
      "hello word...\n"
     ]
    }
   ],
   "source": [
    "# while expression:\n",
    "#     statement(s)\n",
    "count = 0\n",
    "while count < 3:\n",
    "    count = count+1\n",
    "    print(\"hello word...\")\n",
    "    "
   ]
  },
  {
   "cell_type": "code",
   "execution_count": 2,
   "id": "92392de4",
   "metadata": {},
   "outputs": [
    {
     "name": "stdout",
     "output_type": "stream",
     "text": [
      "renukadevi\n",
      "renukadevi\n",
      "renukadevi\n",
      "in else block..\n"
     ]
    }
   ],
   "source": [
    "# if condition:\n",
    "#     excutes these statement\n",
    "# else:\n",
    "#     excutes these statement\n",
    "# while condition:\n",
    "#     executes these statement\n",
    "# else:\n",
    "#     excutes these statement\n",
    "number = 0\n",
    "while number < 3:\n",
    "    number+=1\n",
    "    print(\"renukadevi\")\n",
    "else:\n",
    "    print(\"in else block..\")"
   ]
  },
  {
   "cell_type": "code",
   "execution_count": 3,
   "id": "0e4f4e00",
   "metadata": {},
   "outputs": [
    {
     "name": "stdout",
     "output_type": "stream",
     "text": [
      "nothing is to be printed...\n"
     ]
    }
   ],
   "source": [
    "i = 0\n",
    "while i < 0:\n",
    "    i+=1\n",
    "    print(\"print i...\")\n",
    "else:\n",
    "    print(\"nothing is to be printed...\")"
   ]
  },
  {
   "cell_type": "code",
   "execution_count": 4,
   "id": "0ee8050c",
   "metadata": {},
   "outputs": [
    {
     "name": "stdout",
     "output_type": "stream",
     "text": [
      "hello word...\n"
     ]
    }
   ],
   "source": [
    "count = 0\n",
    "while (count == 0):\n",
    "    count+=1\n",
    "    print(\"hello word...\")"
   ]
  },
  {
   "cell_type": "code",
   "execution_count": 5,
   "id": "bb9cb85c",
   "metadata": {},
   "outputs": [
    {
     "name": "stdout",
     "output_type": "stream",
     "text": [
      "0\n",
      "1\n",
      "2\n",
      "3\n"
     ]
    }
   ],
   "source": [
    "# #syntax \n",
    "# for iterator_var in sequence:\n",
    "#     statement(s)\n",
    "n = 4\n",
    "for i in range(0,n):\n",
    "    print(i)"
   ]
  },
  {
   "cell_type": "code",
   "execution_count": 6,
   "id": "3cc38fe0",
   "metadata": {},
   "outputs": [
    {
     "name": "stdout",
     "output_type": "stream",
     "text": [
      "list Iteration...\n",
      "geeks\n",
      "for\n",
      "geeks\n"
     ]
    }
   ],
   "source": [
    "print(\"list Iteration...\")\n",
    "l = ['geeks','for','geeks']\n",
    "for i in l:\n",
    "    print(i)"
   ]
  },
  {
   "cell_type": "code",
   "execution_count": 7,
   "id": "8af820f9",
   "metadata": {},
   "outputs": [
    {
     "name": "stdout",
     "output_type": "stream",
     "text": [
      "\n",
      "tuple Iteration..\n",
      "geeks\n",
      "for\n",
      "geeks\n"
     ]
    }
   ],
   "source": [
    "print(\"\\ntuple Iteration..\")\n",
    "t = ('geeks','for','geeks')\n",
    "for i in t:\n",
    "    print(i)"
   ]
  },
  {
   "cell_type": "code",
   "execution_count": 8,
   "id": "05bf689c",
   "metadata": {},
   "outputs": [
    {
     "name": "stdout",
     "output_type": "stream",
     "text": [
      "\n",
      " dictionary iteration..\n"
     ]
    }
   ],
   "source": [
    "print(\"\\n dictionary iteration..\")\n",
    "d = dict()\n",
    "d['xyz'] = 123\n",
    "d['abc'] = 345\n"
   ]
  },
  {
   "cell_type": "code",
   "execution_count": 9,
   "id": "032972f2",
   "metadata": {},
   "outputs": [
    {
     "name": "stdout",
     "output_type": "stream",
     "text": [
      "xyz 123\n",
      "abc 345\n"
     ]
    }
   ],
   "source": [
    "for i in d:\n",
    "    print(\"%s %d\"%(i,d[i]))"
   ]
  },
  {
   "cell_type": "code",
   "execution_count": 10,
   "id": "dac98811",
   "metadata": {},
   "outputs": [
    {
     "name": "stdout",
     "output_type": "stream",
     "text": [
      "geeks\n",
      "for\n",
      "geeks\n"
     ]
    }
   ],
   "source": [
    "list1 = ['geeks','for','geeks']\n",
    "for index in range(len(list1)):\n",
    "    print(list1[index])"
   ]
  },
  {
   "cell_type": "code",
   "execution_count": 11,
   "id": "5da8b10e",
   "metadata": {},
   "outputs": [
    {
     "name": "stdout",
     "output_type": "stream",
     "text": [
      "geeks\n",
      "for\n",
      "geeks\n",
      "inside else block...\n"
     ]
    }
   ],
   "source": [
    "# using else statement with loops \n",
    "list1 = ['geeks','for','geeks']\n",
    "for index in range(len(list1)):\n",
    "    print(list1[index])\n",
    "else:\n",
    "    print(\"inside else block...\")"
   ]
  },
  {
   "cell_type": "code",
   "execution_count": 12,
   "id": "42cd8d21",
   "metadata": {},
   "outputs": [],
   "source": [
    "# for iterator_var in sequence:\n",
    "#     for iterator_var in sequenc:\n",
    "#         statement(s)\n",
    "#         statement(s)\n"
   ]
  },
  {
   "cell_type": "code",
   "execution_count": 13,
   "id": "db0f2e23",
   "metadata": {},
   "outputs": [],
   "source": [
    "# while expression:\n",
    "#     while expression:\n",
    "#         statement(s)\n",
    "#         statement(s)"
   ]
  },
  {
   "cell_type": "code",
   "execution_count": 15,
   "id": "3933831a",
   "metadata": {},
   "outputs": [
    {
     "name": "stdout",
     "output_type": "stream",
     "text": [
      "outer loop 0\n",
      "inner loop 0\n",
      "inner loop 1\n",
      "inner loop 2\n",
      "outer loop 3\n"
     ]
    }
   ],
   "source": [
    "for i in (0,3):\n",
    "    for j in range(i):\n",
    "        print(\"inner loop\",j)\n",
    "    print(\"outer loop\",i)"
   ]
  },
  {
   "cell_type": "markdown",
   "id": "a49c0ed7",
   "metadata": {},
   "source": [
    "# loop control statement\n",
    "1. continue statement\n",
    "2. break statement\n",
    "3. pass"
   ]
  },
  {
   "cell_type": "code",
   "execution_count": 16,
   "id": "0d25ebd5",
   "metadata": {},
   "outputs": [
    {
     "name": "stdout",
     "output_type": "stream",
     "text": [
      "0\n",
      "1\n",
      "2\n"
     ]
    }
   ],
   "source": [
    "for i in range(0,3):\n",
    "    print(i)"
   ]
  },
  {
   "cell_type": "code",
   "execution_count": 19,
   "id": "bfafaf37",
   "metadata": {},
   "outputs": [
    {
     "name": "stdout",
     "output_type": "stream",
     "text": [
      "0\n",
      "1\n",
      "2\n",
      "3\n",
      "4\n",
      "5\n"
     ]
    }
   ],
   "source": [
    "for i in range(0,10):\n",
    "    if i < 6:\n",
    "        print(i)"
   ]
  },
  {
   "cell_type": "code",
   "execution_count": 20,
   "id": "0c5856e2",
   "metadata": {},
   "outputs": [
    {
     "name": "stdout",
     "output_type": "stream",
     "text": [
      "9\n"
     ]
    }
   ],
   "source": [
    "for i in range(0,10):\n",
    "    if i > 8 :\n",
    "        print(i)"
   ]
  },
  {
   "cell_type": "code",
   "execution_count": 21,
   "id": "7bb6861d",
   "metadata": {},
   "outputs": [
    {
     "name": "stdout",
     "output_type": "stream",
     "text": [
      "6\n",
      "7\n",
      "8\n",
      "9\n"
     ]
    }
   ],
   "source": [
    "for i in range(0,10):\n",
    "    if i > 5 :\n",
    "        print(i)"
   ]
  },
  {
   "cell_type": "code",
   "execution_count": 22,
   "id": "ec9f4e9f",
   "metadata": {},
   "outputs": [
    {
     "name": "stdout",
     "output_type": "stream",
     "text": [
      "0\n",
      "1\n",
      "2\n",
      "3\n",
      "4\n",
      "5\n",
      "6\n"
     ]
    }
   ],
   "source": [
    "for i in range(0,10):\n",
    "    if i <= 6:\n",
    "        print(i)"
   ]
  },
  {
   "cell_type": "code",
   "execution_count": 25,
   "id": "73d5cefc",
   "metadata": {},
   "outputs": [
    {
     "name": "stdout",
     "output_type": "stream",
     "text": [
      "r\n",
      "e\n",
      "n\n",
      "a\n",
      "d\n",
      "e\n",
      "v\n",
      "i\n"
     ]
    }
   ],
   "source": [
    "for i in \"renukadevi\":\n",
    "    if i == 'k' or i == 'u':\n",
    "        continue\n",
    "    print(i)"
   ]
  },
  {
   "cell_type": "code",
   "execution_count": 26,
   "id": "15802098",
   "metadata": {},
   "outputs": [
    {
     "name": "stdout",
     "output_type": "stream",
     "text": [
      "current letter g\n",
      "current letter k\n",
      "current letter f\n",
      "current letter o\n",
      "current letter r\n",
      "current letter g\n",
      "current letter k\n"
     ]
    }
   ],
   "source": [
    "for i in 'geeksforgeeks':\n",
    "    if i == 'e' or i == 's':\n",
    "        continue\n",
    "    print(\"current letter\" ,i)"
   ]
  },
  {
   "cell_type": "code",
   "execution_count": 27,
   "id": "36e62f0f",
   "metadata": {},
   "outputs": [
    {
     "name": "stdout",
     "output_type": "stream",
     "text": [
      "nothing\n",
      "nothing\n",
      "nothing\n",
      "nothing\n",
      "nothing\n",
      "nothing\n"
     ]
    }
   ],
   "source": [
    "for i in 'kannur':\n",
    "    if i == 'kannur':\n",
    "        print(i)\n",
    "    else:\n",
    "        print(\"nothing\")"
   ]
  },
  {
   "cell_type": "code",
   "execution_count": 28,
   "id": "36c4a8e2",
   "metadata": {},
   "outputs": [],
   "source": [
    "string = \"kannur\""
   ]
  },
  {
   "cell_type": "code",
   "execution_count": 29,
   "id": "2781a5b3",
   "metadata": {},
   "outputs": [
    {
     "data": {
      "text/plain": [
       "'kannur'"
      ]
     },
     "execution_count": 29,
     "metadata": {},
     "output_type": "execute_result"
    }
   ],
   "source": [
    "string"
   ]
  },
  {
   "cell_type": "code",
   "execution_count": 30,
   "id": "6bef6369",
   "metadata": {},
   "outputs": [
    {
     "name": "stdout",
     "output_type": "stream",
     "text": [
      "k\n",
      "a\n",
      "n\n",
      "n\n",
      "u\n",
      "r\n"
     ]
    }
   ],
   "source": [
    "for i in string:\n",
    "    print(i)"
   ]
  },
  {
   "cell_type": "code",
   "execution_count": 31,
   "id": "6868df18",
   "metadata": {},
   "outputs": [
    {
     "name": "stdout",
     "output_type": "stream",
     "text": [
      "a\n",
      "k\n",
      "n\n",
      "n\n",
      "r\n",
      "u\n"
     ]
    }
   ],
   "source": [
    "for i in sorted(string):\n",
    "    print(i)"
   ]
  },
  {
   "cell_type": "code",
   "execution_count": 32,
   "id": "023f4384",
   "metadata": {},
   "outputs": [
    {
     "name": "stdout",
     "output_type": "stream",
     "text": [
      "0\n",
      "1\n",
      "2\n",
      "3\n",
      "4\n",
      "5\n",
      "6\n",
      "7\n",
      "8\n",
      "9\n"
     ]
    }
   ],
   "source": [
    "for i in range(0,10):\n",
    "    if i == 5 and i == 8:\n",
    "        continue\n",
    "    print(i)\n",
    "    "
   ]
  },
  {
   "cell_type": "code",
   "execution_count": 36,
   "id": "633578b3",
   "metadata": {},
   "outputs": [
    {
     "name": "stdout",
     "output_type": "stream",
     "text": [
      "0\n",
      "1\n",
      "2\n",
      "3\n",
      "4\n",
      "5\n"
     ]
    }
   ],
   "source": [
    "for item in range(0,10):\n",
    "    if item > 5 :\n",
    "        break\n",
    "    print(item)"
   ]
  },
  {
   "cell_type": "code",
   "execution_count": 37,
   "id": "39089748",
   "metadata": {},
   "outputs": [
    {
     "name": "stdout",
     "output_type": "stream",
     "text": [
      "0\n",
      "1\n",
      "2\n",
      "3\n",
      "4\n",
      "5\n"
     ]
    }
   ],
   "source": [
    "for item in range(0,10):\n",
    "    if item > 5:\n",
    "        continue\n",
    "    print(item)"
   ]
  },
  {
   "cell_type": "code",
   "execution_count": 38,
   "id": "9272bbd6",
   "metadata": {},
   "outputs": [
    {
     "name": "stdout",
     "output_type": "stream",
     "text": [
      "0\n",
      "1\n",
      "2\n",
      "3\n",
      "4\n",
      "5\n",
      "6\n",
      "7\n",
      "8\n",
      "9\n"
     ]
    }
   ],
   "source": [
    "for item in range(0,10):\n",
    "    if item > 5:\n",
    "        pass\n",
    "    print(item)"
   ]
  },
  {
   "cell_type": "code",
   "execution_count": 39,
   "id": "42c93ac8",
   "metadata": {},
   "outputs": [
    {
     "name": "stdout",
     "output_type": "stream",
     "text": [
      "last letter s\n"
     ]
    }
   ],
   "source": [
    "for letter in 'geeksforgeeks':\n",
    "    pass\n",
    "print(\"last letter\",letter)"
   ]
  },
  {
   "cell_type": "code",
   "execution_count": 40,
   "id": "21ce5c94",
   "metadata": {},
   "outputs": [],
   "source": [
    "# a simple for loop example\n",
    "fruits = ['apple','orange','kiwi']"
   ]
  },
  {
   "cell_type": "code",
   "execution_count": 41,
   "id": "e4d68c17",
   "metadata": {},
   "outputs": [
    {
     "name": "stdout",
     "output_type": "stream",
     "text": [
      "apple\n",
      "orange\n",
      "kiwi\n"
     ]
    }
   ],
   "source": [
    "for fruit in fruits:\n",
    "    print(fruit)"
   ]
  },
  {
   "cell_type": "code",
   "execution_count": 42,
   "id": "e2ca9fda",
   "metadata": {},
   "outputs": [
    {
     "name": "stdout",
     "output_type": "stream",
     "text": [
      "0\n",
      "1\n",
      "2\n",
      "3\n"
     ]
    }
   ],
   "source": [
    "for item in range(0,4):\n",
    "    print(item)"
   ]
  },
  {
   "cell_type": "code",
   "execution_count": 43,
   "id": "f7ae601e",
   "metadata": {},
   "outputs": [
    {
     "name": "stdout",
     "output_type": "stream",
     "text": [
      "outer loop 0\n",
      "inner loop 0\n",
      "outer loop 1\n",
      "inner loop 0\n",
      "inner loop 1\n",
      "outer loop 2\n",
      "inner loop 0\n",
      "inner loop 1\n",
      "inner loop 2\n",
      "outer loop 3\n"
     ]
    }
   ],
   "source": [
    "for item in range(0,4):\n",
    "    for june in range(item):\n",
    "        print(\"inner loop\",june)\n",
    "    print(\"outer loop\",item)"
   ]
  },
  {
   "cell_type": "code",
   "execution_count": 45,
   "id": "342bc29a",
   "metadata": {},
   "outputs": [
    {
     "name": "stdout",
     "output_type": "stream",
     "text": [
      "outer loop 0\n",
      "inner loop 0\n",
      "outer loop 1\n",
      "inner loop 0\n",
      "inner loop 1\n",
      "outer loop 2\n"
     ]
    }
   ],
   "source": [
    "for i in range(0,3):\n",
    "    for j in range(i):\n",
    "        print(\"inner loop\",j)\n",
    "    print(\"outer loop\",i)"
   ]
  },
  {
   "cell_type": "code",
   "execution_count": 46,
   "id": "7b388cdc",
   "metadata": {},
   "outputs": [],
   "source": [
    "fruits = ['apple','orange','kiwi']"
   ]
  },
  {
   "cell_type": "code",
   "execution_count": 47,
   "id": "19719461",
   "metadata": {},
   "outputs": [],
   "source": [
    "iter_obj = iter(fruits)"
   ]
  },
  {
   "cell_type": "code",
   "execution_count": 48,
   "id": "fe04dccc",
   "metadata": {},
   "outputs": [
    {
     "data": {
      "text/plain": [
       "<list_iterator at 0x1f3137a5e20>"
      ]
     },
     "execution_count": 48,
     "metadata": {},
     "output_type": "execute_result"
    }
   ],
   "source": [
    "iter_obj"
   ]
  },
  {
   "cell_type": "code",
   "execution_count": 49,
   "id": "a227734b",
   "metadata": {},
   "outputs": [
    {
     "name": "stdout",
     "output_type": "stream",
     "text": [
      "apple\n",
      "orange\n",
      "kiwi\n"
     ]
    }
   ],
   "source": [
    "for  item in iter_obj:\n",
    "    print(item)"
   ]
  },
  {
   "cell_type": "code",
   "execution_count": 50,
   "id": "23819d14",
   "metadata": {},
   "outputs": [],
   "source": [
    "for it in iter_obj:\n",
    "    print(next(it))"
   ]
  },
  {
   "cell_type": "markdown",
   "id": "b1ead532",
   "metadata": {},
   "source": [
    "# loops and control statments (continue , break and pass) in python"
   ]
  },
  {
   "cell_type": "markdown",
   "id": "020d614a",
   "metadata": {},
   "source": [
    "# while loop"
   ]
  },
  {
   "cell_type": "code",
   "execution_count": 51,
   "id": "a1d0f1fd",
   "metadata": {},
   "outputs": [],
   "source": [
    "# while expression:\n",
    "#     statement(s)"
   ]
  },
  {
   "cell_type": "code",
   "execution_count": 60,
   "id": "29c3d1b8",
   "metadata": {},
   "outputs": [],
   "source": [
    "count = 0"
   ]
  },
  {
   "cell_type": "code",
   "execution_count": 57,
   "id": "e9aa2f45",
   "metadata": {},
   "outputs": [
    {
     "name": "stdout",
     "output_type": "stream",
     "text": [
      "counted\n",
      "counted\n",
      "counted\n"
     ]
    }
   ],
   "source": [
    "while (count < 3):\n",
    "    count+=1\n",
    "    print(\"counted\")"
   ]
  },
  {
   "cell_type": "code",
   "execution_count": 61,
   "id": "d508eaaf",
   "metadata": {},
   "outputs": [
    {
     "name": "stdout",
     "output_type": "stream",
     "text": [
      "1\n",
      "2\n",
      "3\n"
     ]
    }
   ],
   "source": [
    "while count < 3:\n",
    "    #print(count)\n",
    "    count+=1\n",
    "    print(count)"
   ]
  },
  {
   "cell_type": "code",
   "execution_count": 58,
   "id": "6ac53438",
   "metadata": {},
   "outputs": [],
   "source": [
    "del count"
   ]
  },
  {
   "cell_type": "markdown",
   "id": "6d6042c7",
   "metadata": {},
   "source": [
    "# for in loop"
   ]
  },
  {
   "cell_type": "code",
   "execution_count": 62,
   "id": "03de3727",
   "metadata": {},
   "outputs": [
    {
     "name": "stdout",
     "output_type": "stream",
     "text": [
      "list Iteration:\n",
      "geeks\n",
      "for\n",
      "geeks\n"
     ]
    }
   ],
   "source": [
    "# for itertor_var in sequence:\n",
    "#     statement(s)\n",
    "print(\"list Iteration:\")\n",
    "l = ['geeks','for','geeks']\n",
    "for i in l:\n",
    "    print(i)"
   ]
  },
  {
   "cell_type": "code",
   "execution_count": 63,
   "id": "7eb0bb90",
   "metadata": {},
   "outputs": [
    {
     "name": "stdout",
     "output_type": "stream",
     "text": [
      "\n",
      " tuple iteration:\n",
      "geeks\n",
      "for\n",
      "geeks\n"
     ]
    }
   ],
   "source": [
    "print(\"\\n tuple iteration:\")\n",
    "t = ('geeks','for','geeks')\n",
    "for item in t:\n",
    "    print(item)"
   ]
  },
  {
   "cell_type": "code",
   "execution_count": 64,
   "id": "b2b80970",
   "metadata": {},
   "outputs": [
    {
     "name": "stdout",
     "output_type": "stream",
     "text": [
      "0\n",
      "1\n",
      "2\n",
      "3\n"
     ]
    }
   ],
   "source": [
    "# for itertor_var in sequence:\n",
    "#     for iterator_var in sequence:\n",
    "#         statement(s)\n",
    "#         statement(s)\n",
    "for key , value in enumerate(['the','big','bang','theory']):\n",
    "    print(key)"
   ]
  },
  {
   "cell_type": "code",
   "execution_count": 65,
   "id": "9d6cea1f",
   "metadata": {},
   "outputs": [
    {
     "name": "stdout",
     "output_type": "stream",
     "text": [
      "0 the\n",
      "1 kit\n",
      "2 cat\n",
      "3 money\n"
     ]
    }
   ],
   "source": [
    "for key, value in enumerate(['the','kit','cat','money']):\n",
    "    print(key,value)"
   ]
  },
  {
   "cell_type": "code",
   "execution_count": 66,
   "id": "7ee73ea0",
   "metadata": {},
   "outputs": [
    {
     "name": "stdout",
     "output_type": "stream",
     "text": [
      "(0, 'r')\n",
      "(1, 'e')\n",
      "(2, 'n')\n",
      "(3, 'u')\n",
      "(4, 'k')\n",
      "(5, 'a')\n",
      "(6, 'd')\n",
      "(7, 'e')\n",
      "(8, 'v')\n",
      "(9, 'i')\n"
     ]
    }
   ],
   "source": [
    "for item in enumerate(\"renukadevi\"):\n",
    "    print(item)"
   ]
  },
  {
   "cell_type": "code",
   "execution_count": 67,
   "id": "d72389e7",
   "metadata": {},
   "outputs": [
    {
     "name": "stdout",
     "output_type": "stream",
     "text": [
      "(0, 't')\n",
      "(1, 'h')\n",
      "(2, 'e')\n",
      "(3, ' ')\n",
      "(4, 's')\n",
      "(5, 't')\n",
      "(6, 'a')\n",
      "(7, 'r')\n",
      "(8, 'c')\n",
      "(9, 'k')\n"
     ]
    }
   ],
   "source": [
    "for kick in enumerate(\"the starck\"):\n",
    "    print(kick)"
   ]
  },
  {
   "cell_type": "code",
   "execution_count": null,
   "id": "41349d00",
   "metadata": {},
   "outputs": [],
   "source": []
  }
 ],
 "metadata": {
  "kernelspec": {
   "display_name": "Python 3 (ipykernel)",
   "language": "python",
   "name": "python3"
  },
  "language_info": {
   "codemirror_mode": {
    "name": "ipython",
    "version": 3
   },
   "file_extension": ".py",
   "mimetype": "text/x-python",
   "name": "python",
   "nbconvert_exporter": "python",
   "pygments_lexer": "ipython3",
   "version": "3.9.2"
  }
 },
 "nbformat": 4,
 "nbformat_minor": 5
}
