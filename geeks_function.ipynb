{
 "cells": [
  {
   "cell_type": "markdown",
   "id": "ffe198c4",
   "metadata": {},
   "source": [
    "# python_function"
   ]
  },
  {
   "cell_type": "code",
   "execution_count": 1,
   "id": "04bb8f10",
   "metadata": {},
   "outputs": [],
   "source": [
    "# python syntax\n",
    "# def function_name(parameters):\n",
    "#     \"\"\"doc string \"\"\"\n",
    "#     statement(s)\n",
    "#     return expression"
   ]
  },
  {
   "cell_type": "code",
   "execution_count": 3,
   "id": "213b593a",
   "metadata": {},
   "outputs": [],
   "source": [
    "# create function def keyword\n",
    "def fun():\n",
    "    print(\"well come to yarazari\")"
   ]
  },
  {
   "cell_type": "code",
   "execution_count": 4,
   "id": "5e02b9be",
   "metadata": {},
   "outputs": [
    {
     "name": "stdout",
     "output_type": "stream",
     "text": [
      "well come to yarazari\n"
     ]
    }
   ],
   "source": [
    "fun()"
   ]
  },
  {
   "cell_type": "code",
   "execution_count": 7,
   "id": "d8b37501",
   "metadata": {},
   "outputs": [
    {
     "name": "stdout",
     "output_type": "stream",
     "text": [
      "well come to yarazari....\n"
     ]
    }
   ],
   "source": [
    "# calling a function\n",
    "def fun():\n",
    "    print(\"well come to yarazari....\")\n",
    "fun()"
   ]
  },
  {
   "cell_type": "code",
   "execution_count": 6,
   "id": "a15515b7",
   "metadata": {},
   "outputs": [
    {
     "name": "stdout",
     "output_type": "stream",
     "text": [
      "well come to yarazari....\n"
     ]
    }
   ],
   "source": [
    "fun()"
   ]
  },
  {
   "cell_type": "code",
   "execution_count": 8,
   "id": "15bac114",
   "metadata": {},
   "outputs": [],
   "source": [
    "def evenodd(x):\n",
    "    if (x % 2 == 0):\n",
    "        print(\"even\")\n",
    "    else:\n",
    "        print(\"odd\")"
   ]
  },
  {
   "cell_type": "code",
   "execution_count": 9,
   "id": "42689924",
   "metadata": {},
   "outputs": [
    {
     "name": "stdout",
     "output_type": "stream",
     "text": [
      "even\n"
     ]
    }
   ],
   "source": [
    "evenodd(2)"
   ]
  },
  {
   "cell_type": "code",
   "execution_count": 10,
   "id": "5d017597",
   "metadata": {},
   "outputs": [
    {
     "name": "stdout",
     "output_type": "stream",
     "text": [
      "odd\n"
     ]
    }
   ],
   "source": [
    "evenodd(3)"
   ]
  },
  {
   "cell_type": "code",
   "execution_count": 11,
   "id": "da6b11a0",
   "metadata": {},
   "outputs": [
    {
     "name": "stdout",
     "output_type": "stream",
     "text": [
      "even\n"
     ]
    }
   ],
   "source": [
    "evenodd(8)"
   ]
  },
  {
   "cell_type": "code",
   "execution_count": 12,
   "id": "c34477e9",
   "metadata": {},
   "outputs": [
    {
     "name": "stdout",
     "output_type": "stream",
     "text": [
      "even\n"
     ]
    }
   ],
   "source": [
    "evenodd(6)"
   ]
  },
  {
   "cell_type": "code",
   "execution_count": 13,
   "id": "42db9a33",
   "metadata": {},
   "outputs": [
    {
     "name": "stdout",
     "output_type": "stream",
     "text": [
      "odd\n"
     ]
    }
   ],
   "source": [
    "evenodd(7)"
   ]
  },
  {
   "cell_type": "code",
   "execution_count": 14,
   "id": "7b846b20",
   "metadata": {},
   "outputs": [
    {
     "name": "stdout",
     "output_type": "stream",
     "text": [
      "odd\n"
     ]
    }
   ],
   "source": [
    "evenodd(3)"
   ]
  },
  {
   "cell_type": "markdown",
   "id": "6fb4cfbe",
   "metadata": {},
   "source": [
    "# types of arguments\n",
    "1. default arguments\n",
    "2. keyword arguments"
   ]
  },
  {
   "cell_type": "code",
   "execution_count": 17,
   "id": "ab4fbb04",
   "metadata": {},
   "outputs": [],
   "source": [
    "# default arguments\n",
    "def myfun(x,y = 50):\n",
    "    print(\"x: \", x)\n",
    "    print(\"y: \",y)"
   ]
  },
  {
   "cell_type": "code",
   "execution_count": 18,
   "id": "d6c16f81",
   "metadata": {},
   "outputs": [
    {
     "name": "stdout",
     "output_type": "stream",
     "text": [
      "x:  20\n",
      "y:  50\n"
     ]
    }
   ],
   "source": [
    "myfun(20)"
   ]
  },
  {
   "cell_type": "code",
   "execution_count": 19,
   "id": "a9f03438",
   "metadata": {},
   "outputs": [],
   "source": [
    "def student(firstname,lastname):\n",
    "    print(firstname,lastname)"
   ]
  },
  {
   "cell_type": "code",
   "execution_count": 20,
   "id": "459d779d",
   "metadata": {},
   "outputs": [
    {
     "name": "stdout",
     "output_type": "stream",
     "text": [
      "manjunath kannur\n"
     ]
    }
   ],
   "source": [
    "student(\"manjunath\",'kannur')"
   ]
  },
  {
   "cell_type": "code",
   "execution_count": 21,
   "id": "d6b19212",
   "metadata": {},
   "outputs": [
    {
     "name": "stdout",
     "output_type": "stream",
     "text": [
      "renukadevi budihal\n"
     ]
    }
   ],
   "source": [
    "student(\"renukadevi\",'budihal')"
   ]
  },
  {
   "cell_type": "code",
   "execution_count": 22,
   "id": "0fcda4d3",
   "metadata": {},
   "outputs": [
    {
     "name": "stdout",
     "output_type": "stream",
     "text": [
      "yallamma rani\n"
     ]
    }
   ],
   "source": [
    "student(\"yallamma\",'rani')"
   ]
  },
  {
   "cell_type": "code",
   "execution_count": 23,
   "id": "2e014c7e",
   "metadata": {},
   "outputs": [
    {
     "name": "stdout",
     "output_type": "stream",
     "text": [
      "malingray prasanna\n"
     ]
    }
   ],
   "source": [
    "student(\"malingray\",\"prasanna\")"
   ]
  },
  {
   "cell_type": "code",
   "execution_count": 24,
   "id": "62e33cc1",
   "metadata": {},
   "outputs": [
    {
     "name": "stdout",
     "output_type": "stream",
     "text": [
      "renukadevi practice\n"
     ]
    }
   ],
   "source": [
    "student(firstname = \"renukadevi\",lastname = \"practice\")"
   ]
  },
  {
   "cell_type": "code",
   "execution_count": 25,
   "id": "3402ca09",
   "metadata": {},
   "outputs": [
    {
     "name": "stdout",
     "output_type": "stream",
     "text": [
      "geeks practice\n"
     ]
    }
   ],
   "source": [
    "student(lastname = \"practice\",firstname = \"geeks\")"
   ]
  },
  {
   "cell_type": "code",
   "execution_count": 26,
   "id": "8e21da3e",
   "metadata": {},
   "outputs": [],
   "source": [
    "# varible- length arguments\n",
    "# *args (non-keyword arguments)\n",
    "# **kwargs (keyword arguments)"
   ]
  },
  {
   "cell_type": "code",
   "execution_count": 27,
   "id": "6991e948",
   "metadata": {},
   "outputs": [],
   "source": [
    "def myfun(*args):\n",
    "    for item in args:\n",
    "        print(item)"
   ]
  },
  {
   "cell_type": "code",
   "execution_count": 28,
   "id": "eaeeb9f4",
   "metadata": {},
   "outputs": [
    {
     "name": "stdout",
     "output_type": "stream",
     "text": [
      "hello\n",
      "welcome\n",
      "to\n",
      "geeksforgeeks\n"
     ]
    }
   ],
   "source": [
    "myfun(\"hello\",'welcome','to','geeksforgeeks')"
   ]
  },
  {
   "cell_type": "code",
   "execution_count": 29,
   "id": "efdd8298",
   "metadata": {},
   "outputs": [],
   "source": [
    "# variable length keyword arguments\n",
    "def myfun(**kwargs):\n",
    "    for key,value in kwargs.items():\n",
    "        print(\"%s == %s\" % (key, value))"
   ]
  },
  {
   "cell_type": "code",
   "execution_count": 30,
   "id": "a7d5018c",
   "metadata": {},
   "outputs": [
    {
     "name": "stdout",
     "output_type": "stream",
     "text": [
      "first == manjunath\n",
      "lastname == kannur\n"
     ]
    }
   ],
   "source": [
    "myfun(first = \"manjunath\",lastname = \"kannur\")"
   ]
  },
  {
   "cell_type": "code",
   "execution_count": 31,
   "id": "7de4bad3",
   "metadata": {},
   "outputs": [],
   "source": [
    "# docstring \n",
    "# whether x is even or odd\n",
    "def evenodd(x):\n",
    "    \"\"\"function to check if the number is even or odd\"\"\"\n",
    "    if (x % 2 == 0):\n",
    "        print(\"even\")\n",
    "    else:\n",
    "        print(\"odd\")"
   ]
  },
  {
   "cell_type": "code",
   "execution_count": 32,
   "id": "44d1788d",
   "metadata": {},
   "outputs": [
    {
     "name": "stdout",
     "output_type": "stream",
     "text": [
      "odd\n"
     ]
    }
   ],
   "source": [
    "evenodd(5)"
   ]
  },
  {
   "cell_type": "code",
   "execution_count": 33,
   "id": "d092e4bb",
   "metadata": {},
   "outputs": [
    {
     "name": "stdout",
     "output_type": "stream",
     "text": [
      "even\n"
     ]
    }
   ],
   "source": [
    "evenodd(2)"
   ]
  },
  {
   "cell_type": "code",
   "execution_count": 34,
   "id": "1d90a3db",
   "metadata": {},
   "outputs": [],
   "source": [
    "# return statement\n",
    "# syntax return [expression_list]\n",
    "def squre_value(num):\n",
    "    \"\"\"this function returns the squre value of the entered number\"\"\"\n",
    "    return num**2"
   ]
  },
  {
   "cell_type": "code",
   "execution_count": 35,
   "id": "563eeabc",
   "metadata": {},
   "outputs": [
    {
     "name": "stdout",
     "output_type": "stream",
     "text": [
      "<function squre_value at 0x0000026913272F70>\n"
     ]
    }
   ],
   "source": [
    "print(squre_value)"
   ]
  },
  {
   "cell_type": "code",
   "execution_count": 40,
   "id": "bc3e3c26",
   "metadata": {},
   "outputs": [
    {
     "data": {
      "text/plain": [
       "4"
      ]
     },
     "execution_count": 40,
     "metadata": {},
     "output_type": "execute_result"
    }
   ],
   "source": [
    "squre_value(2)"
   ]
  },
  {
   "cell_type": "code",
   "execution_count": 41,
   "id": "6cb9a69f",
   "metadata": {},
   "outputs": [],
   "source": [
    "# python function pass by reference or pass by value\n",
    "def myfun(x):\n",
    "    x[0] = 20"
   ]
  },
  {
   "cell_type": "code",
   "execution_count": 42,
   "id": "85578151",
   "metadata": {},
   "outputs": [],
   "source": [
    "lst = [10,11,12,13,14,15]"
   ]
  },
  {
   "cell_type": "code",
   "execution_count": 43,
   "id": "3eb6028d",
   "metadata": {},
   "outputs": [],
   "source": [
    "myfun(lst)"
   ]
  },
  {
   "cell_type": "code",
   "execution_count": 44,
   "id": "d9e6933e",
   "metadata": {},
   "outputs": [
    {
     "data": {
      "text/plain": [
       "[20, 11, 12, 13, 14, 15]"
      ]
     },
     "execution_count": 44,
     "metadata": {},
     "output_type": "execute_result"
    }
   ],
   "source": [
    "lst"
   ]
  },
  {
   "cell_type": "code",
   "execution_count": 45,
   "id": "837b2f13",
   "metadata": {},
   "outputs": [],
   "source": [
    "def myfun(x):\n",
    "    x = [20,30,40]"
   ]
  },
  {
   "cell_type": "code",
   "execution_count": 46,
   "id": "9fc0efa0",
   "metadata": {},
   "outputs": [],
   "source": [
    "lst = [10,11,12,13,14,15,16]"
   ]
  },
  {
   "cell_type": "code",
   "execution_count": 47,
   "id": "ff663093",
   "metadata": {},
   "outputs": [],
   "source": [
    "myfun(lst)"
   ]
  },
  {
   "cell_type": "code",
   "execution_count": 48,
   "id": "829dfedb",
   "metadata": {},
   "outputs": [
    {
     "data": {
      "text/plain": [
       "[10, 11, 12, 13, 14, 15, 16]"
      ]
     },
     "execution_count": 48,
     "metadata": {},
     "output_type": "execute_result"
    }
   ],
   "source": [
    "lst"
   ]
  },
  {
   "cell_type": "code",
   "execution_count": 49,
   "id": "aa64c076",
   "metadata": {},
   "outputs": [],
   "source": [
    "def swap( x ,y):\n",
    "    temp = x\n",
    "    x = y\n",
    "    y = temp"
   ]
  },
  {
   "cell_type": "code",
   "execution_count": 50,
   "id": "7283efac",
   "metadata": {},
   "outputs": [],
   "source": [
    "x = 2\n",
    "y = 3"
   ]
  },
  {
   "cell_type": "code",
   "execution_count": 51,
   "id": "b55b2445",
   "metadata": {},
   "outputs": [],
   "source": [
    "swap(x,y)"
   ]
  },
  {
   "cell_type": "code",
   "execution_count": 52,
   "id": "541b1cc6",
   "metadata": {},
   "outputs": [
    {
     "name": "stdout",
     "output_type": "stream",
     "text": [
      "2 3\n"
     ]
    }
   ],
   "source": [
    "print(x,y)"
   ]
  },
  {
   "cell_type": "code",
   "execution_count": 53,
   "id": "e4f144bf",
   "metadata": {},
   "outputs": [],
   "source": [
    "swap(2,3)"
   ]
  },
  {
   "cell_type": "code",
   "execution_count": 54,
   "id": "34c0ccd3",
   "metadata": {},
   "outputs": [],
   "source": [
    "# Anonymous function\n",
    "# using lambda function\n",
    "def cube(x):\n",
    "    return x*x*x"
   ]
  },
  {
   "cell_type": "code",
   "execution_count": 55,
   "id": "75d44f76",
   "metadata": {},
   "outputs": [
    {
     "data": {
      "text/plain": [
       "8"
      ]
     },
     "execution_count": 55,
     "metadata": {},
     "output_type": "execute_result"
    }
   ],
   "source": [
    "cube(2)"
   ]
  },
  {
   "cell_type": "code",
   "execution_count": 56,
   "id": "997f4f65",
   "metadata": {},
   "outputs": [],
   "source": [
    "cube_v2 = lambda x:x*x*x"
   ]
  },
  {
   "cell_type": "code",
   "execution_count": 57,
   "id": "9946da53",
   "metadata": {},
   "outputs": [
    {
     "data": {
      "text/plain": [
       "27"
      ]
     },
     "execution_count": 57,
     "metadata": {},
     "output_type": "execute_result"
    }
   ],
   "source": [
    "cube_v2(3)"
   ]
  },
  {
   "cell_type": "code",
   "execution_count": 58,
   "id": "ca18b594",
   "metadata": {},
   "outputs": [],
   "source": [
    "def show(x):\n",
    "    return x*x"
   ]
  },
  {
   "cell_type": "code",
   "execution_count": 59,
   "id": "566d77d1",
   "metadata": {},
   "outputs": [
    {
     "data": {
      "text/plain": [
       "4"
      ]
     },
     "execution_count": 59,
     "metadata": {},
     "output_type": "execute_result"
    }
   ],
   "source": [
    "show(2)"
   ]
  },
  {
   "cell_type": "code",
   "execution_count": 60,
   "id": "c785782e",
   "metadata": {},
   "outputs": [],
   "source": [
    "result = lambda x : x*x"
   ]
  },
  {
   "cell_type": "code",
   "execution_count": 61,
   "id": "99d2845a",
   "metadata": {},
   "outputs": [
    {
     "data": {
      "text/plain": [
       "4"
      ]
     },
     "execution_count": 61,
     "metadata": {},
     "output_type": "execute_result"
    }
   ],
   "source": [
    "result(2)"
   ]
  },
  {
   "cell_type": "code",
   "execution_count": 62,
   "id": "786780fe",
   "metadata": {},
   "outputs": [
    {
     "data": {
      "text/plain": [
       "9"
      ]
     },
     "execution_count": 62,
     "metadata": {},
     "output_type": "execute_result"
    }
   ],
   "source": [
    "result(3)"
   ]
  },
  {
   "cell_type": "code",
   "execution_count": 63,
   "id": "d9c28c60",
   "metadata": {},
   "outputs": [],
   "source": [
    "show = lambda x : x*x"
   ]
  },
  {
   "cell_type": "code",
   "execution_count": 64,
   "id": "f81e5a55",
   "metadata": {},
   "outputs": [
    {
     "data": {
      "text/plain": [
       "36"
      ]
     },
     "execution_count": 64,
     "metadata": {},
     "output_type": "execute_result"
    }
   ],
   "source": [
    "show(6)"
   ]
  },
  {
   "cell_type": "code",
   "execution_count": 67,
   "id": "757897aa",
   "metadata": {},
   "outputs": [],
   "source": [
    "rr = lambda x : x*x"
   ]
  },
  {
   "cell_type": "code",
   "execution_count": 68,
   "id": "5c69cca1",
   "metadata": {},
   "outputs": [
    {
     "data": {
      "text/plain": [
       "4"
      ]
     },
     "execution_count": 68,
     "metadata": {},
     "output_type": "execute_result"
    }
   ],
   "source": [
    "rr(2)"
   ]
  },
  {
   "cell_type": "code",
   "execution_count": 69,
   "id": "cbb50715",
   "metadata": {},
   "outputs": [],
   "source": [
    "task = lambda x : x*x"
   ]
  },
  {
   "cell_type": "code",
   "execution_count": 70,
   "id": "6dff8352",
   "metadata": {},
   "outputs": [
    {
     "data": {
      "text/plain": [
       "25"
      ]
     },
     "execution_count": 70,
     "metadata": {},
     "output_type": "execute_result"
    }
   ],
   "source": [
    "task(5)"
   ]
  },
  {
   "cell_type": "code",
   "execution_count": 71,
   "id": "bd83d2f3",
   "metadata": {},
   "outputs": [
    {
     "name": "stdout",
     "output_type": "stream",
     "text": [
      "i love geeksforgeeks\n"
     ]
    }
   ],
   "source": [
    "# python_function within\n",
    "# variables of nested function\n",
    "def f1():\n",
    "    s = 'i love geeksforgeeks'\n",
    "    \n",
    "    def f2():\n",
    "        print(s)\n",
    "    f2()\n",
    "f1()"
   ]
  },
  {
   "cell_type": "code",
   "execution_count": 72,
   "id": "b2210af9",
   "metadata": {},
   "outputs": [],
   "source": [
    "# class method vs static mehtod\n",
    "# syntax off class method\n",
    "# class C(object):\n",
    "#     @classmethod\n",
    "#     def fun(cls,arg1,arg2,...)\n",
    "# statci method\n",
    "# class S(object):\n",
    "#     @staticmethod\n",
    "#     def fun(arg1,arg2.....)"
   ]
  },
  {
   "cell_type": "code",
   "execution_count": 73,
   "id": "e9f0cc97",
   "metadata": {},
   "outputs": [],
   "source": [
    "from datetime import date"
   ]
  },
  {
   "cell_type": "code",
   "execution_count": 74,
   "id": "85417645",
   "metadata": {},
   "outputs": [],
   "source": [
    "class person:\n",
    "    def __init__(self,name,age):\n",
    "        self.name = name\n",
    "        self.age = age\n",
    "    @classmethod\n",
    "    def frombirth(cls,name,year):\n",
    "        return cls(name,date.today().year-year)\n",
    "    @staticmethod\n",
    "    def isadult(age):\n",
    "        return age > 18"
   ]
  },
  {
   "cell_type": "code",
   "execution_count": 75,
   "id": "892a2bf1",
   "metadata": {},
   "outputs": [],
   "source": [
    "per = person('mayank',32)"
   ]
  },
  {
   "cell_type": "code",
   "execution_count": 77,
   "id": "7470d946",
   "metadata": {},
   "outputs": [
    {
     "data": {
      "text/plain": [
       "<__main__.person at 0x269133790a0>"
      ]
     },
     "execution_count": 77,
     "metadata": {},
     "output_type": "execute_result"
    }
   ],
   "source": [
    "per.frombirth('mayank',1990)"
   ]
  },
  {
   "cell_type": "code",
   "execution_count": 79,
   "id": "5c2b1a83",
   "metadata": {},
   "outputs": [
    {
     "data": {
      "text/plain": [
       "32"
      ]
     },
     "execution_count": 79,
     "metadata": {},
     "output_type": "execute_result"
    }
   ],
   "source": [
    "per.age"
   ]
  },
  {
   "cell_type": "markdown",
   "id": "d3bd0978",
   "metadata": {},
   "source": [
    "# how to write empty function in python - pass statement"
   ]
  },
  {
   "cell_type": "code",
   "execution_count": 80,
   "id": "f011b013",
   "metadata": {},
   "outputs": [
    {
     "ename": "IndentationError",
     "evalue": "expected an indented block (Temp/ipykernel_4688/4039436457.py, line 2)",
     "output_type": "error",
     "traceback": [
      "\u001b[1;36m  File \u001b[1;32m\"C:\\Users\\yaraz\\AppData\\Local\\Temp/ipykernel_4688/4039436457.py\"\u001b[1;36m, line \u001b[1;32m2\u001b[0m\n\u001b[1;33m    \u001b[0m\n\u001b[1;37m    ^\u001b[0m\n\u001b[1;31mIndentationError\u001b[0m\u001b[1;31m:\u001b[0m expected an indented block\n"
     ]
    }
   ],
   "source": [
    "def fun():\n",
    "    "
   ]
  },
  {
   "cell_type": "code",
   "execution_count": 81,
   "id": "88e4d521",
   "metadata": {},
   "outputs": [],
   "source": [
    "def fun():\n",
    "    pass"
   ]
  },
  {
   "cell_type": "code",
   "execution_count": 1,
   "id": "7c03c1b6",
   "metadata": {},
   "outputs": [],
   "source": [
    "mutex = True"
   ]
  },
  {
   "cell_type": "code",
   "execution_count": 2,
   "id": "f196670a",
   "metadata": {},
   "outputs": [],
   "source": [
    "if (mutex == True):\n",
    "    pass\n",
    "else:\n",
    "    print(\"false..\")"
   ]
  },
  {
   "cell_type": "code",
   "execution_count": 3,
   "id": "0f6c545c",
   "metadata": {},
   "outputs": [],
   "source": [
    "# yield insted of return in python\n",
    "def simple():\n",
    "    yield 1\n",
    "    yield 2 \n",
    "    yield 3\n",
    "    "
   ]
  },
  {
   "cell_type": "code",
   "execution_count": 13,
   "id": "15978796",
   "metadata": {},
   "outputs": [
    {
     "name": "stdout",
     "output_type": "stream",
     "text": [
      "1\n",
      "2\n",
      "3\n"
     ]
    }
   ],
   "source": [
    "for value in simple():\n",
    "    print(value)"
   ]
  },
  {
   "cell_type": "code",
   "execution_count": 16,
   "id": "dfdab101",
   "metadata": {},
   "outputs": [
    {
     "name": "stdout",
     "output_type": "stream",
     "text": [
      "yarazari10@gmail.com\n",
      "20\n"
     ]
    }
   ],
   "source": [
    "class Test:\n",
    "    def __init__(self):\n",
    "        self.str = \"yarazari10@gmail.com\"\n",
    "        self.x = 20\n",
    "    def fun():\n",
    "        return Test()\n",
    "    t = fun()\n",
    "    print(t.str)\n",
    "    print(t.x)"
   ]
  },
  {
   "cell_type": "code",
   "execution_count": 19,
   "id": "9693b91c",
   "metadata": {},
   "outputs": [
    {
     "name": "stdout",
     "output_type": "stream",
     "text": [
      "animals name {self.name}\n",
      "animals age should be {self.age}\n",
      "animals sex is shoud be {self.sex}\n"
     ]
    }
   ],
   "source": [
    "class Animals:\n",
    "    def __init__(self,name,age,sex):\n",
    "        self.name = name\n",
    "        self.age = age\n",
    "        self.sex = sex\n",
    "    def time():\n",
    "        print(\"animals name {self.name}\")\n",
    "        print(\"animals age should be {self.age}\")\n",
    "        print(\"animals sex is shoud be {self.sex}\")\n",
    "        return Animals('dog',25,'male')\n",
    "    t = time()"
   ]
  },
  {
   "cell_type": "code",
   "execution_count": 20,
   "id": "8686ceb1",
   "metadata": {},
   "outputs": [
    {
     "name": "stdout",
     "output_type": "stream",
     "text": [
      "manjunath kannur\n",
      "20\n"
     ]
    }
   ],
   "source": [
    "# using tuple\n",
    "def fun():\n",
    "    str = \"manjunath kannur\"\n",
    "    x = 20\n",
    "    return str,x;\n",
    "str,x = fun()\n",
    "print(str)\n",
    "print(x)\n",
    "    "
   ]
  },
  {
   "cell_type": "code",
   "execution_count": 21,
   "id": "d01cdc3d",
   "metadata": {},
   "outputs": [
    {
     "name": "stdout",
     "output_type": "stream",
     "text": [
      "['malingray prasanna', 20]\n"
     ]
    }
   ],
   "source": [
    "# using a list\n",
    "# values from a method using list\n",
    "def fun():\n",
    "    str = \"malingray prasanna\"\n",
    "    x = 20\n",
    "    return [str,x]\n",
    "list1 = fun()\n",
    "print(list1)"
   ]
  },
  {
   "cell_type": "code",
   "execution_count": 22,
   "id": "5c4f61c5",
   "metadata": {},
   "outputs": [
    {
     "name": "stdout",
     "output_type": "stream",
     "text": [
      "{'str': 'renukadevi prasanna', 'x': 20}\n"
     ]
    }
   ],
   "source": [
    "def fun():\n",
    "    d = dict()\n",
    "    d['str'] = 'renukadevi prasanna'\n",
    "    d['x'] = 20\n",
    "    return d\n",
    "d = fun()\n",
    "print(d)"
   ]
  },
  {
   "cell_type": "code",
   "execution_count": 23,
   "id": "9269deeb",
   "metadata": {},
   "outputs": [],
   "source": [
    "the_word_is_flat = True"
   ]
  },
  {
   "cell_type": "code",
   "execution_count": 24,
   "id": "1ac9656d",
   "metadata": {},
   "outputs": [
    {
     "name": "stdout",
     "output_type": "stream",
     "text": [
      "be carefull not to fall off...\n"
     ]
    }
   ],
   "source": [
    "if the_word_is_flat:\n",
    "    print(\"be carefull not to fall off...\")"
   ]
  },
  {
   "cell_type": "code",
   "execution_count": 25,
   "id": "27d38c4b",
   "metadata": {},
   "outputs": [],
   "source": [
    "# this is the first comment\n",
    "spam = 1 # and this is the second comment\n",
    "text = \"# this is comment because it's iniside quotes..\""
   ]
  },
  {
   "cell_type": "code",
   "execution_count": 26,
   "id": "0568b3ee",
   "metadata": {},
   "outputs": [
    {
     "name": "stdout",
     "output_type": "stream",
     "text": [
      "1\n",
      "# this is comment because it's iniside quotes..\n"
     ]
    }
   ],
   "source": [
    "print(spam)\n",
    "print(text)"
   ]
  },
  {
   "cell_type": "code",
   "execution_count": 27,
   "id": "a8fa1cf7",
   "metadata": {},
   "outputs": [
    {
     "data": {
      "text/plain": [
       "4"
      ]
     },
     "execution_count": 27,
     "metadata": {},
     "output_type": "execute_result"
    }
   ],
   "source": [
    "2+2"
   ]
  },
  {
   "cell_type": "code",
   "execution_count": 28,
   "id": "0f354055",
   "metadata": {},
   "outputs": [
    {
     "data": {
      "text/plain": [
       "20"
      ]
     },
     "execution_count": 28,
     "metadata": {},
     "output_type": "execute_result"
    }
   ],
   "source": [
    "(50-5*6)"
   ]
  },
  {
   "cell_type": "code",
   "execution_count": 29,
   "id": "3ff2fc98",
   "metadata": {},
   "outputs": [
    {
     "data": {
      "text/plain": [
       "4.0"
      ]
     },
     "execution_count": 29,
     "metadata": {},
     "output_type": "execute_result"
    }
   ],
   "source": [
    "(50-5*6)/5"
   ]
  },
  {
   "cell_type": "code",
   "execution_count": 30,
   "id": "86839243",
   "metadata": {},
   "outputs": [
    {
     "data": {
      "text/plain": [
       "5.666666666666667"
      ]
     },
     "execution_count": 30,
     "metadata": {},
     "output_type": "execute_result"
    }
   ],
   "source": [
    "17/3 # classic divisionn return float"
   ]
  },
  {
   "cell_type": "code",
   "execution_count": 31,
   "id": "c2d3a7fa",
   "metadata": {},
   "outputs": [
    {
     "data": {
      "text/plain": [
       "5"
      ]
     },
     "execution_count": 31,
     "metadata": {},
     "output_type": "execute_result"
    }
   ],
   "source": [
    "17//3 floor division descards the fractional part"
   ]
  },
  {
   "cell_type": "code",
   "execution_count": 32,
   "id": "6780c9f8",
   "metadata": {},
   "outputs": [
    {
     "data": {
      "text/plain": [
       "2"
      ]
     },
     "execution_count": 32,
     "metadata": {},
     "output_type": "execute_result"
    }
   ],
   "source": [
    "17 % 3 # return reminder of the division"
   ]
  },
  {
   "cell_type": "code",
   "execution_count": 33,
   "id": "1dec4a78",
   "metadata": {},
   "outputs": [
    {
     "data": {
      "text/plain": [
       "17"
      ]
     },
     "execution_count": 33,
     "metadata": {},
     "output_type": "execute_result"
    }
   ],
   "source": [
    "5 * 3 + 2"
   ]
  },
  {
   "cell_type": "code",
   "execution_count": 34,
   "id": "60e87b87",
   "metadata": {},
   "outputs": [],
   "source": [
    "sq = 2**5"
   ]
  },
  {
   "cell_type": "code",
   "execution_count": 35,
   "id": "7c106b09",
   "metadata": {},
   "outputs": [
    {
     "data": {
      "text/plain": [
       "32"
      ]
     },
     "execution_count": 35,
     "metadata": {},
     "output_type": "execute_result"
    }
   ],
   "source": [
    "sq"
   ]
  },
  {
   "cell_type": "code",
   "execution_count": 36,
   "id": "401f9c44",
   "metadata": {},
   "outputs": [],
   "source": [
    "sq = 5 ** 2"
   ]
  },
  {
   "cell_type": "code",
   "execution_count": 37,
   "id": "1ca25372",
   "metadata": {},
   "outputs": [
    {
     "data": {
      "text/plain": [
       "25"
      ]
     },
     "execution_count": 37,
     "metadata": {},
     "output_type": "execute_result"
    }
   ],
   "source": [
    "sq"
   ]
  },
  {
   "cell_type": "code",
   "execution_count": 38,
   "id": "3f937492",
   "metadata": {},
   "outputs": [],
   "source": [
    "def sq(x):\n",
    "    return x**x"
   ]
  },
  {
   "cell_type": "code",
   "execution_count": 39,
   "id": "53d19b9a",
   "metadata": {},
   "outputs": [
    {
     "data": {
      "text/plain": [
       "4"
      ]
     },
     "execution_count": 39,
     "metadata": {},
     "output_type": "execute_result"
    }
   ],
   "source": [
    "sq(2)"
   ]
  },
  {
   "cell_type": "code",
   "execution_count": 40,
   "id": "39227df3",
   "metadata": {},
   "outputs": [],
   "source": [
    "# equl sign(=) is used to assign a value to a variable\n",
    "width = 220\n",
    "height = 5 * 9\n",
    "result = width  * height"
   ]
  },
  {
   "cell_type": "code",
   "execution_count": 41,
   "id": "8c67d288",
   "metadata": {},
   "outputs": [
    {
     "data": {
      "text/plain": [
       "9900"
      ]
     },
     "execution_count": 41,
     "metadata": {},
     "output_type": "execute_result"
    }
   ],
   "source": [
    "result"
   ]
  },
  {
   "cell_type": "code",
   "execution_count": 43,
   "id": "9b61598a",
   "metadata": {},
   "outputs": [
    {
     "data": {
      "text/plain": [
       "50"
      ]
     },
     "execution_count": 43,
     "metadata": {},
     "output_type": "execute_result"
    }
   ],
   "source": [
    "w = 5\n",
    "h = 5 * 2\n",
    "result = w * h\n",
    "result"
   ]
  },
  {
   "cell_type": "code",
   "execution_count": 44,
   "id": "4cc00e44",
   "metadata": {},
   "outputs": [
    {
     "ename": "NameError",
     "evalue": "name 'n' is not defined",
     "output_type": "error",
     "traceback": [
      "\u001b[1;31m---------------------------------------------------------------------------\u001b[0m",
      "\u001b[1;31mNameError\u001b[0m                                 Traceback (most recent call last)",
      "\u001b[1;32m~\\AppData\\Local\\Temp/ipykernel_2956/1249512285.py\u001b[0m in \u001b[0;36m<module>\u001b[1;34m\u001b[0m\n\u001b[1;32m----> 1\u001b[1;33m \u001b[0mn\u001b[0m\u001b[1;33m\u001b[0m\u001b[1;33m\u001b[0m\u001b[0m\n\u001b[0m",
      "\u001b[1;31mNameError\u001b[0m: name 'n' is not defined"
     ]
    }
   ],
   "source": [
    "n"
   ]
  },
  {
   "cell_type": "code",
   "execution_count": 45,
   "id": "17b699fe",
   "metadata": {},
   "outputs": [
    {
     "data": {
      "text/plain": [
       "14.0"
      ]
     },
     "execution_count": 45,
     "metadata": {},
     "output_type": "execute_result"
    }
   ],
   "source": [
    "4 * 3.75 -1"
   ]
  },
  {
   "cell_type": "code",
   "execution_count": 46,
   "id": "368e55b4",
   "metadata": {},
   "outputs": [],
   "source": [
    "rat = 5 * 6 - 8"
   ]
  },
  {
   "cell_type": "code",
   "execution_count": 47,
   "id": "97d5b3ad",
   "metadata": {},
   "outputs": [
    {
     "data": {
      "text/plain": [
       "22"
      ]
     },
     "execution_count": 47,
     "metadata": {},
     "output_type": "execute_result"
    }
   ],
   "source": [
    "rat"
   ]
  },
  {
   "cell_type": "code",
   "execution_count": 48,
   "id": "124f9969",
   "metadata": {},
   "outputs": [],
   "source": [
    "tax = 12.5 / 100"
   ]
  },
  {
   "cell_type": "code",
   "execution_count": 49,
   "id": "81166591",
   "metadata": {},
   "outputs": [],
   "source": [
    "price = 100.50"
   ]
  },
  {
   "cell_type": "code",
   "execution_count": 50,
   "id": "9c4ba913",
   "metadata": {},
   "outputs": [
    {
     "data": {
      "text/plain": [
       "12.5625"
      ]
     },
     "execution_count": 50,
     "metadata": {},
     "output_type": "execute_result"
    }
   ],
   "source": [
    "price * tax"
   ]
  },
  {
   "cell_type": "code",
   "execution_count": 51,
   "id": "03035a65",
   "metadata": {},
   "outputs": [],
   "source": [
    "tx = 12.5 / 100"
   ]
  },
  {
   "cell_type": "code",
   "execution_count": 52,
   "id": "351fb745",
   "metadata": {},
   "outputs": [],
   "source": [
    "price = 200000"
   ]
  },
  {
   "cell_type": "code",
   "execution_count": 53,
   "id": "75c4f4e5",
   "metadata": {},
   "outputs": [
    {
     "data": {
      "text/plain": [
       "25000.0"
      ]
     },
     "execution_count": 53,
     "metadata": {},
     "output_type": "execute_result"
    }
   ],
   "source": [
    "price * tx"
   ]
  },
  {
   "cell_type": "code",
   "execution_count": 54,
   "id": "9e26ec14",
   "metadata": {},
   "outputs": [
    {
     "data": {
      "text/plain": [
       "'spam eggs'"
      ]
     },
     "execution_count": 54,
     "metadata": {},
     "output_type": "execute_result"
    }
   ],
   "source": [
    "# string\n",
    "s = 'spam eggs'\n",
    "s"
   ]
  },
  {
   "cell_type": "code",
   "execution_count": 55,
   "id": "f588dca1",
   "metadata": {},
   "outputs": [],
   "source": [
    "s1 = 'doesn\\t'"
   ]
  },
  {
   "cell_type": "code",
   "execution_count": 56,
   "id": "9e2d6284",
   "metadata": {},
   "outputs": [
    {
     "data": {
      "text/plain": [
       "'doesn\\t'"
      ]
     },
     "execution_count": 56,
     "metadata": {},
     "output_type": "execute_result"
    }
   ],
   "source": [
    "s1"
   ]
  },
  {
   "cell_type": "code",
   "execution_count": 57,
   "id": "d3937736",
   "metadata": {},
   "outputs": [],
   "source": [
    "s2 = \"doesn't\""
   ]
  },
  {
   "cell_type": "code",
   "execution_count": 58,
   "id": "e6dbf278",
   "metadata": {},
   "outputs": [
    {
     "data": {
      "text/plain": [
       "\"doesn't\""
      ]
     },
     "execution_count": 58,
     "metadata": {},
     "output_type": "execute_result"
    }
   ],
   "source": [
    "s2"
   ]
  },
  {
   "cell_type": "code",
   "execution_count": 59,
   "id": "80339ab7",
   "metadata": {},
   "outputs": [
    {
     "data": {
      "text/plain": [
       "'\"yes\" they are said..'"
      ]
     },
     "execution_count": 59,
     "metadata": {},
     "output_type": "execute_result"
    }
   ],
   "source": [
    "'\"yes\" they are said..'"
   ]
  },
  {
   "cell_type": "code",
   "execution_count": 61,
   "id": "348e2fe2",
   "metadata": {},
   "outputs": [
    {
     "data": {
      "text/plain": [
       "'\"isn\\t\" they said'"
      ]
     },
     "execution_count": 61,
     "metadata": {},
     "output_type": "execute_result"
    }
   ],
   "source": [
    "'\"isn\\t\" they said'"
   ]
  },
  {
   "cell_type": "code",
   "execution_count": 62,
   "id": "152f482d",
   "metadata": {},
   "outputs": [],
   "source": [
    "string = \"name\\n\""
   ]
  },
  {
   "cell_type": "code",
   "execution_count": 63,
   "id": "3dba2ffc",
   "metadata": {},
   "outputs": [
    {
     "data": {
      "text/plain": [
       "'name\\n'"
      ]
     },
     "execution_count": 63,
     "metadata": {},
     "output_type": "execute_result"
    }
   ],
   "source": [
    "string"
   ]
  },
  {
   "cell_type": "code",
   "execution_count": 64,
   "id": "219676fd",
   "metadata": {},
   "outputs": [
    {
     "name": "stdout",
     "output_type": "stream",
     "text": [
      "name\n",
      "\n"
     ]
    }
   ],
   "source": [
    "print(\"name\\n\")"
   ]
  },
  {
   "cell_type": "code",
   "execution_count": 65,
   "id": "70297df8",
   "metadata": {},
   "outputs": [
    {
     "name": "stdout",
     "output_type": "stream",
     "text": [
      "name\t\n"
     ]
    }
   ],
   "source": [
    "print(\"name\\t\")"
   ]
  },
  {
   "cell_type": "code",
   "execution_count": 66,
   "id": "f9f2b6e1",
   "metadata": {},
   "outputs": [],
   "source": [
    "s = 'first line.\\nsecond line'"
   ]
  },
  {
   "cell_type": "code",
   "execution_count": 67,
   "id": "9d652a3d",
   "metadata": {},
   "outputs": [
    {
     "data": {
      "text/plain": [
       "'first line.\\nsecond line'"
      ]
     },
     "execution_count": 67,
     "metadata": {},
     "output_type": "execute_result"
    }
   ],
   "source": [
    "s"
   ]
  },
  {
   "cell_type": "code",
   "execution_count": 68,
   "id": "5a885e93",
   "metadata": {},
   "outputs": [
    {
     "name": "stdout",
     "output_type": "stream",
     "text": [
      "first line\n",
      "second line is produced...\n"
     ]
    }
   ],
   "source": [
    "print(\"first line\\nsecond line is produced...\")"
   ]
  },
  {
   "cell_type": "code",
   "execution_count": 69,
   "id": "a9a2474b",
   "metadata": {},
   "outputs": [
    {
     "name": "stdout",
     "output_type": "stream",
     "text": [
      "usage:thingy [option]\n",
      "-h\n",
      "-H\n"
     ]
    }
   ],
   "source": [
    "print(\"\"\"usage:thingy [option]\n",
    "-h\n",
    "-H\"\"\")"
   ]
  },
  {
   "cell_type": "code",
   "execution_count": 70,
   "id": "e14803f0",
   "metadata": {},
   "outputs": [
    {
     "data": {
      "text/plain": [
       "'unununium'"
      ]
     },
     "execution_count": 70,
     "metadata": {},
     "output_type": "execute_result"
    }
   ],
   "source": [
    "# 3 times 'un' followed by 'ium'\n",
    "3 * 'un' + 'ium'"
   ]
  },
  {
   "cell_type": "code",
   "execution_count": 71,
   "id": "40bd3814",
   "metadata": {},
   "outputs": [
    {
     "data": {
      "text/plain": [
       "'python'"
      ]
     },
     "execution_count": 71,
     "metadata": {},
     "output_type": "execute_result"
    }
   ],
   "source": [
    "'py' 'thon'"
   ]
  },
  {
   "cell_type": "code",
   "execution_count": 72,
   "id": "6f43746f",
   "metadata": {},
   "outputs": [],
   "source": [
    "prefix = 'py'\n",
    "postfix = 'thon'"
   ]
  },
  {
   "cell_type": "code",
   "execution_count": 73,
   "id": "206f7fc8",
   "metadata": {},
   "outputs": [
    {
     "data": {
      "text/plain": [
       "'python'"
      ]
     },
     "execution_count": 73,
     "metadata": {},
     "output_type": "execute_result"
    }
   ],
   "source": [
    "prefix +postfix"
   ]
  },
  {
   "cell_type": "code",
   "execution_count": 74,
   "id": "b1e1f360",
   "metadata": {},
   "outputs": [
    {
     "data": {
      "text/plain": [
       "'unununyum'"
      ]
     },
     "execution_count": 74,
     "metadata": {},
     "output_type": "execute_result"
    }
   ],
   "source": [
    "3 * 'un' + 'yum'"
   ]
  },
  {
   "cell_type": "code",
   "execution_count": 75,
   "id": "e89b6b4f",
   "metadata": {},
   "outputs": [
    {
     "data": {
      "text/plain": [
       "'python'"
      ]
     },
     "execution_count": 75,
     "metadata": {},
     "output_type": "execute_result"
    }
   ],
   "source": [
    "prefix + 'thon'"
   ]
  },
  {
   "cell_type": "code",
   "execution_count": 76,
   "id": "0d4cf36e",
   "metadata": {},
   "outputs": [],
   "source": [
    "word = 'python'"
   ]
  },
  {
   "cell_type": "code",
   "execution_count": 77,
   "id": "3fd7a94b",
   "metadata": {},
   "outputs": [
    {
     "data": {
      "text/plain": [
       "'p'"
      ]
     },
     "execution_count": 77,
     "metadata": {},
     "output_type": "execute_result"
    }
   ],
   "source": [
    "word[0]"
   ]
  },
  {
   "cell_type": "code",
   "execution_count": 78,
   "id": "559ef8dc",
   "metadata": {},
   "outputs": [
    {
     "data": {
      "text/plain": [
       "'y'"
      ]
     },
     "execution_count": 78,
     "metadata": {},
     "output_type": "execute_result"
    }
   ],
   "source": [
    "word[1]"
   ]
  },
  {
   "cell_type": "code",
   "execution_count": 79,
   "id": "37197b94",
   "metadata": {},
   "outputs": [
    {
     "data": {
      "text/plain": [
       "'t'"
      ]
     },
     "execution_count": 79,
     "metadata": {},
     "output_type": "execute_result"
    }
   ],
   "source": [
    "word[2]"
   ]
  },
  {
   "cell_type": "code",
   "execution_count": 81,
   "id": "81d0cfe5",
   "metadata": {},
   "outputs": [
    {
     "data": {
      "text/plain": [
       "'h'"
      ]
     },
     "execution_count": 81,
     "metadata": {},
     "output_type": "execute_result"
    }
   ],
   "source": [
    "word[3]"
   ]
  },
  {
   "cell_type": "code",
   "execution_count": 82,
   "id": "f2fd4425",
   "metadata": {},
   "outputs": [
    {
     "data": {
      "text/plain": [
       "'n'"
      ]
     },
     "execution_count": 82,
     "metadata": {},
     "output_type": "execute_result"
    }
   ],
   "source": [
    "word[-1]"
   ]
  },
  {
   "cell_type": "code",
   "execution_count": 83,
   "id": "f2ed1475",
   "metadata": {},
   "outputs": [
    {
     "data": {
      "text/plain": [
       "'o'"
      ]
     },
     "execution_count": 83,
     "metadata": {},
     "output_type": "execute_result"
    }
   ],
   "source": [
    "word[-2]"
   ]
  },
  {
   "cell_type": "code",
   "execution_count": 84,
   "id": "facb71e2",
   "metadata": {},
   "outputs": [
    {
     "data": {
      "text/plain": [
       "'h'"
      ]
     },
     "execution_count": 84,
     "metadata": {},
     "output_type": "execute_result"
    }
   ],
   "source": [
    "word[-3]"
   ]
  },
  {
   "cell_type": "code",
   "execution_count": 85,
   "id": "63a79206",
   "metadata": {},
   "outputs": [],
   "source": [
    "word = 'python'"
   ]
  },
  {
   "cell_type": "code",
   "execution_count": 86,
   "id": "d04de370",
   "metadata": {},
   "outputs": [
    {
     "data": {
      "text/plain": [
       "'p'"
      ]
     },
     "execution_count": 86,
     "metadata": {},
     "output_type": "execute_result"
    }
   ],
   "source": [
    "word[0]"
   ]
  },
  {
   "cell_type": "code",
   "execution_count": 87,
   "id": "23b7435c",
   "metadata": {},
   "outputs": [
    {
     "data": {
      "text/plain": [
       "'py'"
      ]
     },
     "execution_count": 87,
     "metadata": {},
     "output_type": "execute_result"
    }
   ],
   "source": [
    "word[0:2] # charecter from position 0 ot 2"
   ]
  },
  {
   "cell_type": "code",
   "execution_count": 88,
   "id": "96fc4e2a",
   "metadata": {},
   "outputs": [
    {
     "data": {
      "text/plain": [
       "'tho'"
      ]
     },
     "execution_count": 88,
     "metadata": {},
     "output_type": "execute_result"
    }
   ],
   "source": [
    "word[2:5] # charecter from 2 to 5"
   ]
  },
  {
   "cell_type": "code",
   "execution_count": 90,
   "id": "d27ced60",
   "metadata": {},
   "outputs": [
    {
     "data": {
      "text/plain": [
       "'py'"
      ]
     },
     "execution_count": 90,
     "metadata": {},
     "output_type": "execute_result"
    }
   ],
   "source": [
    "word[:2]"
   ]
  },
  {
   "cell_type": "code",
   "execution_count": 91,
   "id": "85067487",
   "metadata": {},
   "outputs": [
    {
     "data": {
      "text/plain": [
       "'pyth'"
      ]
     },
     "execution_count": 91,
     "metadata": {},
     "output_type": "execute_result"
    }
   ],
   "source": [
    "word[:4]"
   ]
  },
  {
   "cell_type": "code",
   "execution_count": 92,
   "id": "9bae69a5",
   "metadata": {},
   "outputs": [
    {
     "data": {
      "text/plain": [
       "'python'"
      ]
     },
     "execution_count": 92,
     "metadata": {},
     "output_type": "execute_result"
    }
   ],
   "source": [
    "'python'"
   ]
  },
  {
   "cell_type": "code",
   "execution_count": 93,
   "id": "f94ba76c",
   "metadata": {},
   "outputs": [],
   "source": [
    "data = 'python'"
   ]
  },
  {
   "cell_type": "code",
   "execution_count": 94,
   "id": "0d64997e",
   "metadata": {},
   "outputs": [
    {
     "data": {
      "text/plain": [
       "6"
      ]
     },
     "execution_count": 94,
     "metadata": {},
     "output_type": "execute_result"
    }
   ],
   "source": [
    "len(data)"
   ]
  },
  {
   "cell_type": "code",
   "execution_count": 95,
   "id": "688492a1",
   "metadata": {},
   "outputs": [
    {
     "ename": "IndexError",
     "evalue": "string index out of range",
     "output_type": "error",
     "traceback": [
      "\u001b[1;31m---------------------------------------------------------------------------\u001b[0m",
      "\u001b[1;31mIndexError\u001b[0m                                Traceback (most recent call last)",
      "\u001b[1;32m~\\AppData\\Local\\Temp/ipykernel_2956/1308383204.py\u001b[0m in \u001b[0;36m<module>\u001b[1;34m\u001b[0m\n\u001b[1;32m----> 1\u001b[1;33m \u001b[0mword\u001b[0m\u001b[1;33m[\u001b[0m\u001b[1;36m42\u001b[0m\u001b[1;33m]\u001b[0m\u001b[1;33m\u001b[0m\u001b[1;33m\u001b[0m\u001b[0m\n\u001b[0m",
      "\u001b[1;31mIndexError\u001b[0m: string index out of range"
     ]
    }
   ],
   "source": [
    "word[42]"
   ]
  },
  {
   "cell_type": "code",
   "execution_count": 96,
   "id": "45779a85",
   "metadata": {},
   "outputs": [
    {
     "data": {
      "text/plain": [
       "'on'"
      ]
     },
     "execution_count": 96,
     "metadata": {},
     "output_type": "execute_result"
    }
   ],
   "source": [
    "word[4:42]"
   ]
  },
  {
   "cell_type": "code",
   "execution_count": 97,
   "id": "b1be9f6c",
   "metadata": {},
   "outputs": [
    {
     "data": {
      "text/plain": [
       "'p'"
      ]
     },
     "execution_count": 97,
     "metadata": {},
     "output_type": "execute_result"
    }
   ],
   "source": [
    "# python string cannot be changed- they are immutable.\n",
    "word[0]"
   ]
  },
  {
   "cell_type": "code",
   "execution_count": 98,
   "id": "09ab32e1",
   "metadata": {},
   "outputs": [
    {
     "ename": "TypeError",
     "evalue": "'str' object does not support item assignment",
     "output_type": "error",
     "traceback": [
      "\u001b[1;31m---------------------------------------------------------------------------\u001b[0m",
      "\u001b[1;31mTypeError\u001b[0m                                 Traceback (most recent call last)",
      "\u001b[1;32m~\\AppData\\Local\\Temp/ipykernel_2956/4193754395.py\u001b[0m in \u001b[0;36m<module>\u001b[1;34m\u001b[0m\n\u001b[1;32m----> 1\u001b[1;33m \u001b[0mword\u001b[0m\u001b[1;33m[\u001b[0m\u001b[1;36m0\u001b[0m\u001b[1;33m]\u001b[0m \u001b[1;33m=\u001b[0m \u001b[1;34m'j'\u001b[0m\u001b[1;33m\u001b[0m\u001b[1;33m\u001b[0m\u001b[0m\n\u001b[0m",
      "\u001b[1;31mTypeError\u001b[0m: 'str' object does not support item assignment"
     ]
    }
   ],
   "source": [
    "word[0] = 'j'"
   ]
  },
  {
   "cell_type": "code",
   "execution_count": 99,
   "id": "ac47e306",
   "metadata": {},
   "outputs": [
    {
     "data": {
      "text/plain": [
       "'jython'"
      ]
     },
     "execution_count": 99,
     "metadata": {},
     "output_type": "execute_result"
    }
   ],
   "source": [
    "'j' + word[1:]"
   ]
  },
  {
   "cell_type": "code",
   "execution_count": 101,
   "id": "df7ec170",
   "metadata": {},
   "outputs": [
    {
     "data": {
      "text/plain": [
       "'pypy'"
      ]
     },
     "execution_count": 101,
     "metadata": {},
     "output_type": "execute_result"
    }
   ],
   "source": [
    "word[:2]+'py'"
   ]
  },
  {
   "cell_type": "code",
   "execution_count": 107,
   "id": "1ccd1a7c",
   "metadata": {},
   "outputs": [],
   "source": [
    "#  built-in function len return the length of a string\n",
    "string = \"my name is manjunath kannur\""
   ]
  },
  {
   "cell_type": "markdown",
   "id": "1d0e944d",
   "metadata": {},
   "source": [
    "# first class functions in python"
   ]
  },
  {
   "cell_type": "code",
   "execution_count": null,
   "id": "9b348caf",
   "metadata": {},
   "outputs": [],
   "source": []
  }
 ],
 "metadata": {
  "kernelspec": {
   "display_name": "Python 3 (ipykernel)",
   "language": "python",
   "name": "python3"
  },
  "language_info": {
   "codemirror_mode": {
    "name": "ipython",
    "version": 3
   },
   "file_extension": ".py",
   "mimetype": "text/x-python",
   "name": "python",
   "nbconvert_exporter": "python",
   "pygments_lexer": "ipython3",
   "version": "3.9.2"
  }
 },
 "nbformat": 4,
 "nbformat_minor": 5
}
