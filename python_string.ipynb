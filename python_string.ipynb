{
 "cells": [
  {
   "cell_type": "markdown",
   "id": "e6ffef6e",
   "metadata": {},
   "source": [
    "# python_string\n",
    "1. introduction to string\n",
    "2. declaring a string\n",
    "3. using quotes inside a string\n",
    "4. spanning a string across lines\n",
    "5. accessing a string\n",
    "6. string concatenation\n",
    "7. string formatters\n",
    "8. escape sequences\n",
    "9. string function\n",
    "10. operations on string"
   ]
  },
  {
   "cell_type": "markdown",
   "id": "92116594",
   "metadata": {},
   "source": [
    "# python string is a sequence of characters "
   ]
  },
  {
   "cell_type": "code",
   "execution_count": 1,
   "id": "7d7a765b",
   "metadata": {},
   "outputs": [
    {
     "data": {
      "text/plain": [
       "str"
      ]
     },
     "execution_count": 1,
     "metadata": {},
     "output_type": "execute_result"
    }
   ],
   "source": [
    "type('dogs are love')"
   ]
  },
  {
   "cell_type": "code",
   "execution_count": 2,
   "id": "ec3d6d52",
   "metadata": {},
   "outputs": [
    {
     "name": "stdout",
     "output_type": "stream",
     "text": [
      "dogs are love\n"
     ]
    }
   ],
   "source": [
    "a = 'dogs are love'\n",
    "print(a)"
   ]
  },
  {
   "cell_type": "code",
   "execution_count": 3,
   "id": "99312c60",
   "metadata": {},
   "outputs": [
    {
     "name": "stdout",
     "output_type": "stream",
     "text": [
      "dogs are love\n"
     ]
    }
   ],
   "source": [
    "a = \"dogs are love\"\n",
    "print(a)"
   ]
  },
  {
   "cell_type": "code",
   "execution_count": 4,
   "id": "f7c68443",
   "metadata": {},
   "outputs": [
    {
     "ename": "SyntaxError",
     "evalue": "EOL while scanning string literal (Temp/ipykernel_11852/1804820160.py, line 1)",
     "output_type": "error",
     "traceback": [
      "\u001b[1;36m  File \u001b[1;32m\"C:\\Users\\yaraz\\AppData\\Local\\Temp/ipykernel_11852/1804820160.py\"\u001b[1;36m, line \u001b[1;32m1\u001b[0m\n\u001b[1;33m    a = 'dogs are love\"\u001b[0m\n\u001b[1;37m                       ^\u001b[0m\n\u001b[1;31mSyntaxError\u001b[0m\u001b[1;31m:\u001b[0m EOL while scanning string literal\n"
     ]
    }
   ],
   "source": [
    "a = 'dogs are love\"\n",
    "print(a)"
   ]
  },
  {
   "cell_type": "code",
   "execution_count": 5,
   "id": "9a2770fe",
   "metadata": {},
   "outputs": [
    {
     "ename": "SyntaxError",
     "evalue": "invalid syntax (Temp/ipykernel_11852/793317734.py, line 1)",
     "output_type": "error",
     "traceback": [
      "\u001b[1;36m  File \u001b[1;32m\"C:\\Users\\yaraz\\AppData\\Local\\Temp/ipykernel_11852/793317734.py\"\u001b[1;36m, line \u001b[1;32m1\u001b[0m\n\u001b[1;33m    a = \"dogs are \"love\"\"\u001b[0m\n\u001b[1;37m                   ^\u001b[0m\n\u001b[1;31mSyntaxError\u001b[0m\u001b[1;31m:\u001b[0m invalid syntax\n"
     ]
    }
   ],
   "source": [
    "a = \"dogs are \"love\"\""
   ]
  },
  {
   "cell_type": "code",
   "execution_count": 6,
   "id": "8476da17",
   "metadata": {},
   "outputs": [],
   "source": [
    "a = 'dogs are \"love\"'"
   ]
  },
  {
   "cell_type": "code",
   "execution_count": 7,
   "id": "39c896a7",
   "metadata": {},
   "outputs": [
    {
     "data": {
      "text/plain": [
       "'dogs are \"love\"'"
      ]
     },
     "execution_count": 7,
     "metadata": {},
     "output_type": "execute_result"
    }
   ],
   "source": [
    "a"
   ]
  },
  {
   "cell_type": "code",
   "execution_count": 8,
   "id": "03231691",
   "metadata": {},
   "outputs": [],
   "source": [
    "a = 'this is my word \"is\"'"
   ]
  },
  {
   "cell_type": "code",
   "execution_count": 9,
   "id": "107920af",
   "metadata": {},
   "outputs": [
    {
     "data": {
      "text/plain": [
       "'this is my word \"is\"'"
      ]
     },
     "execution_count": 9,
     "metadata": {},
     "output_type": "execute_result"
    }
   ],
   "source": [
    "a"
   ]
  },
  {
   "cell_type": "code",
   "execution_count": 10,
   "id": "76e4abb7",
   "metadata": {},
   "outputs": [],
   "source": [
    "a = \"this is my word 'my'\""
   ]
  },
  {
   "cell_type": "code",
   "execution_count": 11,
   "id": "c033f512",
   "metadata": {},
   "outputs": [
    {
     "data": {
      "text/plain": [
       "\"this is my word 'my'\""
      ]
     },
     "execution_count": 11,
     "metadata": {},
     "output_type": "execute_result"
    }
   ],
   "source": [
    "a"
   ]
  },
  {
   "cell_type": "code",
   "execution_count": 12,
   "id": "d19b34ec",
   "metadata": {},
   "outputs": [],
   "source": [
    "a = \"\"\"doc string \"\"\""
   ]
  },
  {
   "cell_type": "code",
   "execution_count": 13,
   "id": "4d20b24d",
   "metadata": {},
   "outputs": [
    {
     "data": {
      "text/plain": [
       "'doc string '"
      ]
     },
     "execution_count": 13,
     "metadata": {},
     "output_type": "execute_result"
    }
   ],
   "source": [
    "a"
   ]
  },
  {
   "cell_type": "code",
   "execution_count": 14,
   "id": "9d4e55f8",
   "metadata": {},
   "outputs": [],
   "source": [
    "a = \"hello\\\n",
    "wellcome\"\n"
   ]
  },
  {
   "cell_type": "code",
   "execution_count": 15,
   "id": "d9667542",
   "metadata": {},
   "outputs": [
    {
     "data": {
      "text/plain": [
       "'hellowellcome'"
      ]
     },
     "execution_count": 15,
     "metadata": {},
     "output_type": "execute_result"
    }
   ],
   "source": [
    "a"
   ]
  },
  {
   "cell_type": "markdown",
   "id": "4b522467",
   "metadata": {},
   "source": [
    "# how to access the python string"
   ]
  },
  {
   "cell_type": "code",
   "execution_count": 16,
   "id": "68ee52c0",
   "metadata": {},
   "outputs": [
    {
     "data": {
      "text/plain": [
       "'t'"
      ]
     },
     "execution_count": 16,
     "metadata": {},
     "output_type": "execute_result"
    }
   ],
   "source": [
    "# string is a immutable\n",
    "a = \"this is my word\"\n",
    "a[0]"
   ]
  },
  {
   "cell_type": "code",
   "execution_count": 17,
   "id": "0e0a7137",
   "metadata": {},
   "outputs": [
    {
     "ename": "TypeError",
     "evalue": "'str' object does not support item assignment",
     "output_type": "error",
     "traceback": [
      "\u001b[1;31m---------------------------------------------------------------------------\u001b[0m",
      "\u001b[1;31mTypeError\u001b[0m                                 Traceback (most recent call last)",
      "\u001b[1;32m~\\AppData\\Local\\Temp/ipykernel_11852/1073962465.py\u001b[0m in \u001b[0;36m<module>\u001b[1;34m\u001b[0m\n\u001b[1;32m----> 1\u001b[1;33m \u001b[0ma\u001b[0m\u001b[1;33m[\u001b[0m\u001b[1;36m0\u001b[0m\u001b[1;33m]\u001b[0m \u001b[1;33m=\u001b[0m \u001b[1;34m\"h\"\u001b[0m\u001b[1;33m\u001b[0m\u001b[1;33m\u001b[0m\u001b[0m\n\u001b[0m",
      "\u001b[1;31mTypeError\u001b[0m: 'str' object does not support item assignment"
     ]
    }
   ],
   "source": [
    "a[0] = \"h\""
   ]
  },
  {
   "cell_type": "code",
   "execution_count": 18,
   "id": "7ab49911",
   "metadata": {},
   "outputs": [],
   "source": [
    "a = \"this is my word\""
   ]
  },
  {
   "cell_type": "code",
   "execution_count": 19,
   "id": "5459546b",
   "metadata": {},
   "outputs": [
    {
     "data": {
      "text/plain": [
       "'this is my word'"
      ]
     },
     "execution_count": 19,
     "metadata": {},
     "output_type": "execute_result"
    }
   ],
   "source": [
    "a"
   ]
  },
  {
   "cell_type": "code",
   "execution_count": 20,
   "id": "2355a08c",
   "metadata": {},
   "outputs": [
    {
     "data": {
      "text/plain": [
       "'t'"
      ]
     },
     "execution_count": 20,
     "metadata": {},
     "output_type": "execute_result"
    }
   ],
   "source": [
    "# display a single character\n",
    "a[0]"
   ]
  },
  {
   "cell_type": "code",
   "execution_count": 21,
   "id": "b49dc267",
   "metadata": {},
   "outputs": [
    {
     "data": {
      "text/plain": [
       "'h'"
      ]
     },
     "execution_count": 21,
     "metadata": {},
     "output_type": "execute_result"
    }
   ],
   "source": [
    "a[1]"
   ]
  },
  {
   "cell_type": "code",
   "execution_count": 23,
   "id": "7d27de0c",
   "metadata": {},
   "outputs": [
    {
     "data": {
      "text/plain": [
       "'d'"
      ]
     },
     "execution_count": 23,
     "metadata": {},
     "output_type": "execute_result"
    }
   ],
   "source": [
    "a[-1]"
   ]
  },
  {
   "cell_type": "code",
   "execution_count": 26,
   "id": "1707b424",
   "metadata": {},
   "outputs": [
    {
     "name": "stdout",
     "output_type": "stream",
     "text": [
      "15\n"
     ]
    }
   ],
   "source": [
    "count = 0\n",
    "for item in a:\n",
    "    count+=1\n",
    "print(count)"
   ]
  },
  {
   "cell_type": "code",
   "execution_count": 27,
   "id": "a633b061",
   "metadata": {},
   "outputs": [
    {
     "data": {
      "text/plain": [
       "'s is '"
      ]
     },
     "execution_count": 27,
     "metadata": {},
     "output_type": "execute_result"
    }
   ],
   "source": [
    "a[3:8]"
   ]
  },
  {
   "cell_type": "code",
   "execution_count": 28,
   "id": "5014ba2f",
   "metadata": {},
   "outputs": [
    {
     "data": {
      "text/plain": [
       "'this is '"
      ]
     },
     "execution_count": 28,
     "metadata": {},
     "output_type": "execute_result"
    }
   ],
   "source": [
    "a[:8]"
   ]
  },
  {
   "cell_type": "code",
   "execution_count": 29,
   "id": "81c61a51",
   "metadata": {},
   "outputs": [
    {
     "data": {
      "text/plain": [
       "'this is my word'"
      ]
     },
     "execution_count": 29,
     "metadata": {},
     "output_type": "execute_result"
    }
   ],
   "source": [
    "a"
   ]
  },
  {
   "cell_type": "code",
   "execution_count": 30,
   "id": "63d0b0b5",
   "metadata": {},
   "outputs": [
    {
     "data": {
      "text/plain": [
       "'this is my word'"
      ]
     },
     "execution_count": 30,
     "metadata": {},
     "output_type": "execute_result"
    }
   ],
   "source": [
    "a[:]"
   ]
  },
  {
   "cell_type": "code",
   "execution_count": 31,
   "id": "3b1fa382",
   "metadata": {},
   "outputs": [
    {
     "data": {
      "text/plain": [
       "'r'"
      ]
     },
     "execution_count": 31,
     "metadata": {},
     "output_type": "execute_result"
    }
   ],
   "source": [
    "a[-2]"
   ]
  },
  {
   "cell_type": "code",
   "execution_count": 32,
   "id": "d47a6f0e",
   "metadata": {},
   "outputs": [
    {
     "data": {
      "text/plain": [
       "'r'"
      ]
     },
     "execution_count": 32,
     "metadata": {},
     "output_type": "execute_result"
    }
   ],
   "source": [
    "a[-2]"
   ]
  },
  {
   "cell_type": "code",
   "execution_count": 33,
   "id": "b7132e9b",
   "metadata": {},
   "outputs": [
    {
     "data": {
      "text/plain": [
       "'rd'"
      ]
     },
     "execution_count": 33,
     "metadata": {},
     "output_type": "execute_result"
    }
   ],
   "source": [
    "a[-2:]"
   ]
  },
  {
   "cell_type": "code",
   "execution_count": 34,
   "id": "4d8e8343",
   "metadata": {},
   "outputs": [
    {
     "data": {
      "text/plain": [
       "''"
      ]
     },
     "execution_count": 34,
     "metadata": {},
     "output_type": "execute_result"
    }
   ],
   "source": [
    "a[2:2]"
   ]
  },
  {
   "cell_type": "markdown",
   "id": "98d56cad",
   "metadata": {},
   "source": [
    "# python string concatenation"
   ]
  },
  {
   "cell_type": "code",
   "execution_count": 36,
   "id": "1bcde108",
   "metadata": {},
   "outputs": [
    {
     "data": {
      "text/plain": [
       "'do you see this$$'"
      ]
     },
     "execution_count": 36,
     "metadata": {},
     "output_type": "execute_result"
    }
   ],
   "source": [
    "a = \"do you see this\"\n",
    "b = '$$'\n",
    "a+b"
   ]
  },
  {
   "cell_type": "code",
   "execution_count": 37,
   "id": "de90fbdb",
   "metadata": {},
   "outputs": [
    {
     "data": {
      "text/plain": [
       "'do you see this$$'"
      ]
     },
     "execution_count": 37,
     "metadata": {},
     "output_type": "execute_result"
    }
   ],
   "source": [
    "a = 'do you see this'\n",
    "b = '$$'\n",
    "a+b"
   ]
  },
  {
   "cell_type": "code",
   "execution_count": 38,
   "id": "592008e7",
   "metadata": {},
   "outputs": [
    {
     "name": "stdout",
     "output_type": "stream",
     "text": [
      "1010\n"
     ]
    }
   ],
   "source": [
    "a = '10'\n",
    "print(2*a)"
   ]
  },
  {
   "cell_type": "code",
   "execution_count": 39,
   "id": "535279fc",
   "metadata": {},
   "outputs": [
    {
     "ename": "TypeError",
     "evalue": "can only concatenate str (not \"int\") to str",
     "output_type": "error",
     "traceback": [
      "\u001b[1;31m---------------------------------------------------------------------------\u001b[0m",
      "\u001b[1;31mTypeError\u001b[0m                                 Traceback (most recent call last)",
      "\u001b[1;32m~\\AppData\\Local\\Temp/ipykernel_11852/154506873.py\u001b[0m in \u001b[0;36m<module>\u001b[1;34m\u001b[0m\n\u001b[1;32m----> 1\u001b[1;33m \u001b[1;34m'10'\u001b[0m\u001b[1;33m+\u001b[0m\u001b[1;36m10\u001b[0m\u001b[1;33m\u001b[0m\u001b[1;33m\u001b[0m\u001b[0m\n\u001b[0m",
      "\u001b[1;31mTypeError\u001b[0m: can only concatenate str (not \"int\") to str"
     ]
    }
   ],
   "source": [
    "'10'+10"
   ]
  },
  {
   "cell_type": "markdown",
   "id": "6f0e39d8",
   "metadata": {},
   "source": [
    "# python string formatters"
   ]
  },
  {
   "cell_type": "code",
   "execution_count": 40,
   "id": "4e9332d0",
   "metadata": {},
   "outputs": [],
   "source": [
    "city = \"muddebihal\""
   ]
  },
  {
   "cell_type": "code",
   "execution_count": 41,
   "id": "d2ed520b",
   "metadata": {},
   "outputs": [
    {
     "name": "stdout",
     "output_type": "stream",
     "text": [
      "age 32 city muddebihal\n"
     ]
    }
   ],
   "source": [
    "print(\"age\",32,\"city\",city)"
   ]
  },
  {
   "cell_type": "code",
   "execution_count": 42,
   "id": "795e667d",
   "metadata": {},
   "outputs": [
    {
     "name": "stdout",
     "output_type": "stream",
     "text": [
      "my name is manjunath kannur\n"
     ]
    }
   ],
   "source": [
    "name = \"manjunath kannur\"\n",
    "print(f\"my name is {name}\")"
   ]
  },
  {
   "cell_type": "code",
   "execution_count": 43,
   "id": "9149d11d",
   "metadata": {},
   "outputs": [],
   "source": [
    "age = 31\n",
    "name = \"manjunath kannur\""
   ]
  },
  {
   "cell_type": "code",
   "execution_count": 44,
   "id": "65af0eeb",
   "metadata": {},
   "outputs": [
    {
     "name": "stdout",
     "output_type": "stream",
     "text": [
      "my name is manjunath kannur age is 31\n"
     ]
    }
   ],
   "source": [
    "print(f\"my name is {name} age is {age}\")"
   ]
  },
  {
   "cell_type": "code",
   "execution_count": 45,
   "id": "de01c540",
   "metadata": {},
   "outputs": [],
   "source": [
    "name = \"basavanna\""
   ]
  },
  {
   "cell_type": "code",
   "execution_count": 46,
   "id": "95557c47",
   "metadata": {},
   "outputs": [
    {
     "name": "stdout",
     "output_type": "stream",
     "text": [
      "my name is basavanna\n"
     ]
    }
   ],
   "source": [
    "print(\"my name is {0}\".format(name))"
   ]
  },
  {
   "cell_type": "code",
   "execution_count": 47,
   "id": "571bebbe",
   "metadata": {},
   "outputs": [],
   "source": [
    "age = 101"
   ]
  },
  {
   "cell_type": "code",
   "execution_count": 48,
   "id": "0747109c",
   "metadata": {},
   "outputs": [
    {
     "name": "stdout",
     "output_type": "stream",
     "text": [
      "my age is 101\n"
     ]
    }
   ],
   "source": [
    "print(\"my age is {0}\".format(age))"
   ]
  },
  {
   "cell_type": "code",
   "execution_count": 50,
   "id": "bf6a0ab9",
   "metadata": {},
   "outputs": [
    {
     "name": "stdout",
     "output_type": "stream",
     "text": [
      "my name is basavanna and age is 101\n"
     ]
    }
   ],
   "source": [
    "print(\"my name is {0} and age is {1}\".format(name,age))"
   ]
  },
  {
   "cell_type": "code",
   "execution_count": 51,
   "id": "2e47eac4",
   "metadata": {},
   "outputs": [
    {
     "name": "stdout",
     "output_type": "stream",
     "text": [
      "this is my word manjunath\n"
     ]
    }
   ],
   "source": [
    "print(\"this is my word {name}\".format(name = \"manjunath\"))"
   ]
  },
  {
   "cell_type": "code",
   "execution_count": 52,
   "id": "94329ddb",
   "metadata": {},
   "outputs": [
    {
     "name": "stdout",
     "output_type": "stream",
     "text": [
      "i love carrets\n"
     ]
    }
   ],
   "source": [
    "print(\"i love {b}\".format(b='carrets'))"
   ]
  },
  {
   "cell_type": "code",
   "execution_count": 53,
   "id": "0173b07e",
   "metadata": {},
   "outputs": [
    {
     "name": "stdout",
     "output_type": "stream",
     "text": [
      "i love 10 and ferrets\n"
     ]
    }
   ],
   "source": [
    "b = 'ferrets'\n",
    "print(\"i love %s and %s\" %(a,b))"
   ]
  },
  {
   "cell_type": "code",
   "execution_count": 54,
   "id": "e9ed667f",
   "metadata": {},
   "outputs": [
    {
     "name": "stdout",
     "output_type": "stream",
     "text": [
      "hello\to\n"
     ]
    }
   ],
   "source": [
    "print(\"hello\\to\")"
   ]
  },
  {
   "cell_type": "markdown",
   "id": "ec4406f0",
   "metadata": {},
   "source": [
    "# python string functions"
   ]
  },
  {
   "cell_type": "code",
   "execution_count": 55,
   "id": "2595c5f4",
   "metadata": {},
   "outputs": [
    {
     "name": "stdout",
     "output_type": "stream",
     "text": [
      "books\n"
     ]
    }
   ],
   "source": [
    "a = \"books\"\n",
    "print(a)"
   ]
  },
  {
   "cell_type": "code",
   "execution_count": 56,
   "id": "210c1285",
   "metadata": {},
   "outputs": [
    {
     "data": {
      "text/plain": [
       "3"
      ]
     },
     "execution_count": 56,
     "metadata": {},
     "output_type": "execute_result"
    }
   ],
   "source": [
    "len(a[2:])"
   ]
  },
  {
   "cell_type": "code",
   "execution_count": 57,
   "id": "8bafd69f",
   "metadata": {},
   "outputs": [
    {
     "data": {
      "text/plain": [
       "'(2+3j)'"
      ]
     },
     "execution_count": 57,
     "metadata": {},
     "output_type": "execute_result"
    }
   ],
   "source": [
    "str(2+3j)"
   ]
  },
  {
   "cell_type": "code",
   "execution_count": 58,
   "id": "28380503",
   "metadata": {},
   "outputs": [
    {
     "data": {
      "text/plain": [
       "\"['red', 'green', 'blue']\""
      ]
     },
     "execution_count": 58,
     "metadata": {},
     "output_type": "execute_result"
    }
   ],
   "source": [
    "str(['red','green','blue'])"
   ]
  },
  {
   "cell_type": "code",
   "execution_count": 59,
   "id": "d93311db",
   "metadata": {},
   "outputs": [],
   "source": [
    "a = \"book\""
   ]
  },
  {
   "cell_type": "code",
   "execution_count": 61,
   "id": "3d36b075",
   "metadata": {},
   "outputs": [
    {
     "data": {
      "text/plain": [
       "'book'"
      ]
     },
     "execution_count": 61,
     "metadata": {},
     "output_type": "execute_result"
    }
   ],
   "source": [
    "a.lower()"
   ]
  },
  {
   "cell_type": "code",
   "execution_count": 62,
   "id": "feef5114",
   "metadata": {},
   "outputs": [
    {
     "data": {
      "text/plain": [
       "'BOOK'"
      ]
     },
     "execution_count": 62,
     "metadata": {},
     "output_type": "execute_result"
    }
   ],
   "source": [
    "a.upper()"
   ]
  },
  {
   "cell_type": "code",
   "execution_count": 65,
   "id": "d64079ff",
   "metadata": {},
   "outputs": [],
   "source": [
    "name = \" this is my word\""
   ]
  },
  {
   "cell_type": "code",
   "execution_count": 66,
   "id": "ec7102c1",
   "metadata": {},
   "outputs": [
    {
     "data": {
      "text/plain": [
       "'this is my word'"
      ]
     },
     "execution_count": 66,
     "metadata": {},
     "output_type": "execute_result"
    }
   ],
   "source": [
    "name.strip()"
   ]
  },
  {
   "cell_type": "code",
   "execution_count": 67,
   "id": "c30ce2bb",
   "metadata": {},
   "outputs": [
    {
     "data": {
      "text/plain": [
       "'hi'"
      ]
     },
     "execution_count": 67,
     "metadata": {},
     "output_type": "execute_result"
    }
   ],
   "source": [
    "na = \" hi\"\n",
    "na.strip()"
   ]
  },
  {
   "cell_type": "code",
   "execution_count": 68,
   "id": "c807805b",
   "metadata": {},
   "outputs": [
    {
     "data": {
      "text/plain": [
       "True"
      ]
     },
     "execution_count": 68,
     "metadata": {},
     "output_type": "execute_result"
    }
   ],
   "source": [
    "a = \"7777\"\n",
    "a.isdigit()"
   ]
  },
  {
   "cell_type": "code",
   "execution_count": 69,
   "id": "b1047b28",
   "metadata": {},
   "outputs": [],
   "source": [
    "a = \"my name is \""
   ]
  },
  {
   "cell_type": "code",
   "execution_count": 70,
   "id": "0979bc36",
   "metadata": {},
   "outputs": [
    {
     "name": "stdout",
     "output_type": "stream",
     "text": [
      "False\n"
     ]
    }
   ],
   "source": [
    "print(\"{0}\".format(a.isdigit()))"
   ]
  },
  {
   "cell_type": "code",
   "execution_count": 71,
   "id": "6057e990",
   "metadata": {},
   "outputs": [
    {
     "name": "stdout",
     "output_type": "stream",
     "text": [
      "solve the problem my name is \n"
     ]
    }
   ],
   "source": [
    "print(\"solve the problem {0}\".format(a))"
   ]
  },
  {
   "cell_type": "code",
   "execution_count": 72,
   "id": "57342ce1",
   "metadata": {},
   "outputs": [
    {
     "data": {
      "text/plain": [
       "False"
      ]
     },
     "execution_count": 72,
     "metadata": {},
     "output_type": "execute_result"
    }
   ],
   "source": [
    "a = '77a'\n",
    "a.isdigit()"
   ]
  },
  {
   "cell_type": "code",
   "execution_count": 73,
   "id": "2acbe723",
   "metadata": {},
   "outputs": [
    {
     "data": {
      "text/plain": [
       "True"
      ]
     },
     "execution_count": 73,
     "metadata": {},
     "output_type": "execute_result"
    }
   ],
   "source": [
    "a = '58555'\n",
    "a.isdigit()"
   ]
  },
  {
   "cell_type": "code",
   "execution_count": 74,
   "id": "b54492c6",
   "metadata": {},
   "outputs": [
    {
     "data": {
      "text/plain": [
       "True"
      ]
     },
     "execution_count": 74,
     "metadata": {},
     "output_type": "execute_result"
    }
   ],
   "source": [
    "a = \"abc\"\n",
    "a.isalpha()"
   ]
  },
  {
   "cell_type": "code",
   "execution_count": 75,
   "id": "20ff0277",
   "metadata": {},
   "outputs": [
    {
     "data": {
      "text/plain": [
       "False"
      ]
     },
     "execution_count": 75,
     "metadata": {},
     "output_type": "execute_result"
    }
   ],
   "source": [
    "a = \"ab7\"\n",
    "a.isalpha()"
   ]
  },
  {
   "cell_type": "code",
   "execution_count": 76,
   "id": "f886050d",
   "metadata": {},
   "outputs": [
    {
     "data": {
      "text/plain": [
       "True"
      ]
     },
     "execution_count": 76,
     "metadata": {},
     "output_type": "execute_result"
    }
   ],
   "source": [
    "a = \" \"\n",
    "a.isspace()"
   ]
  },
  {
   "cell_type": "code",
   "execution_count": 77,
   "id": "4047f031",
   "metadata": {},
   "outputs": [
    {
     "data": {
      "text/plain": [
       "False"
      ]
     },
     "execution_count": 77,
     "metadata": {},
     "output_type": "execute_result"
    }
   ],
   "source": [
    "a = \"\"\n",
    "a.isspace()"
   ]
  },
  {
   "cell_type": "code",
   "execution_count": 78,
   "id": "17707364",
   "metadata": {},
   "outputs": [
    {
     "data": {
      "text/plain": [
       "False"
      ]
     },
     "execution_count": 78,
     "metadata": {},
     "output_type": "execute_result"
    }
   ],
   "source": [
    "a = '\\''\n",
    "a.isspace()"
   ]
  },
  {
   "cell_type": "code",
   "execution_count": 79,
   "id": "b0b0847d",
   "metadata": {},
   "outputs": [
    {
     "data": {
      "text/plain": [
       "False"
      ]
     },
     "execution_count": 79,
     "metadata": {},
     "output_type": "execute_result"
    }
   ],
   "source": [
    "a.startswith('un')"
   ]
  },
  {
   "cell_type": "code",
   "execution_count": 80,
   "id": "2831e230",
   "metadata": {},
   "outputs": [],
   "source": [
    "name = \"manjunath kannur\""
   ]
  },
  {
   "cell_type": "code",
   "execution_count": 81,
   "id": "e7a6fd68",
   "metadata": {},
   "outputs": [
    {
     "data": {
      "text/plain": [
       "False"
      ]
     },
     "execution_count": 81,
     "metadata": {},
     "output_type": "execute_result"
    }
   ],
   "source": [
    "name.startswith('kannr')"
   ]
  },
  {
   "cell_type": "code",
   "execution_count": 82,
   "id": "a3761f38",
   "metadata": {},
   "outputs": [
    {
     "data": {
      "text/plain": [
       "True"
      ]
     },
     "execution_count": 82,
     "metadata": {},
     "output_type": "execute_result"
    }
   ],
   "source": [
    "name.startswith('manjunath')"
   ]
  },
  {
   "cell_type": "code",
   "execution_count": 83,
   "id": "8511ad6b",
   "metadata": {},
   "outputs": [
    {
     "data": {
      "text/plain": [
       "True"
      ]
     },
     "execution_count": 83,
     "metadata": {},
     "output_type": "execute_result"
    }
   ],
   "source": [
    "# endswith \n",
    "a = 'therefore'\n",
    "a.endswith('fore')"
   ]
  },
  {
   "cell_type": "code",
   "execution_count": 85,
   "id": "276574b8",
   "metadata": {},
   "outputs": [],
   "source": [
    "a = \"manjuanth kannur\""
   ]
  },
  {
   "cell_type": "code",
   "execution_count": 86,
   "id": "a4700931",
   "metadata": {},
   "outputs": [
    {
     "data": {
      "text/plain": [
       "True"
      ]
     },
     "execution_count": 86,
     "metadata": {},
     "output_type": "execute_result"
    }
   ],
   "source": [
    "a.endswith('r')"
   ]
  },
  {
   "cell_type": "code",
   "execution_count": 87,
   "id": "ac67343d",
   "metadata": {},
   "outputs": [
    {
     "data": {
      "text/plain": [
       "False"
      ]
     },
     "execution_count": 87,
     "metadata": {},
     "output_type": "execute_result"
    }
   ],
   "source": [
    "a.endswith('u')"
   ]
  },
  {
   "cell_type": "code",
   "execution_count": 88,
   "id": "9f23077b",
   "metadata": {},
   "outputs": [],
   "source": [
    "# find it takes an argument and searches for it\n",
    "name = \"my name is kannur\""
   ]
  },
  {
   "cell_type": "code",
   "execution_count": 89,
   "id": "ada7effc",
   "metadata": {},
   "outputs": [
    {
     "data": {
      "text/plain": [
       "8"
      ]
     },
     "execution_count": 89,
     "metadata": {},
     "output_type": "execute_result"
    }
   ],
   "source": [
    "name.find('is')"
   ]
  },
  {
   "cell_type": "code",
   "execution_count": 90,
   "id": "39137333",
   "metadata": {},
   "outputs": [
    {
     "name": "stdout",
     "output_type": "stream",
     "text": [
      "17\n"
     ]
    }
   ],
   "source": [
    "count = 0\n",
    "for item in name:\n",
    "    count+=1\n",
    "print(count)"
   ]
  },
  {
   "cell_type": "code",
   "execution_count": 91,
   "id": "ad4861b2",
   "metadata": {},
   "outputs": [
    {
     "data": {
      "text/plain": [
       "-1"
      ]
     },
     "execution_count": 91,
     "metadata": {},
     "output_type": "execute_result"
    }
   ],
   "source": [
    "name.find('d')"
   ]
  },
  {
   "cell_type": "code",
   "execution_count": 92,
   "id": "2d920f37",
   "metadata": {},
   "outputs": [
    {
     "data": {
      "text/plain": [
       "3"
      ]
     },
     "execution_count": 92,
     "metadata": {},
     "output_type": "execute_result"
    }
   ],
   "source": [
    "name.find('n')"
   ]
  },
  {
   "cell_type": "code",
   "execution_count": 93,
   "id": "53704e73",
   "metadata": {},
   "outputs": [],
   "source": [
    "name = \"basava\""
   ]
  },
  {
   "cell_type": "code",
   "execution_count": 96,
   "id": "a3bfc5e2",
   "metadata": {},
   "outputs": [
    {
     "data": {
      "text/plain": [
       "''"
      ]
     },
     "execution_count": 96,
     "metadata": {},
     "output_type": "execute_result"
    }
   ],
   "source": [
    "name.replace('basava','') #replace with "
   ]
  },
  {
   "cell_type": "code",
   "execution_count": 95,
   "id": "a8f25aac",
   "metadata": {},
   "outputs": [
    {
     "data": {
      "text/plain": [
       "'basava'"
      ]
     },
     "execution_count": 95,
     "metadata": {},
     "output_type": "execute_result"
    }
   ],
   "source": [
    "name "
   ]
  },
  {
   "cell_type": "code",
   "execution_count": 97,
   "id": "15902434",
   "metadata": {},
   "outputs": [
    {
     "data": {
      "text/plain": [
       "['no', ' okay why']"
      ]
     },
     "execution_count": 97,
     "metadata": {},
     "output_type": "execute_result"
    }
   ],
   "source": [
    "'no. okay why'.split('.') # split()"
   ]
  },
  {
   "cell_type": "code",
   "execution_count": 98,
   "id": "1d263903",
   "metadata": {},
   "outputs": [
    {
     "data": {
      "text/plain": [
       "'red*green*blue'"
      ]
     },
     "execution_count": 98,
     "metadata": {},
     "output_type": "execute_result"
    }
   ],
   "source": [
    "\"*\".join(['red','green','blue'])"
   ]
  },
  {
   "cell_type": "code",
   "execution_count": 99,
   "id": "344e668c",
   "metadata": {},
   "outputs": [
    {
     "data": {
      "text/plain": [
       "'redgreenblue'"
      ]
     },
     "execution_count": 99,
     "metadata": {},
     "output_type": "execute_result"
    }
   ],
   "source": [
    "\"\".join(['red','green','blue'])"
   ]
  },
  {
   "cell_type": "markdown",
   "id": "fe92f4ca",
   "metadata": {},
   "source": [
    "# python string operation\n",
    "1. comparison\n",
    "2. arithmetic\n",
    "3. membership\n",
    "4. identity\n",
    "5. logical"
   ]
  },
  {
   "cell_type": "code",
   "execution_count": 100,
   "id": "8b594559",
   "metadata": {},
   "outputs": [
    {
     "data": {
      "text/plain": [
       "True"
      ]
     },
     "execution_count": 100,
     "metadata": {},
     "output_type": "execute_result"
    }
   ],
   "source": [
    "'hey'<'hi'"
   ]
  },
  {
   "cell_type": "code",
   "execution_count": 101,
   "id": "693da333",
   "metadata": {},
   "outputs": [
    {
     "data": {
      "text/plain": [
       "True"
      ]
     },
     "execution_count": 101,
     "metadata": {},
     "output_type": "execute_result"
    }
   ],
   "source": [
    "a = 'check'\n",
    "a == 'check'"
   ]
  },
  {
   "cell_type": "code",
   "execution_count": 103,
   "id": "1c938d7c",
   "metadata": {},
   "outputs": [
    {
     "data": {
      "text/plain": [
       "True"
      ]
     },
     "execution_count": 103,
     "metadata": {},
     "output_type": "execute_result"
    }
   ],
   "source": [
    "'yes' != 'no'"
   ]
  },
  {
   "cell_type": "markdown",
   "id": "d0d40c42",
   "metadata": {},
   "source": [
    "# arithmetic operation in python"
   ]
  },
  {
   "cell_type": "code",
   "execution_count": 104,
   "id": "0e0f9f4e",
   "metadata": {},
   "outputs": [
    {
     "data": {
      "text/plain": [
       "'banana'"
      ]
     },
     "execution_count": 104,
     "metadata": {},
     "output_type": "execute_result"
    }
   ],
   "source": [
    "'ba'+'na'*2"
   ]
  },
  {
   "cell_type": "code",
   "execution_count": 105,
   "id": "8c11bf43",
   "metadata": {},
   "outputs": [
    {
     "data": {
      "text/plain": [
       "True"
      ]
     },
     "execution_count": 105,
     "metadata": {},
     "output_type": "execute_result"
    }
   ],
   "source": [
    "'na' in 'banana'"
   ]
  },
  {
   "cell_type": "code",
   "execution_count": 106,
   "id": "293a4581",
   "metadata": {},
   "outputs": [
    {
     "data": {
      "text/plain": [
       "True"
      ]
     },
     "execution_count": 106,
     "metadata": {},
     "output_type": "execute_result"
    }
   ],
   "source": [
    "'m' in 'manjuanth'"
   ]
  },
  {
   "cell_type": "code",
   "execution_count": 107,
   "id": "b303a05c",
   "metadata": {},
   "outputs": [
    {
     "data": {
      "text/plain": [
       "False"
      ]
     },
     "execution_count": 107,
     "metadata": {},
     "output_type": "execute_result"
    }
   ],
   "source": [
    "'less' not in 'helpless'"
   ]
  },
  {
   "cell_type": "code",
   "execution_count": 108,
   "id": "27bd128b",
   "metadata": {},
   "outputs": [
    {
     "data": {
      "text/plain": [
       "True"
      ]
     },
     "execution_count": 108,
     "metadata": {},
     "output_type": "execute_result"
    }
   ],
   "source": [
    "'less' in 'helpless'"
   ]
  },
  {
   "cell_type": "code",
   "execution_count": 109,
   "id": "8c33bc75",
   "metadata": {},
   "outputs": [
    {
     "name": "stderr",
     "output_type": "stream",
     "text": [
      "<>:2: SyntaxWarning: \"is\" with a literal. Did you mean \"==\"?\n",
      "<>:2: SyntaxWarning: \"is\" with a literal. Did you mean \"==\"?\n",
      "C:\\Users\\yaraz\\AppData\\Local\\Temp/ipykernel_11852/2191335172.py:2: SyntaxWarning: \"is\" with a literal. Did you mean \"==\"?\n",
      "  'hey' is 'hi'\n"
     ]
    },
    {
     "data": {
      "text/plain": [
       "False"
      ]
     },
     "execution_count": 109,
     "metadata": {},
     "output_type": "execute_result"
    }
   ],
   "source": [
    "# python identity operation in python\n",
    "'hey' is 'hi'"
   ]
  },
  {
   "cell_type": "code",
   "execution_count": 110,
   "id": "0b0515f9",
   "metadata": {},
   "outputs": [
    {
     "name": "stderr",
     "output_type": "stream",
     "text": [
      "<>:1: SyntaxWarning: \"is not\" with a literal. Did you mean \"!=\"?\n",
      "<>:1: SyntaxWarning: \"is not\" with a literal. Did you mean \"!=\"?\n",
      "C:\\Users\\yaraz\\AppData\\Local\\Temp/ipykernel_11852/3024945168.py:1: SyntaxWarning: \"is not\" with a literal. Did you mean \"!=\"?\n",
      "  'yo' is not 'yo'\n"
     ]
    },
    {
     "data": {
      "text/plain": [
       "False"
      ]
     },
     "execution_count": 110,
     "metadata": {},
     "output_type": "execute_result"
    }
   ],
   "source": [
    "'yo' is not 'yo'"
   ]
  },
  {
   "cell_type": "code",
   "execution_count": null,
   "id": "d55426f6",
   "metadata": {},
   "outputs": [],
   "source": []
  }
 ],
 "metadata": {
  "kernelspec": {
   "display_name": "Python 3 (ipykernel)",
   "language": "python",
   "name": "python3"
  },
  "language_info": {
   "codemirror_mode": {
    "name": "ipython",
    "version": 3
   },
   "file_extension": ".py",
   "mimetype": "text/x-python",
   "name": "python",
   "nbconvert_exporter": "python",
   "pygments_lexer": "ipython3",
   "version": "3.9.2"
  }
 },
 "nbformat": 4,
 "nbformat_minor": 5
}
