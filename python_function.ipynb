{
 "cells": [
  {
   "cell_type": "markdown",
   "id": "123e52bc",
   "metadata": {},
   "source": [
    "# python function tutotial type of function in python\n",
    "1. python built-in fucntion\n",
    "2. python recursion function\n",
    "3. python lambda function\n",
    "4. python user-defined fucntion\n"
   ]
  },
  {
   "cell_type": "code",
   "execution_count": 1,
   "id": "df68e26e",
   "metadata": {},
   "outputs": [],
   "source": [
    "def hello():\n",
    "    print(\"hello..\")"
   ]
  },
  {
   "cell_type": "code",
   "execution_count": 2,
   "id": "e34dd274",
   "metadata": {},
   "outputs": [
    {
     "name": "stdout",
     "output_type": "stream",
     "text": [
      "hello..\n"
     ]
    }
   ],
   "source": [
    "name = hello()"
   ]
  },
  {
   "cell_type": "code",
   "execution_count": 3,
   "id": "cfacacf7",
   "metadata": {},
   "outputs": [],
   "source": [
    "def hello():\n",
    "    \"\"\"this python function simply prints hello to the screen\"\"\"\n",
    "    print(\"hello\")"
   ]
  },
  {
   "cell_type": "code",
   "execution_count": 4,
   "id": "368e7b60",
   "metadata": {},
   "outputs": [
    {
     "name": "stdout",
     "output_type": "stream",
     "text": [
      "hello\n"
     ]
    }
   ],
   "source": [
    "name = hello()"
   ]
  },
  {
   "cell_type": "code",
   "execution_count": 5,
   "id": "cd6161c8",
   "metadata": {},
   "outputs": [],
   "source": [
    "name = hello"
   ]
  },
  {
   "cell_type": "code",
   "execution_count": 6,
   "id": "da9c7978",
   "metadata": {},
   "outputs": [
    {
     "name": "stdout",
     "output_type": "stream",
     "text": [
      "hello\n"
     ]
    }
   ],
   "source": [
    "name()"
   ]
  },
  {
   "cell_type": "code",
   "execution_count": 7,
   "id": "c252f9ab",
   "metadata": {},
   "outputs": [],
   "source": [
    "def func1():\n",
    "    \"\"\"this is the docstring....\"\"\"\n",
    "    print(\"hello....\")"
   ]
  },
  {
   "cell_type": "code",
   "execution_count": 8,
   "id": "7721d129",
   "metadata": {},
   "outputs": [
    {
     "data": {
      "text/plain": [
       "'this is the docstring....'"
      ]
     },
     "execution_count": 8,
     "metadata": {},
     "output_type": "execute_result"
    }
   ],
   "source": [
    "func1.__doc__"
   ]
  },
  {
   "cell_type": "code",
   "execution_count": 9,
   "id": "3a1b7daa",
   "metadata": {},
   "outputs": [
    {
     "data": {
      "text/plain": [
       "\"Return the sum of a 'start' value (default: 0) plus an iterable of numbers\\n\\nWhen the iterable is empty, return the start value.\\nThis function is intended specifically for use with numeric values and may\\nreject non-numeric types.\""
      ]
     },
     "execution_count": 9,
     "metadata": {},
     "output_type": "execute_result"
    }
   ],
   "source": [
    "sum.__doc__"
   ]
  },
  {
   "cell_type": "code",
   "execution_count": 10,
   "id": "4fb30168",
   "metadata": {},
   "outputs": [
    {
     "data": {
      "text/plain": [
       "str"
      ]
     },
     "execution_count": 10,
     "metadata": {},
     "output_type": "execute_result"
    }
   ],
   "source": [
    "type(sum.__doc__)"
   ]
  },
  {
   "cell_type": "code",
   "execution_count": 11,
   "id": "1755e8c0",
   "metadata": {},
   "outputs": [
    {
     "data": {
      "text/plain": [
       "True"
      ]
     },
     "execution_count": 11,
     "metadata": {},
     "output_type": "execute_result"
    }
   ],
   "source": [
    "bool(sum.__doc__)"
   ]
  },
  {
   "cell_type": "code",
   "execution_count": 12,
   "id": "52620b76",
   "metadata": {},
   "outputs": [],
   "source": [
    "def hello():\n",
    "    pass\n",
    "hello()"
   ]
  },
  {
   "cell_type": "markdown",
   "id": "64581c2b",
   "metadata": {},
   "source": [
    "# python function parameters"
   ]
  },
  {
   "cell_type": "code",
   "execution_count": 13,
   "id": "c11e6bbb",
   "metadata": {},
   "outputs": [],
   "source": [
    "def sum(a,b):\n",
    "    print(f\"{a}+{b}={a+b}\")"
   ]
  },
  {
   "cell_type": "code",
   "execution_count": 14,
   "id": "007db99e",
   "metadata": {},
   "outputs": [
    {
     "name": "stdout",
     "output_type": "stream",
     "text": [
      "5+6=11\n"
     ]
    }
   ],
   "source": [
    "sum(5,6)"
   ]
  },
  {
   "cell_type": "code",
   "execution_count": 15,
   "id": "a85fc28e",
   "metadata": {},
   "outputs": [],
   "source": [
    "def sum2(a,b):\n",
    "    print(f\"{a}+{b}= {a+b}\")"
   ]
  },
  {
   "cell_type": "code",
   "execution_count": 16,
   "id": "5adc7c57",
   "metadata": {},
   "outputs": [
    {
     "name": "stdout",
     "output_type": "stream",
     "text": [
      "3.0+5= 8.0\n"
     ]
    }
   ],
   "source": [
    "sum2(3.0,5)"
   ]
  },
  {
   "cell_type": "code",
   "execution_count": 17,
   "id": "326d6548",
   "metadata": {},
   "outputs": [
    {
     "ename": "TypeError",
     "evalue": "can only concatenate str (not \"int\") to str",
     "output_type": "error",
     "traceback": [
      "\u001b[1;31m---------------------------------------------------------------------------\u001b[0m",
      "\u001b[1;31mTypeError\u001b[0m                                 Traceback (most recent call last)",
      "\u001b[1;32m~\\AppData\\Local\\Temp/ipykernel_1252/606578833.py\u001b[0m in \u001b[0;36m<module>\u001b[1;34m\u001b[0m\n\u001b[1;32m----> 1\u001b[1;33m \u001b[0msum2\u001b[0m\u001b[1;33m(\u001b[0m\u001b[1;34m'hello'\u001b[0m\u001b[1;33m,\u001b[0m\u001b[1;36m2\u001b[0m\u001b[1;33m)\u001b[0m\u001b[1;33m\u001b[0m\u001b[1;33m\u001b[0m\u001b[0m\n\u001b[0m",
      "\u001b[1;32m~\\AppData\\Local\\Temp/ipykernel_1252/2274743100.py\u001b[0m in \u001b[0;36msum2\u001b[1;34m(a, b)\u001b[0m\n\u001b[0;32m      1\u001b[0m \u001b[1;32mdef\u001b[0m \u001b[0msum2\u001b[0m\u001b[1;33m(\u001b[0m\u001b[0ma\u001b[0m\u001b[1;33m,\u001b[0m\u001b[0mb\u001b[0m\u001b[1;33m)\u001b[0m\u001b[1;33m:\u001b[0m\u001b[1;33m\u001b[0m\u001b[1;33m\u001b[0m\u001b[0m\n\u001b[1;32m----> 2\u001b[1;33m     \u001b[0mprint\u001b[0m\u001b[1;33m(\u001b[0m\u001b[1;34mf\"{a}+{b}= {a+b}\"\u001b[0m\u001b[1;33m)\u001b[0m\u001b[1;33m\u001b[0m\u001b[1;33m\u001b[0m\u001b[0m\n\u001b[0m",
      "\u001b[1;31mTypeError\u001b[0m: can only concatenate str (not \"int\") to str"
     ]
    }
   ],
   "source": [
    "sum2('hello',2)"
   ]
  },
  {
   "cell_type": "code",
   "execution_count": 18,
   "id": "3235ebfb",
   "metadata": {},
   "outputs": [],
   "source": [
    "# python return statement\n",
    "def func1(a):\n",
    "    if a%2 == 0:\n",
    "        return 0\n",
    "    else:\n",
    "        return 1"
   ]
  },
  {
   "cell_type": "code",
   "execution_count": 19,
   "id": "d0e1e903",
   "metadata": {},
   "outputs": [
    {
     "data": {
      "text/plain": [
       "0"
      ]
     },
     "execution_count": 19,
     "metadata": {},
     "output_type": "execute_result"
    }
   ],
   "source": [
    "func1(2)"
   ]
  },
  {
   "cell_type": "code",
   "execution_count": 20,
   "id": "6d48a86d",
   "metadata": {},
   "outputs": [
    {
     "data": {
      "text/plain": [
       "1"
      ]
     },
     "execution_count": 20,
     "metadata": {},
     "output_type": "execute_result"
    }
   ],
   "source": [
    "func1(5)"
   ]
  },
  {
   "cell_type": "code",
   "execution_count": 21,
   "id": "1191cb03",
   "metadata": {},
   "outputs": [],
   "source": [
    "def show(a,b):\n",
    "    return a+b"
   ]
  },
  {
   "cell_type": "code",
   "execution_count": 22,
   "id": "77e92652",
   "metadata": {},
   "outputs": [
    {
     "name": "stdout",
     "output_type": "stream",
     "text": [
      "4+5=9\n"
     ]
    }
   ],
   "source": [
    "sum(4,5)"
   ]
  },
  {
   "cell_type": "code",
   "execution_count": 23,
   "id": "a306a3b7",
   "metadata": {},
   "outputs": [],
   "source": [
    "# calling a python function\n",
    "hello()"
   ]
  },
  {
   "cell_type": "code",
   "execution_count": 24,
   "id": "0a9a3e6d",
   "metadata": {},
   "outputs": [
    {
     "name": "stdout",
     "output_type": "stream",
     "text": [
      "7\n"
     ]
    }
   ],
   "source": [
    "def func3():\n",
    "    x = 7\n",
    "    print(x)\n",
    "func3()"
   ]
  },
  {
   "cell_type": "code",
   "execution_count": 25,
   "id": "e8f006a1",
   "metadata": {},
   "outputs": [
    {
     "name": "stdout",
     "output_type": "stream",
     "text": [
      "7\n"
     ]
    }
   ],
   "source": [
    "# global scope\n",
    "y = 7\n",
    "def func4():\n",
    "    print(y)\n",
    "func4()"
   ]
  },
  {
   "cell_type": "code",
   "execution_count": 28,
   "id": "e1a9ede4",
   "metadata": {},
   "outputs": [
    {
     "name": "stdout",
     "output_type": "stream",
     "text": [
      "7\n",
      "4\n"
     ]
    }
   ],
   "source": [
    "def func4():\n",
    "    x = 4\n",
    "    print(y)\n",
    "    print(x)\n",
    "func4()"
   ]
  },
  {
   "cell_type": "code",
   "execution_count": 30,
   "id": "1d15b12b",
   "metadata": {},
   "outputs": [
    {
     "name": "stdout",
     "output_type": "stream",
     "text": [
      "1\n"
     ]
    }
   ],
   "source": [
    "def func1():\n",
    "    counter = 0\n",
    "    counter+=1\n",
    "    print(counter)\n",
    "func1()"
   ]
  },
  {
   "cell_type": "code",
   "execution_count": 31,
   "id": "b352d539",
   "metadata": {},
   "outputs": [
    {
     "name": "stdout",
     "output_type": "stream",
     "text": [
      "7\n"
     ]
    }
   ],
   "source": [
    "# deleting python function\n",
    "def func7():\n",
    "    print(\"7\")\n",
    "func7()"
   ]
  },
  {
   "cell_type": "code",
   "execution_count": 32,
   "id": "098adbc5",
   "metadata": {},
   "outputs": [],
   "source": [
    "del func7"
   ]
  },
  {
   "cell_type": "code",
   "execution_count": 33,
   "id": "0b56bd2f",
   "metadata": {},
   "outputs": [
    {
     "ename": "NameError",
     "evalue": "name 'func7' is not defined",
     "output_type": "error",
     "traceback": [
      "\u001b[1;31m---------------------------------------------------------------------------\u001b[0m",
      "\u001b[1;31mNameError\u001b[0m                                 Traceback (most recent call last)",
      "\u001b[1;32m~\\AppData\\Local\\Temp/ipykernel_1252/3265528683.py\u001b[0m in \u001b[0;36m<module>\u001b[1;34m\u001b[0m\n\u001b[1;32m----> 1\u001b[1;33m \u001b[0mfunc7\u001b[0m\u001b[1;33m\u001b[0m\u001b[1;33m\u001b[0m\u001b[0m\n\u001b[0m",
      "\u001b[1;31mNameError\u001b[0m: name 'func7' is not defined"
     ]
    }
   ],
   "source": [
    "func7"
   ]
  },
  {
   "cell_type": "code",
   "execution_count": 34,
   "id": "40eb18a4",
   "metadata": {},
   "outputs": [],
   "source": [
    "myvar = lambda a,b : (a*b)+2"
   ]
  },
  {
   "cell_type": "code",
   "execution_count": 35,
   "id": "2251709b",
   "metadata": {},
   "outputs": [
    {
     "data": {
      "text/plain": [
       "<function __main__.<lambda>(a, b)>"
      ]
     },
     "execution_count": 35,
     "metadata": {},
     "output_type": "execute_result"
    }
   ],
   "source": [
    "myvar"
   ]
  },
  {
   "cell_type": "code",
   "execution_count": 36,
   "id": "5f866236",
   "metadata": {},
   "outputs": [
    {
     "data": {
      "text/plain": [
       "22"
      ]
     },
     "execution_count": 36,
     "metadata": {},
     "output_type": "execute_result"
    }
   ],
   "source": [
    "myvar(5,4)"
   ]
  },
  {
   "cell_type": "code",
   "execution_count": 37,
   "id": "806a5767",
   "metadata": {},
   "outputs": [],
   "source": [
    "first = lambda a,b : (a*b)+2"
   ]
  },
  {
   "cell_type": "code",
   "execution_count": 38,
   "id": "e57d1bab",
   "metadata": {},
   "outputs": [
    {
     "data": {
      "text/plain": [
       "22"
      ]
     },
     "execution_count": 38,
     "metadata": {},
     "output_type": "execute_result"
    }
   ],
   "source": [
    "first(4,5)"
   ]
  },
  {
   "cell_type": "code",
   "execution_count": 39,
   "id": "0146e8dc",
   "metadata": {},
   "outputs": [
    {
     "data": {
      "text/plain": [
       "27"
      ]
     },
     "execution_count": 39,
     "metadata": {},
     "output_type": "execute_result"
    }
   ],
   "source": [
    "first(5,5)"
   ]
  },
  {
   "cell_type": "markdown",
   "id": "513d5583",
   "metadata": {},
   "source": [
    "# pyton recursion function\n"
   ]
  },
  {
   "cell_type": "code",
   "execution_count": 40,
   "id": "183765f5",
   "metadata": {},
   "outputs": [],
   "source": [
    "def facto(n):\n",
    "    if n == 1:\n",
    "        return 1\n",
    "    return n*facto(n-1)\n"
   ]
  },
  {
   "cell_type": "code",
   "execution_count": 41,
   "id": "bccfdf7f",
   "metadata": {},
   "outputs": [
    {
     "data": {
      "text/plain": [
       "120"
      ]
     },
     "execution_count": 41,
     "metadata": {},
     "output_type": "execute_result"
    }
   ],
   "source": [
    "facto(5)"
   ]
  },
  {
   "cell_type": "code",
   "execution_count": 42,
   "id": "b3d6bc68",
   "metadata": {},
   "outputs": [],
   "source": [
    "def power(x,y):\n",
    "    if y == 0:\n",
    "        return 1\n",
    "    else:\n",
    "        return x*power(x,y-1)"
   ]
  },
  {
   "cell_type": "code",
   "execution_count": 43,
   "id": "8a44b041",
   "metadata": {},
   "outputs": [
    {
     "data": {
      "text/plain": [
       "16"
      ]
     },
     "execution_count": 43,
     "metadata": {},
     "output_type": "execute_result"
    }
   ],
   "source": [
    "power(2,4)"
   ]
  },
  {
   "cell_type": "code",
   "execution_count": 44,
   "id": "a8924098",
   "metadata": {},
   "outputs": [],
   "source": [
    "def func1(a):\n",
    "    if a%2 == 0:\n",
    "        return 0\n",
    "    else:\n",
    "        return 1"
   ]
  },
  {
   "cell_type": "code",
   "execution_count": 45,
   "id": "d90371c2",
   "metadata": {},
   "outputs": [
    {
     "data": {
      "text/plain": [
       "1"
      ]
     },
     "execution_count": 45,
     "metadata": {},
     "output_type": "execute_result"
    }
   ],
   "source": [
    "func1(5)"
   ]
  },
  {
   "cell_type": "code",
   "execution_count": 46,
   "id": "a2876e85",
   "metadata": {},
   "outputs": [],
   "source": [
    "def func1():\n",
    "    counter = 0\n",
    "    counter+=1\n",
    "    print(counter)"
   ]
  },
  {
   "cell_type": "code",
   "execution_count": 47,
   "id": "3ff636af",
   "metadata": {},
   "outputs": [
    {
     "name": "stdout",
     "output_type": "stream",
     "text": [
      "1\n"
     ]
    }
   ],
   "source": [
    "func1()"
   ]
  },
  {
   "cell_type": "markdown",
   "id": "0c898358",
   "metadata": {},
   "source": [
    "# python function arguments with types syntax and examples\n",
    "1. default arguments\n",
    "2. keyword arguments\n",
    "3. python function argumens\n",
    "4. arbitary arguments"
   ]
  },
  {
   "cell_type": "code",
   "execution_count": 48,
   "id": "9a7b9548",
   "metadata": {},
   "outputs": [],
   "source": [
    "def sayhello():\n",
    "    \"\"\"\n",
    "    this prints hello\n",
    "    \"\"\"\n",
    "    print(\"hello\")"
   ]
  },
  {
   "cell_type": "code",
   "execution_count": 49,
   "id": "943e2806",
   "metadata": {},
   "outputs": [],
   "source": [
    "sayhell = sayhello"
   ]
  },
  {
   "cell_type": "code",
   "execution_count": 50,
   "id": "cbb39751",
   "metadata": {},
   "outputs": [
    {
     "name": "stdout",
     "output_type": "stream",
     "text": [
      "hello\n"
     ]
    }
   ],
   "source": [
    "sayhell()"
   ]
  },
  {
   "cell_type": "code",
   "execution_count": 51,
   "id": "08f3f6ee",
   "metadata": {},
   "outputs": [],
   "source": [
    "def sum(a,b):\n",
    "    return a+b\n"
   ]
  },
  {
   "cell_type": "code",
   "execution_count": 52,
   "id": "826856a7",
   "metadata": {},
   "outputs": [
    {
     "data": {
      "text/plain": [
       "7"
      ]
     },
     "execution_count": 52,
     "metadata": {},
     "output_type": "execute_result"
    }
   ],
   "source": [
    "sum(2,5)"
   ]
  },
  {
   "cell_type": "code",
   "execution_count": 53,
   "id": "cdac75af",
   "metadata": {},
   "outputs": [],
   "source": [
    "def adding(a,b):\n",
    "    return a+b\n"
   ]
  },
  {
   "cell_type": "code",
   "execution_count": 54,
   "id": "f93f30f5",
   "metadata": {},
   "outputs": [
    {
     "data": {
      "text/plain": [
       "10"
      ]
     },
     "execution_count": 54,
     "metadata": {},
     "output_type": "execute_result"
    }
   ],
   "source": [
    "adding(5,5)"
   ]
  },
  {
   "cell_type": "code",
   "execution_count": 56,
   "id": "5bc70d32",
   "metadata": {},
   "outputs": [
    {
     "data": {
      "text/plain": [
       "11"
      ]
     },
     "execution_count": 56,
     "metadata": {},
     "output_type": "execute_result"
    }
   ],
   "source": [
    "adding(6,5)"
   ]
  },
  {
   "cell_type": "code",
   "execution_count": 57,
   "id": "9141c3c5",
   "metadata": {},
   "outputs": [
    {
     "name": "stdout",
     "output_type": "stream",
     "text": [
      "4+5=9\n"
     ]
    }
   ],
   "source": [
    "def add(a,b):\n",
    "    print(f\"{a}+{b}={a+b}\")\n",
    "add(4,5)"
   ]
  },
  {
   "cell_type": "code",
   "execution_count": 58,
   "id": "e499f338",
   "metadata": {},
   "outputs": [
    {
     "name": "stdout",
     "output_type": "stream",
     "text": [
      "5-6=-1\n"
     ]
    }
   ],
   "source": [
    "def sub(a,b):\n",
    "    print(f\"{a}-{b}={a-b}\")\n",
    "sub(5,6)"
   ]
  },
  {
   "cell_type": "code",
   "execution_count": 59,
   "id": "7b385f08",
   "metadata": {},
   "outputs": [
    {
     "name": "stdout",
     "output_type": "stream",
     "text": [
      "9-8=1\n"
     ]
    }
   ],
   "source": [
    "sub(9,8)"
   ]
  },
  {
   "cell_type": "code",
   "execution_count": 60,
   "id": "38f74cbe",
   "metadata": {},
   "outputs": [],
   "source": [
    "def adding(a,b):\n",
    "    return a+b"
   ]
  },
  {
   "cell_type": "code",
   "execution_count": 61,
   "id": "6ca0a7bc",
   "metadata": {},
   "outputs": [],
   "source": [
    "def sub(a,b):\n",
    "    return a-b"
   ]
  },
  {
   "cell_type": "code",
   "execution_count": 62,
   "id": "bce90419",
   "metadata": {},
   "outputs": [],
   "source": [
    "def mult(a,b):\n",
    "    return a*b"
   ]
  },
  {
   "cell_type": "code",
   "execution_count": 63,
   "id": "7f2265e1",
   "metadata": {},
   "outputs": [],
   "source": [
    "def div(a,b):\n",
    "    return a/b"
   ]
  },
  {
   "cell_type": "code",
   "execution_count": 64,
   "id": "d05bc3ab",
   "metadata": {},
   "outputs": [],
   "source": [
    "def floor(a,b):\n",
    "    return a%b"
   ]
  },
  {
   "cell_type": "code",
   "execution_count": 71,
   "id": "3d20168c",
   "metadata": {},
   "outputs": [],
   "source": [
    "def main():\n",
    "    a = float(input(\"enter the first numbers\\n\"))\n",
    "    b = float(input(\"enter the second number\\n\"))\n",
    "    add = adding(a,b)\n",
    "    sub1 = sub(a,b)\n",
    "    mul = mult(a,b)\n",
    "    div1 = div(a,b)\n",
    "    floor1 = floor(a,b)\n",
    "    return add,sub1,mul,div1,floor1"
   ]
  },
  {
   "cell_type": "code",
   "execution_count": 72,
   "id": "5726efaa",
   "metadata": {},
   "outputs": [
    {
     "name": "stdout",
     "output_type": "stream",
     "text": [
      "enter the first numbers\n",
      "25\n",
      "enter the second number\n",
      "10\n"
     ]
    },
    {
     "data": {
      "text/plain": [
       "(35.0, 15.0, 250.0, 2.5, 5.0)"
      ]
     },
     "execution_count": 72,
     "metadata": {},
     "output_type": "execute_result"
    }
   ],
   "source": [
    "main()"
   ]
  },
  {
   "cell_type": "code",
   "execution_count": 73,
   "id": "a6ec8ecc",
   "metadata": {},
   "outputs": [],
   "source": [
    "def main(a,b):\n",
    "    print(f\"{a}+{b}= {a+b}\")\n",
    "    print(f\"{a}-{b} = {a-b}\")\n",
    "    print(f\"{a}*{b} = {a*b}\")\n",
    "    print(f\"{a}/{b} = {a/b}\")\n",
    "    "
   ]
  },
  {
   "cell_type": "code",
   "execution_count": 74,
   "id": "0d81d26c",
   "metadata": {},
   "outputs": [
    {
     "name": "stdout",
     "output_type": "stream",
     "text": [
      "5+8= 13\n",
      "5-8 = -3\n",
      "5*8 = 40\n",
      "5/8 = 0.625\n"
     ]
    }
   ],
   "source": [
    "main(5,8)"
   ]
  },
  {
   "cell_type": "code",
   "execution_count": 75,
   "id": "ed8e2faf",
   "metadata": {},
   "outputs": [],
   "source": [
    "def show():\n",
    "    a = float(input(\"enter the first.\"))\n",
    "    b = float(input(\"enter the second number...\"))\n",
    "    data = main(a,b)\n",
    "    return data"
   ]
  },
  {
   "cell_type": "code",
   "execution_count": 76,
   "id": "5b4aa89b",
   "metadata": {},
   "outputs": [
    {
     "name": "stdout",
     "output_type": "stream",
     "text": [
      "enter the first.25\n",
      "enter the second number...21\n",
      "25.0+21.0= 46.0\n",
      "25.0-21.0 = 4.0\n",
      "25.0*21.0 = 525.0\n",
      "25.0/21.0 = 1.1904761904761905\n"
     ]
    }
   ],
   "source": [
    "show()"
   ]
  },
  {
   "cell_type": "markdown",
   "id": "26471497",
   "metadata": {},
   "source": [
    "# types of python function arguments\n",
    "1. default aruments in python\n",
    "2. python keyword arguments\n",
    "3. python arbitrary arguments"
   ]
  },
  {
   "cell_type": "code",
   "execution_count": 78,
   "id": "2c238ffc",
   "metadata": {},
   "outputs": [
    {
     "name": "stdout",
     "output_type": "stream",
     "text": [
      "hello  {'ayushi'}\n"
     ]
    }
   ],
   "source": [
    "def greeting(name = 'user'):\n",
    "    print(f\"hello \",{name})\n",
    "greeting('ayushi')"
   ]
  },
  {
   "cell_type": "code",
   "execution_count": 80,
   "id": "a46ddfa0",
   "metadata": {},
   "outputs": [
    {
     "ename": "SyntaxError",
     "evalue": "non-default argument follows default argument (Temp/ipykernel_1252/2650384491.py, line 1)",
     "output_type": "error",
     "traceback": [
      "\u001b[1;36m  File \u001b[1;32m\"C:\\Users\\yaraz\\AppData\\Local\\Temp/ipykernel_1252/2650384491.py\"\u001b[1;36m, line \u001b[1;32m1\u001b[0m\n\u001b[1;33m    def tar(a =1,b):\u001b[0m\n\u001b[1;37m                  ^\u001b[0m\n\u001b[1;31mSyntaxError\u001b[0m\u001b[1;31m:\u001b[0m non-default argument follows default argument\n"
     ]
    }
   ],
   "source": [
    "def tar(a =1,b):\n",
    "    return a+b\n",
    "tar(2,5)"
   ]
  },
  {
   "cell_type": "markdown",
   "id": "5c251a4c",
   "metadata": {},
   "source": [
    "# python keyword arguments"
   ]
  },
  {
   "cell_type": "code",
   "execution_count": 81,
   "id": "06f0ace4",
   "metadata": {},
   "outputs": [
    {
     "data": {
      "text/plain": [
       "0.6"
      ]
     },
     "execution_count": 81,
     "metadata": {},
     "output_type": "execute_result"
    }
   ],
   "source": [
    "def divide(a,b):\n",
    "    return a/b\n",
    "divide(3,5)"
   ]
  },
  {
   "cell_type": "code",
   "execution_count": 82,
   "id": "275b4d84",
   "metadata": {},
   "outputs": [
    {
     "data": {
      "text/plain": [
       "1.0"
      ]
     },
     "execution_count": 82,
     "metadata": {},
     "output_type": "execute_result"
    }
   ],
   "source": [
    "divide(a = 1, b=1)"
   ]
  },
  {
   "cell_type": "code",
   "execution_count": 83,
   "id": "b25a4137",
   "metadata": {},
   "outputs": [
    {
     "data": {
      "text/plain": [
       "0.5"
      ]
     },
     "execution_count": 83,
     "metadata": {},
     "output_type": "execute_result"
    }
   ],
   "source": [
    "divide(b = 2 , a = 1)"
   ]
  },
  {
   "cell_type": "code",
   "execution_count": 84,
   "id": "d2f09d23",
   "metadata": {},
   "outputs": [
    {
     "data": {
      "text/plain": [
       "9"
      ]
     },
     "execution_count": 84,
     "metadata": {},
     "output_type": "execute_result"
    }
   ],
   "source": [
    "def div(a,b):\n",
    "    return a+b\n",
    "div(4,5)"
   ]
  },
  {
   "cell_type": "code",
   "execution_count": 88,
   "id": "6705d5db",
   "metadata": {},
   "outputs": [],
   "source": [
    "# python arbitrary argumens\n",
    "def sayhello(*names):\n",
    "    for name in names:\n",
    "        print(f\"hello\",{name})"
   ]
  },
  {
   "cell_type": "code",
   "execution_count": 89,
   "id": "042168a2",
   "metadata": {},
   "outputs": [
    {
     "name": "stdout",
     "output_type": "stream",
     "text": [
      "hello {'renukadevi'}\n"
     ]
    }
   ],
   "source": [
    "sayhello('renukadevi')"
   ]
  },
  {
   "cell_type": "code",
   "execution_count": 90,
   "id": "d54aa43d",
   "metadata": {},
   "outputs": [
    {
     "name": "stdout",
     "output_type": "stream",
     "text": [
      "hello {'manjunath'}\n",
      "hello {'hello'}\n",
      "hello {'megha'}\n"
     ]
    }
   ],
   "source": [
    "sayhello('manjunath','hello','megha')"
   ]
  },
  {
   "cell_type": "markdown",
   "id": "26198425",
   "metadata": {},
   "source": [
    "# python built-in function with syntax and examples\n",
    "1. abs()"
   ]
  },
  {
   "cell_type": "code",
   "execution_count": 91,
   "id": "ed60b9a6",
   "metadata": {},
   "outputs": [
    {
     "data": {
      "text/plain": [
       "7"
      ]
     },
     "execution_count": 91,
     "metadata": {},
     "output_type": "execute_result"
    }
   ],
   "source": [
    "abs(-7) # return the absolute values of a number"
   ]
  },
  {
   "cell_type": "code",
   "execution_count": 92,
   "id": "f67d5cff",
   "metadata": {},
   "outputs": [
    {
     "data": {
      "text/plain": [
       "7"
      ]
     },
     "execution_count": 92,
     "metadata": {},
     "output_type": "execute_result"
    }
   ],
   "source": [
    "abs(7)"
   ]
  },
  {
   "cell_type": "code",
   "execution_count": 93,
   "id": "b06795eb",
   "metadata": {},
   "outputs": [
    {
     "data": {
      "text/plain": [
       "5"
      ]
     },
     "execution_count": 93,
     "metadata": {},
     "output_type": "execute_result"
    }
   ],
   "source": [
    "abs(5)"
   ]
  },
  {
   "cell_type": "code",
   "execution_count": 94,
   "id": "48cbae2d",
   "metadata": {},
   "outputs": [
    {
     "data": {
      "text/plain": [
       "0"
      ]
     },
     "execution_count": 94,
     "metadata": {},
     "output_type": "execute_result"
    }
   ],
   "source": [
    "abs(0)"
   ]
  },
  {
   "cell_type": "code",
   "execution_count": 95,
   "id": "f09951cd",
   "metadata": {},
   "outputs": [
    {
     "data": {
      "text/plain": [
       "False"
      ]
     },
     "execution_count": 95,
     "metadata": {},
     "output_type": "execute_result"
    }
   ],
   "source": [
    "all({'*','',''})"
   ]
  },
  {
   "cell_type": "code",
   "execution_count": 96,
   "id": "063269aa",
   "metadata": {},
   "outputs": [
    {
     "ename": "TypeError",
     "evalue": "all() takes exactly one argument (3 given)",
     "output_type": "error",
     "traceback": [
      "\u001b[1;31m---------------------------------------------------------------------------\u001b[0m",
      "\u001b[1;31mTypeError\u001b[0m                                 Traceback (most recent call last)",
      "\u001b[1;32m~\\AppData\\Local\\Temp/ipykernel_1252/2541663488.py\u001b[0m in \u001b[0;36m<module>\u001b[1;34m\u001b[0m\n\u001b[1;32m----> 1\u001b[1;33m \u001b[0mall\u001b[0m\u001b[1;33m(\u001b[0m\u001b[1;34m''\u001b[0m\u001b[1;33m,\u001b[0m\u001b[1;34m''\u001b[0m\u001b[1;33m,\u001b[0m\u001b[1;34m''\u001b[0m\u001b[1;33m)\u001b[0m\u001b[1;33m\u001b[0m\u001b[1;33m\u001b[0m\u001b[0m\n\u001b[0m",
      "\u001b[1;31mTypeError\u001b[0m: all() takes exactly one argument (3 given)"
     ]
    }
   ],
   "source": [
    "all('','','')"
   ]
  },
  {
   "cell_type": "code",
   "execution_count": 102,
   "id": "704e38fa",
   "metadata": {},
   "outputs": [
    {
     "data": {
      "text/plain": [
       "True"
      ]
     },
     "execution_count": 102,
     "metadata": {},
     "output_type": "execute_result"
    }
   ],
   "source": [
    "any((1,0)) # it takes one argumens and returns True "
   ]
  },
  {
   "cell_type": "code",
   "execution_count": 104,
   "id": "1354c253",
   "metadata": {},
   "outputs": [
    {
     "data": {
      "text/plain": [
       "\"'$'\""
      ]
     },
     "execution_count": 104,
     "metadata": {},
     "output_type": "execute_result"
    }
   ],
   "source": [
    "ascii('$')"
   ]
  },
  {
   "cell_type": "code",
   "execution_count": 105,
   "id": "e76b5881",
   "metadata": {},
   "outputs": [
    {
     "data": {
      "text/plain": [
       "\"'user'\""
      ]
     },
     "execution_count": 105,
     "metadata": {},
     "output_type": "execute_result"
    }
   ],
   "source": [
    "ascii('user')"
   ]
  },
  {
   "cell_type": "code",
   "execution_count": 106,
   "id": "f07a4dbb",
   "metadata": {},
   "outputs": [
    {
     "data": {
      "text/plain": [
       "\"['s', '$']\""
      ]
     },
     "execution_count": 106,
     "metadata": {},
     "output_type": "execute_result"
    }
   ],
   "source": [
    "ascii(['s','$'])"
   ]
  },
  {
   "cell_type": "code",
   "execution_count": 107,
   "id": "580768d8",
   "metadata": {},
   "outputs": [
    {
     "data": {
      "text/plain": [
       "'0b101'"
      ]
     },
     "execution_count": 107,
     "metadata": {},
     "output_type": "execute_result"
    }
   ],
   "source": [
    "bin(5)"
   ]
  },
  {
   "cell_type": "code",
   "execution_count": 108,
   "id": "6b64f156",
   "metadata": {},
   "outputs": [
    {
     "data": {
      "text/plain": [
       "'0b100'"
      ]
     },
     "execution_count": 108,
     "metadata": {},
     "output_type": "execute_result"
    }
   ],
   "source": [
    "bin(4)"
   ]
  },
  {
   "cell_type": "code",
   "execution_count": 109,
   "id": "c17f1536",
   "metadata": {},
   "outputs": [
    {
     "data": {
      "text/plain": [
       "'0b10'"
      ]
     },
     "execution_count": 109,
     "metadata": {},
     "output_type": "execute_result"
    }
   ],
   "source": [
    "bin(2)"
   ]
  },
  {
   "cell_type": "code",
   "execution_count": 110,
   "id": "23756c89",
   "metadata": {},
   "outputs": [
    {
     "data": {
      "text/plain": [
       "'0b11'"
      ]
     },
     "execution_count": 110,
     "metadata": {},
     "output_type": "execute_result"
    }
   ],
   "source": [
    "bin(3)"
   ]
  },
  {
   "cell_type": "code",
   "execution_count": 111,
   "id": "cd59d9a6",
   "metadata": {},
   "outputs": [
    {
     "data": {
      "text/plain": [
       "'0b111'"
      ]
     },
     "execution_count": 111,
     "metadata": {},
     "output_type": "execute_result"
    }
   ],
   "source": [
    "bin(7)"
   ]
  },
  {
   "cell_type": "code",
   "execution_count": 112,
   "id": "4df1e46f",
   "metadata": {},
   "outputs": [
    {
     "data": {
      "text/plain": [
       "'0b110'"
      ]
     },
     "execution_count": 112,
     "metadata": {},
     "output_type": "execute_result"
    }
   ],
   "source": [
    "bin(6)"
   ]
  },
  {
   "cell_type": "code",
   "execution_count": 113,
   "id": "f8992806",
   "metadata": {},
   "outputs": [
    {
     "data": {
      "text/plain": [
       "'0b1'"
      ]
     },
     "execution_count": 113,
     "metadata": {},
     "output_type": "execute_result"
    }
   ],
   "source": [
    "bin(1)"
   ]
  },
  {
   "cell_type": "code",
   "execution_count": 114,
   "id": "5d0b0860",
   "metadata": {},
   "outputs": [
    {
     "data": {
      "text/plain": [
       "'0b1000'"
      ]
     },
     "execution_count": 114,
     "metadata": {},
     "output_type": "execute_result"
    }
   ],
   "source": [
    "bin(8)"
   ]
  },
  {
   "cell_type": "code",
   "execution_count": 116,
   "id": "3448eab5",
   "metadata": {},
   "outputs": [
    {
     "data": {
      "text/plain": [
       "'0b111'"
      ]
     },
     "execution_count": 116,
     "metadata": {},
     "output_type": "execute_result"
    }
   ],
   "source": [
    "bin(7)"
   ]
  },
  {
   "cell_type": "code",
   "execution_count": 117,
   "id": "1cf3fde4",
   "metadata": {},
   "outputs": [
    {
     "data": {
      "text/plain": [
       "True"
      ]
     },
     "execution_count": 117,
     "metadata": {},
     "output_type": "execute_result"
    }
   ],
   "source": [
    "bool(0.5)"
   ]
  },
  {
   "cell_type": "code",
   "execution_count": 118,
   "id": "8de37e62",
   "metadata": {},
   "outputs": [
    {
     "data": {
      "text/plain": [
       "False"
      ]
     },
     "execution_count": 118,
     "metadata": {},
     "output_type": "execute_result"
    }
   ],
   "source": [
    "bool('')"
   ]
  },
  {
   "cell_type": "code",
   "execution_count": 119,
   "id": "1a589353",
   "metadata": {},
   "outputs": [
    {
     "data": {
      "text/plain": [
       "bytearray(b'\\x00\\x00\\x00\\x00')"
      ]
     },
     "execution_count": 119,
     "metadata": {},
     "output_type": "execute_result"
    }
   ],
   "source": [
    "bytearray(4)"
   ]
  },
  {
   "cell_type": "code",
   "execution_count": 122,
   "id": "8ad9af78",
   "metadata": {},
   "outputs": [],
   "source": [
    "a = bytearray([1,2,3,4])"
   ]
  },
  {
   "cell_type": "code",
   "execution_count": 123,
   "id": "34489c36",
   "metadata": {},
   "outputs": [
    {
     "data": {
      "text/plain": [
       "1"
      ]
     },
     "execution_count": 123,
     "metadata": {},
     "output_type": "execute_result"
    }
   ],
   "source": [
    "a[0]"
   ]
  },
  {
   "cell_type": "code",
   "execution_count": 124,
   "id": "cf110685",
   "metadata": {},
   "outputs": [
    {
     "data": {
      "text/plain": [
       "3"
      ]
     },
     "execution_count": 124,
     "metadata": {},
     "output_type": "execute_result"
    }
   ],
   "source": [
    "a[2]"
   ]
  },
  {
   "cell_type": "code",
   "execution_count": 126,
   "id": "3e60c26c",
   "metadata": {},
   "outputs": [
    {
     "data": {
      "text/plain": [
       "4"
      ]
     },
     "execution_count": 126,
     "metadata": {},
     "output_type": "execute_result"
    }
   ],
   "source": [
    "a[3]"
   ]
  },
  {
   "cell_type": "code",
   "execution_count": 127,
   "id": "4ddb626c",
   "metadata": {},
   "outputs": [
    {
     "data": {
      "text/plain": [
       "b''"
      ]
     },
     "execution_count": 127,
     "metadata": {},
     "output_type": "execute_result"
    }
   ],
   "source": [
    "bytes()"
   ]
  },
  {
   "cell_type": "code",
   "execution_count": 128,
   "id": "a90b3cc9",
   "metadata": {},
   "outputs": [
    {
     "data": {
      "text/plain": [
       "b'\\x00\\x00\\x00\\x00\\x00'"
      ]
     },
     "execution_count": 128,
     "metadata": {},
     "output_type": "execute_result"
    }
   ],
   "source": [
    "bytes(5)"
   ]
  },
  {
   "cell_type": "code",
   "execution_count": 129,
   "id": "0cf1d0d9",
   "metadata": {},
   "outputs": [
    {
     "ename": "LookupError",
     "evalue": "unknown encoding: uft-8",
     "output_type": "error",
     "traceback": [
      "\u001b[1;31m---------------------------------------------------------------------------\u001b[0m",
      "\u001b[1;31mLookupError\u001b[0m                               Traceback (most recent call last)",
      "\u001b[1;32m~\\AppData\\Local\\Temp/ipykernel_1252/4183284425.py\u001b[0m in \u001b[0;36m<module>\u001b[1;34m\u001b[0m\n\u001b[1;32m----> 1\u001b[1;33m \u001b[0mbytes\u001b[0m\u001b[1;33m(\u001b[0m\u001b[1;34m'hello'\u001b[0m\u001b[1;33m,\u001b[0m\u001b[1;34m'uft-8'\u001b[0m\u001b[1;33m)\u001b[0m\u001b[1;33m\u001b[0m\u001b[1;33m\u001b[0m\u001b[0m\n\u001b[0m",
      "\u001b[1;31mLookupError\u001b[0m: unknown encoding: uft-8"
     ]
    }
   ],
   "source": [
    "bytes('hello','uft-8')"
   ]
  },
  {
   "cell_type": "code",
   "execution_count": 130,
   "id": "f9ad4344",
   "metadata": {},
   "outputs": [],
   "source": [
    "a = bytes([1,2,3,4,5])"
   ]
  },
  {
   "cell_type": "code",
   "execution_count": 131,
   "id": "f46dc127",
   "metadata": {},
   "outputs": [
    {
     "data": {
      "text/plain": [
       "5"
      ]
     },
     "execution_count": 131,
     "metadata": {},
     "output_type": "execute_result"
    }
   ],
   "source": [
    "a[4]"
   ]
  },
  {
   "cell_type": "code",
   "execution_count": 132,
   "id": "a109e3e1",
   "metadata": {},
   "outputs": [
    {
     "ename": "IndexError",
     "evalue": "index out of range",
     "output_type": "error",
     "traceback": [
      "\u001b[1;31m---------------------------------------------------------------------------\u001b[0m",
      "\u001b[1;31mIndexError\u001b[0m                                Traceback (most recent call last)",
      "\u001b[1;32m~\\AppData\\Local\\Temp/ipykernel_1252/2657792343.py\u001b[0m in \u001b[0;36m<module>\u001b[1;34m\u001b[0m\n\u001b[1;32m----> 1\u001b[1;33m \u001b[0ma\u001b[0m\u001b[1;33m[\u001b[0m\u001b[1;36m5\u001b[0m\u001b[1;33m]\u001b[0m\u001b[1;33m\u001b[0m\u001b[1;33m\u001b[0m\u001b[0m\n\u001b[0m",
      "\u001b[1;31mIndexError\u001b[0m: index out of range"
     ]
    }
   ],
   "source": [
    "a[5]"
   ]
  },
  {
   "cell_type": "code",
   "execution_count": 133,
   "id": "ae76331c",
   "metadata": {},
   "outputs": [
    {
     "data": {
      "text/plain": [
       "4"
      ]
     },
     "execution_count": 133,
     "metadata": {},
     "output_type": "execute_result"
    }
   ],
   "source": [
    "a[3]"
   ]
  },
  {
   "cell_type": "code",
   "execution_count": 134,
   "id": "ad1fdd26",
   "metadata": {},
   "outputs": [
    {
     "data": {
      "text/plain": [
       "5"
      ]
     },
     "execution_count": 134,
     "metadata": {},
     "output_type": "execute_result"
    }
   ],
   "source": [
    "a[4]"
   ]
  },
  {
   "cell_type": "code",
   "execution_count": 135,
   "id": "3d7c7a6d",
   "metadata": {},
   "outputs": [
    {
     "data": {
      "text/plain": [
       "False"
      ]
     },
     "execution_count": 135,
     "metadata": {},
     "output_type": "execute_result"
    }
   ],
   "source": [
    "# callable()\n",
    "callable(5)"
   ]
  },
  {
   "cell_type": "code",
   "execution_count": 136,
   "id": "56c435d8",
   "metadata": {},
   "outputs": [
    {
     "data": {
      "text/plain": [
       "False"
      ]
     },
     "execution_count": 136,
     "metadata": {},
     "output_type": "execute_result"
    }
   ],
   "source": [
    "callable([1,2,3])"
   ]
  },
  {
   "cell_type": "code",
   "execution_count": 137,
   "id": "bda6e623",
   "metadata": {},
   "outputs": [
    {
     "data": {
      "text/plain": [
       "'#'"
      ]
     },
     "execution_count": 137,
     "metadata": {},
     "output_type": "execute_result"
    }
   ],
   "source": [
    "# chr() built in function return the character in python\n",
    "chr(35)"
   ]
  },
  {
   "cell_type": "code",
   "execution_count": 138,
   "id": "4979e7bd",
   "metadata": {},
   "outputs": [
    {
     "data": {
      "text/plain": [
       "\"'\""
      ]
     },
     "execution_count": 138,
     "metadata": {},
     "output_type": "execute_result"
    }
   ],
   "source": [
    "chr(39)"
   ]
  },
  {
   "cell_type": "code",
   "execution_count": 139,
   "id": "a6a3b907",
   "metadata": {},
   "outputs": [
    {
     "data": {
      "text/plain": [
       "'c'"
      ]
     },
     "execution_count": 139,
     "metadata": {},
     "output_type": "execute_result"
    }
   ],
   "source": [
    "chr(99)"
   ]
  },
  {
   "cell_type": "code",
   "execution_count": 140,
   "id": "5c887d31",
   "metadata": {},
   "outputs": [
    {
     "data": {
      "text/plain": [
       "'\\x08'"
      ]
     },
     "execution_count": 140,
     "metadata": {},
     "output_type": "execute_result"
    }
   ],
   "source": [
    "chr(8)"
   ]
  },
  {
   "cell_type": "code",
   "execution_count": 141,
   "id": "6122a473",
   "metadata": {},
   "outputs": [],
   "source": [
    "class fruit:\n",
    "    def sayhi(self):\n",
    "        print(\"hi M fruiter...\")"
   ]
  },
  {
   "cell_type": "code",
   "execution_count": 142,
   "id": "7f8f4e0d",
   "metadata": {},
   "outputs": [],
   "source": [
    "fruit.sayhi = classmethod(fruit.sayhi)"
   ]
  },
  {
   "cell_type": "code",
   "execution_count": 143,
   "id": "c7ac2aef",
   "metadata": {},
   "outputs": [
    {
     "name": "stdout",
     "output_type": "stream",
     "text": [
      "hi M fruiter...\n"
     ]
    }
   ],
   "source": [
    "fruit.sayhi()"
   ]
  },
  {
   "cell_type": "code",
   "execution_count": 144,
   "id": "37c6d614",
   "metadata": {},
   "outputs": [
    {
     "data": {
      "text/plain": [
       "(3+0j)"
      ]
     },
     "execution_count": 144,
     "metadata": {},
     "output_type": "execute_result"
    }
   ],
   "source": [
    "complex(3)"
   ]
  },
  {
   "cell_type": "code",
   "execution_count": 145,
   "id": "e309f366",
   "metadata": {},
   "outputs": [
    {
     "data": {
      "text/plain": [
       "(3+5j)"
      ]
     },
     "execution_count": 145,
     "metadata": {},
     "output_type": "execute_result"
    }
   ],
   "source": [
    "complex(3+5j)"
   ]
  },
  {
   "cell_type": "code",
   "execution_count": 146,
   "id": "5e97b740",
   "metadata": {},
   "outputs": [
    {
     "name": "stdout",
     "output_type": "stream",
     "text": [
      "7\n"
     ]
    }
   ],
   "source": [
    "# delattr() takes two arguments- a class\n",
    "class fruit:\n",
    "    size = 7\n",
    "    print(size)\n",
    "orange = fruit()"
   ]
  },
  {
   "cell_type": "code",
   "execution_count": 147,
   "id": "844bfef3",
   "metadata": {},
   "outputs": [
    {
     "data": {
      "text/plain": [
       "7"
      ]
     },
     "execution_count": 147,
     "metadata": {},
     "output_type": "execute_result"
    }
   ],
   "source": [
    "orange.size"
   ]
  },
  {
   "cell_type": "code",
   "execution_count": 148,
   "id": "be0e9af1",
   "metadata": {},
   "outputs": [
    {
     "data": {
      "text/plain": [
       "{}"
      ]
     },
     "execution_count": 148,
     "metadata": {},
     "output_type": "execute_result"
    }
   ],
   "source": [
    "# dict as have seen it \n",
    "dict()"
   ]
  },
  {
   "cell_type": "code",
   "execution_count": 149,
   "id": "3f75d0c8",
   "metadata": {},
   "outputs": [],
   "source": [
    "dy = dict()"
   ]
  },
  {
   "cell_type": "code",
   "execution_count": 150,
   "id": "c48d53ab",
   "metadata": {},
   "outputs": [
    {
     "name": "stdout",
     "output_type": "stream",
     "text": [
      "<class 'dict'>\n"
     ]
    }
   ],
   "source": [
    "print(type(dy))"
   ]
  },
  {
   "cell_type": "code",
   "execution_count": 151,
   "id": "521c4f6e",
   "metadata": {},
   "outputs": [],
   "source": [
    "dy = {}"
   ]
  },
  {
   "cell_type": "code",
   "execution_count": 152,
   "id": "4d0f7a6f",
   "metadata": {},
   "outputs": [
    {
     "name": "stdout",
     "output_type": "stream",
     "text": [
      "<class 'dict'>\n"
     ]
    }
   ],
   "source": [
    "print(type(dy))"
   ]
  },
  {
   "cell_type": "code",
   "execution_count": 153,
   "id": "77c21e48",
   "metadata": {},
   "outputs": [],
   "source": [
    "st = set()"
   ]
  },
  {
   "cell_type": "code",
   "execution_count": 154,
   "id": "2848d9a0",
   "metadata": {},
   "outputs": [
    {
     "name": "stdout",
     "output_type": "stream",
     "text": [
      "<class 'set'>\n"
     ]
    }
   ],
   "source": [
    "print(type(st))"
   ]
  },
  {
   "cell_type": "code",
   "execution_count": 155,
   "id": "a7c97889",
   "metadata": {},
   "outputs": [
    {
     "data": {
      "text/plain": [
       "['In',\n",
       " 'Out',\n",
       " '_',\n",
       " '_10',\n",
       " '_102',\n",
       " '_104',\n",
       " '_105',\n",
       " '_106',\n",
       " '_107',\n",
       " '_108',\n",
       " '_109',\n",
       " '_11',\n",
       " '_110',\n",
       " '_111',\n",
       " '_112',\n",
       " '_113',\n",
       " '_114',\n",
       " '_116',\n",
       " '_117',\n",
       " '_118',\n",
       " '_119',\n",
       " '_121',\n",
       " '_123',\n",
       " '_124',\n",
       " '_126',\n",
       " '_127',\n",
       " '_128',\n",
       " '_131',\n",
       " '_133',\n",
       " '_134',\n",
       " '_135',\n",
       " '_136',\n",
       " '_137',\n",
       " '_138',\n",
       " '_139',\n",
       " '_140',\n",
       " '_144',\n",
       " '_145',\n",
       " '_147',\n",
       " '_148',\n",
       " '_19',\n",
       " '_20',\n",
       " '_35',\n",
       " '_36',\n",
       " '_38',\n",
       " '_39',\n",
       " '_41',\n",
       " '_43',\n",
       " '_45',\n",
       " '_52',\n",
       " '_54',\n",
       " '_56',\n",
       " '_72',\n",
       " '_8',\n",
       " '_81',\n",
       " '_82',\n",
       " '_83',\n",
       " '_84',\n",
       " '_9',\n",
       " '_91',\n",
       " '_92',\n",
       " '_93',\n",
       " '_94',\n",
       " '_95',\n",
       " '__',\n",
       " '___',\n",
       " '__builtin__',\n",
       " '__builtins__',\n",
       " '__doc__',\n",
       " '__loader__',\n",
       " '__name__',\n",
       " '__package__',\n",
       " '__spec__',\n",
       " '_dh',\n",
       " '_i',\n",
       " '_i1',\n",
       " '_i10',\n",
       " '_i100',\n",
       " '_i101',\n",
       " '_i102',\n",
       " '_i103',\n",
       " '_i104',\n",
       " '_i105',\n",
       " '_i106',\n",
       " '_i107',\n",
       " '_i108',\n",
       " '_i109',\n",
       " '_i11',\n",
       " '_i110',\n",
       " '_i111',\n",
       " '_i112',\n",
       " '_i113',\n",
       " '_i114',\n",
       " '_i115',\n",
       " '_i116',\n",
       " '_i117',\n",
       " '_i118',\n",
       " '_i119',\n",
       " '_i12',\n",
       " '_i120',\n",
       " '_i121',\n",
       " '_i122',\n",
       " '_i123',\n",
       " '_i124',\n",
       " '_i125',\n",
       " '_i126',\n",
       " '_i127',\n",
       " '_i128',\n",
       " '_i129',\n",
       " '_i13',\n",
       " '_i130',\n",
       " '_i131',\n",
       " '_i132',\n",
       " '_i133',\n",
       " '_i134',\n",
       " '_i135',\n",
       " '_i136',\n",
       " '_i137',\n",
       " '_i138',\n",
       " '_i139',\n",
       " '_i14',\n",
       " '_i140',\n",
       " '_i141',\n",
       " '_i142',\n",
       " '_i143',\n",
       " '_i144',\n",
       " '_i145',\n",
       " '_i146',\n",
       " '_i147',\n",
       " '_i148',\n",
       " '_i149',\n",
       " '_i15',\n",
       " '_i150',\n",
       " '_i151',\n",
       " '_i152',\n",
       " '_i153',\n",
       " '_i154',\n",
       " '_i155',\n",
       " '_i16',\n",
       " '_i17',\n",
       " '_i18',\n",
       " '_i19',\n",
       " '_i2',\n",
       " '_i20',\n",
       " '_i21',\n",
       " '_i22',\n",
       " '_i23',\n",
       " '_i24',\n",
       " '_i25',\n",
       " '_i26',\n",
       " '_i27',\n",
       " '_i28',\n",
       " '_i29',\n",
       " '_i3',\n",
       " '_i30',\n",
       " '_i31',\n",
       " '_i32',\n",
       " '_i33',\n",
       " '_i34',\n",
       " '_i35',\n",
       " '_i36',\n",
       " '_i37',\n",
       " '_i38',\n",
       " '_i39',\n",
       " '_i4',\n",
       " '_i40',\n",
       " '_i41',\n",
       " '_i42',\n",
       " '_i43',\n",
       " '_i44',\n",
       " '_i45',\n",
       " '_i46',\n",
       " '_i47',\n",
       " '_i48',\n",
       " '_i49',\n",
       " '_i5',\n",
       " '_i50',\n",
       " '_i51',\n",
       " '_i52',\n",
       " '_i53',\n",
       " '_i54',\n",
       " '_i55',\n",
       " '_i56',\n",
       " '_i57',\n",
       " '_i58',\n",
       " '_i59',\n",
       " '_i6',\n",
       " '_i60',\n",
       " '_i61',\n",
       " '_i62',\n",
       " '_i63',\n",
       " '_i64',\n",
       " '_i65',\n",
       " '_i66',\n",
       " '_i67',\n",
       " '_i68',\n",
       " '_i69',\n",
       " '_i7',\n",
       " '_i70',\n",
       " '_i71',\n",
       " '_i72',\n",
       " '_i73',\n",
       " '_i74',\n",
       " '_i75',\n",
       " '_i76',\n",
       " '_i77',\n",
       " '_i78',\n",
       " '_i79',\n",
       " '_i8',\n",
       " '_i80',\n",
       " '_i81',\n",
       " '_i82',\n",
       " '_i83',\n",
       " '_i84',\n",
       " '_i85',\n",
       " '_i86',\n",
       " '_i87',\n",
       " '_i88',\n",
       " '_i89',\n",
       " '_i9',\n",
       " '_i90',\n",
       " '_i91',\n",
       " '_i92',\n",
       " '_i93',\n",
       " '_i94',\n",
       " '_i95',\n",
       " '_i96',\n",
       " '_i97',\n",
       " '_i98',\n",
       " '_i99',\n",
       " '_ih',\n",
       " '_ii',\n",
       " '_iii',\n",
       " '_oh',\n",
       " 'a',\n",
       " 'add',\n",
       " 'adding',\n",
       " 'div',\n",
       " 'divide',\n",
       " 'dy',\n",
       " 'exit',\n",
       " 'facto',\n",
       " 'first',\n",
       " 'floor',\n",
       " 'fruit',\n",
       " 'func1',\n",
       " 'func3',\n",
       " 'func4',\n",
       " 'get_ipython',\n",
       " 'greeting',\n",
       " 'hello',\n",
       " 'main',\n",
       " 'mult',\n",
       " 'myvar',\n",
       " 'name',\n",
       " 'orange',\n",
       " 'power',\n",
       " 'quit',\n",
       " 'sayhell',\n",
       " 'sayhello',\n",
       " 'show',\n",
       " 'st',\n",
       " 'sub',\n",
       " 'sum',\n",
       " 'sum2',\n",
       " 'y']"
      ]
     },
     "execution_count": 155,
     "metadata": {},
     "output_type": "execute_result"
    }
   ],
   "source": [
    "dir()"
   ]
  },
  {
   "cell_type": "code",
   "execution_count": 156,
   "id": "58f2804a",
   "metadata": {},
   "outputs": [],
   "source": [
    "class fruit:\n",
    "    size = 7\n",
    "    shape = 'round'"
   ]
  },
  {
   "cell_type": "code",
   "execution_count": 157,
   "id": "99daae8d",
   "metadata": {},
   "outputs": [],
   "source": [
    "orange = fruit()"
   ]
  },
  {
   "cell_type": "code",
   "execution_count": 159,
   "id": "ca092bb3",
   "metadata": {},
   "outputs": [
    {
     "data": {
      "text/plain": [
       "['__class__',\n",
       " '__delattr__',\n",
       " '__dict__',\n",
       " '__dir__',\n",
       " '__doc__',\n",
       " '__eq__',\n",
       " '__format__',\n",
       " '__ge__',\n",
       " '__getattribute__',\n",
       " '__gt__',\n",
       " '__hash__',\n",
       " '__init__',\n",
       " '__init_subclass__',\n",
       " '__le__',\n",
       " '__lt__',\n",
       " '__module__',\n",
       " '__ne__',\n",
       " '__new__',\n",
       " '__reduce__',\n",
       " '__reduce_ex__',\n",
       " '__repr__',\n",
       " '__setattr__',\n",
       " '__sizeof__',\n",
       " '__str__',\n",
       " '__subclasshook__',\n",
       " '__weakref__',\n",
       " 'shape',\n",
       " 'size']"
      ]
     },
     "execution_count": 159,
     "metadata": {},
     "output_type": "execute_result"
    }
   ],
   "source": [
    "dir(orange)"
   ]
  },
  {
   "cell_type": "code",
   "execution_count": 161,
   "id": "dea388b1",
   "metadata": {},
   "outputs": [
    {
     "data": {
      "text/plain": [
       "(0, 3)"
      ]
     },
     "execution_count": 161,
     "metadata": {},
     "output_type": "execute_result"
    }
   ],
   "source": [
    "divmod(3,7)"
   ]
  },
  {
   "cell_type": "code",
   "execution_count": 162,
   "id": "26652581",
   "metadata": {},
   "outputs": [
    {
     "data": {
      "text/plain": [
       "(2, 1)"
      ]
     },
     "execution_count": 162,
     "metadata": {},
     "output_type": "execute_result"
    }
   ],
   "source": [
    "divmod(7,3)"
   ]
  },
  {
   "cell_type": "code",
   "execution_count": 163,
   "id": "70b6d2e8",
   "metadata": {},
   "outputs": [
    {
     "name": "stdout",
     "output_type": "stream",
     "text": [
      "(0, 'a')\n",
      "(1, 'b')\n",
      "(2, 'c')\n"
     ]
    }
   ],
   "source": [
    "# enumerate() \n",
    "for i in enumerate(['a','b','c']):\n",
    "    print(i)"
   ]
  },
  {
   "cell_type": "code",
   "execution_count": 164,
   "id": "f09f3a14",
   "metadata": {},
   "outputs": [
    {
     "data": {
      "text/plain": [
       "14"
      ]
     },
     "execution_count": 164,
     "metadata": {},
     "output_type": "execute_result"
    }
   ],
   "source": [
    "# eval this functions a string as an argument \n",
    "x = 7\n",
    "eval('x+7')"
   ]
  },
  {
   "cell_type": "code",
   "execution_count": 165,
   "id": "1bff7c60",
   "metadata": {},
   "outputs": [
    {
     "data": {
      "text/plain": [
       "8"
      ]
     },
     "execution_count": 165,
     "metadata": {},
     "output_type": "execute_result"
    }
   ],
   "source": [
    "eval('x+(x%2)')"
   ]
  },
  {
   "cell_type": "code",
   "execution_count": 166,
   "id": "20ead1bf",
   "metadata": {},
   "outputs": [
    {
     "name": "stdout",
     "output_type": "stream",
     "text": [
      "\n",
      "Welcome to Python 3.9's help utility!\n",
      "\n",
      "If this is your first time using Python, you should definitely check out\n",
      "the tutorial on the Internet at https://docs.python.org/3.9/tutorial/.\n",
      "\n",
      "Enter the name of any module, keyword, or topic to get help on writing\n",
      "Python programs and using Python modules.  To quit this help utility and\n",
      "return to the interpreter, just type \"quit\".\n",
      "\n",
      "To get a list of available modules, keywords, symbols, or topics, type\n",
      "\"modules\", \"keywords\", \"symbols\", or \"topics\".  Each module also comes\n",
      "with a one-line summary of what it does; to list the modules whose name\n",
      "or summary contain a given string such as \"spam\", type \"modules spam\".\n",
      "\n",
      "\n",
      "You are now leaving help and returning to the Python interpreter.\n",
      "If you want to ask for help on a particular object directly from the\n",
      "interpreter, you can type \"help(object)\".  Executing \"help('string')\"\n",
      "has the same effect as typing a particular string at the help> prompt.\n"
     ]
    }
   ],
   "source": [
    "help()"
   ]
  },
  {
   "cell_type": "code",
   "execution_count": 167,
   "id": "12fe211b",
   "metadata": {},
   "outputs": [
    {
     "data": {
      "text/plain": [
       "2284570569296"
      ]
     },
     "execution_count": 167,
     "metadata": {},
     "output_type": "execute_result"
    }
   ],
   "source": [
    "# id() function id() return an object identity\n",
    "a = 10\n",
    "id(a)"
   ]
  },
  {
   "cell_type": "code",
   "execution_count": 168,
   "id": "b757a1d5",
   "metadata": {},
   "outputs": [
    {
     "data": {
      "text/plain": [
       "2284570569296"
      ]
     },
     "execution_count": 168,
     "metadata": {},
     "output_type": "execute_result"
    }
   ],
   "source": [
    "id(10)"
   ]
  },
  {
   "cell_type": "code",
   "execution_count": 169,
   "id": "f0b1d9a6",
   "metadata": {},
   "outputs": [
    {
     "name": "stdout",
     "output_type": "stream",
     "text": [
      "enter a number\n",
      "25\n"
     ]
    },
    {
     "data": {
      "text/plain": [
       "'25'"
      ]
     },
     "execution_count": 169,
     "metadata": {},
     "output_type": "execute_result"
    }
   ],
   "source": [
    "input(\"enter a number\\n\")"
   ]
  },
  {
   "cell_type": "markdown",
   "id": "298bfd46",
   "metadata": {},
   "source": [
    "# python function \n",
    "1. user-defined function\n",
    "2. built-in function\n",
    "3. lambda function\n",
    "4. recursion function\n"
   ]
  },
  {
   "cell_type": "code",
   "execution_count": 1,
   "id": "66ff270a",
   "metadata": {},
   "outputs": [],
   "source": [
    "def hello():\n",
    "    print(\"hello\")"
   ]
  },
  {
   "cell_type": "code",
   "execution_count": 2,
   "id": "fbaa1a7e",
   "metadata": {},
   "outputs": [],
   "source": [
    "yello = hello"
   ]
  },
  {
   "cell_type": "code",
   "execution_count": 3,
   "id": "cc5eb790",
   "metadata": {},
   "outputs": [
    {
     "data": {
      "text/plain": [
       "<function __main__.hello()>"
      ]
     },
     "execution_count": 3,
     "metadata": {},
     "output_type": "execute_result"
    }
   ],
   "source": [
    "yello"
   ]
  },
  {
   "cell_type": "code",
   "execution_count": 4,
   "id": "bb51ebe5",
   "metadata": {},
   "outputs": [
    {
     "name": "stdout",
     "output_type": "stream",
     "text": [
      "hello\n"
     ]
    }
   ],
   "source": [
    "yello()"
   ]
  },
  {
   "cell_type": "code",
   "execution_count": 5,
   "id": "01280e08",
   "metadata": {},
   "outputs": [],
   "source": [
    "def show():\n",
    "    \"\"\"this python function simply prints hello to the screen\"\"\"\n",
    "    print(\"renukadevi...\")"
   ]
  },
  {
   "cell_type": "code",
   "execution_count": 6,
   "id": "4c7fe9a4",
   "metadata": {},
   "outputs": [],
   "source": [
    "such = show"
   ]
  },
  {
   "cell_type": "code",
   "execution_count": 7,
   "id": "b90cbd79",
   "metadata": {},
   "outputs": [
    {
     "name": "stdout",
     "output_type": "stream",
     "text": [
      "renukadevi...\n"
     ]
    }
   ],
   "source": [
    "such()"
   ]
  },
  {
   "cell_type": "code",
   "execution_count": 8,
   "id": "ad61bcdb",
   "metadata": {},
   "outputs": [
    {
     "data": {
      "text/plain": [
       "'this python function simply prints hello to the screen'"
      ]
     },
     "execution_count": 8,
     "metadata": {},
     "output_type": "execute_result"
    }
   ],
   "source": [
    "such.__doc__"
   ]
  },
  {
   "cell_type": "code",
   "execution_count": 9,
   "id": "777e7995",
   "metadata": {},
   "outputs": [],
   "source": [
    "def func1():\n",
    "    \"\"\"this is the docstring....\"\"\"\n",
    "    print(\"hello..\")"
   ]
  },
  {
   "cell_type": "code",
   "execution_count": 10,
   "id": "b33ecba1",
   "metadata": {},
   "outputs": [
    {
     "name": "stdout",
     "output_type": "stream",
     "text": [
      "hello..\n"
     ]
    }
   ],
   "source": [
    "func1()"
   ]
  },
  {
   "cell_type": "code",
   "execution_count": 11,
   "id": "aa2f4ed1",
   "metadata": {},
   "outputs": [],
   "source": [
    "def hello():\n",
    "    pass\n",
    "hello()"
   ]
  },
  {
   "cell_type": "markdown",
   "id": "882ce898",
   "metadata": {},
   "source": [
    "# python function parameters\n"
   ]
  },
  {
   "cell_type": "code",
   "execution_count": 12,
   "id": "f984ecfc",
   "metadata": {},
   "outputs": [],
   "source": [
    "def add(a,b):\n",
    "    print(f\"{a}+{b}={a+b}\")"
   ]
  },
  {
   "cell_type": "code",
   "execution_count": 13,
   "id": "55945688",
   "metadata": {},
   "outputs": [
    {
     "name": "stdout",
     "output_type": "stream",
     "text": [
      "5+5=10\n"
     ]
    }
   ],
   "source": [
    "add(5,5)"
   ]
  },
  {
   "cell_type": "code",
   "execution_count": 17,
   "id": "82c2db3e",
   "metadata": {},
   "outputs": [],
   "source": [
    "def func1(a):\n",
    "    if a%2 == 0:\n",
    "        return 0\n",
    "    else:\n",
    "        return 1"
   ]
  },
  {
   "cell_type": "code",
   "execution_count": 19,
   "id": "40558e8f",
   "metadata": {},
   "outputs": [
    {
     "data": {
      "text/plain": [
       "1"
      ]
     },
     "execution_count": 19,
     "metadata": {},
     "output_type": "execute_result"
    }
   ],
   "source": [
    "func1(5)"
   ]
  },
  {
   "cell_type": "code",
   "execution_count": 20,
   "id": "18cd751b",
   "metadata": {},
   "outputs": [
    {
     "data": {
      "text/plain": [
       "110"
      ]
     },
     "execution_count": 20,
     "metadata": {},
     "output_type": "execute_result"
    }
   ],
   "source": [
    "def total(a,b):\n",
    "    return a+b\n",
    "total(55,55)"
   ]
  },
  {
   "cell_type": "code",
   "execution_count": 21,
   "id": "6ab231ae",
   "metadata": {},
   "outputs": [],
   "source": [
    "result = total(55,666)"
   ]
  },
  {
   "cell_type": "code",
   "execution_count": 22,
   "id": "bbad5d69",
   "metadata": {},
   "outputs": [
    {
     "data": {
      "text/plain": [
       "721"
      ]
     },
     "execution_count": 22,
     "metadata": {},
     "output_type": "execute_result"
    }
   ],
   "source": [
    "result"
   ]
  },
  {
   "cell_type": "code",
   "execution_count": 23,
   "id": "ffe0f2c9",
   "metadata": {},
   "outputs": [
    {
     "name": "stdout",
     "output_type": "stream",
     "text": [
      "7\n"
     ]
    }
   ],
   "source": [
    "def func3():\n",
    "    x = 7\n",
    "    print(x)\n",
    "func3()"
   ]
  },
  {
   "cell_type": "code",
   "execution_count": 24,
   "id": "584c781f",
   "metadata": {},
   "outputs": [
    {
     "ename": "NameError",
     "evalue": "name 'x' is not defined",
     "output_type": "error",
     "traceback": [
      "\u001b[1;31m---------------------------------------------------------------------------\u001b[0m",
      "\u001b[1;31mNameError\u001b[0m                                 Traceback (most recent call last)",
      "\u001b[1;32m~\\AppData\\Local\\Temp/ipykernel_8036/32546335.py\u001b[0m in \u001b[0;36m<module>\u001b[1;34m\u001b[0m\n\u001b[1;32m----> 1\u001b[1;33m \u001b[0mx\u001b[0m\u001b[1;33m\u001b[0m\u001b[1;33m\u001b[0m\u001b[0m\n\u001b[0m",
      "\u001b[1;31mNameError\u001b[0m: name 'x' is not defined"
     ]
    }
   ],
   "source": [
    "x"
   ]
  },
  {
   "cell_type": "code",
   "execution_count": 25,
   "id": "2927a86a",
   "metadata": {},
   "outputs": [
    {
     "name": "stdout",
     "output_type": "stream",
     "text": [
      "7\n"
     ]
    }
   ],
   "source": [
    "y = 7\n",
    "def func4():\n",
    "    print(y)\n",
    "func4()"
   ]
  },
  {
   "cell_type": "code",
   "execution_count": 26,
   "id": "5e3acb97",
   "metadata": {},
   "outputs": [
    {
     "name": "stdout",
     "output_type": "stream",
     "text": [
      "8\n"
     ]
    }
   ],
   "source": [
    "def func4():\n",
    "    global y\n",
    "    y+=1\n",
    "    print(y)\n",
    "func4()"
   ]
  },
  {
   "cell_type": "code",
   "execution_count": 27,
   "id": "3d210ea6",
   "metadata": {},
   "outputs": [
    {
     "name": "stdout",
     "output_type": "stream",
     "text": [
      "1\n"
     ]
    }
   ],
   "source": [
    "def func1():\n",
    "    counter = 0\n",
    "    counter+=1\n",
    "    print(counter)\n",
    "func1()"
   ]
  },
  {
   "cell_type": "code",
   "execution_count": 28,
   "id": "12b579e0",
   "metadata": {},
   "outputs": [
    {
     "name": "stdout",
     "output_type": "stream",
     "text": [
      "7\n"
     ]
    }
   ],
   "source": [
    "def func7():\n",
    "    print(\"7\")\n",
    "func7()"
   ]
  },
  {
   "cell_type": "code",
   "execution_count": 30,
   "id": "34148490",
   "metadata": {},
   "outputs": [],
   "source": [
    "del func7"
   ]
  },
  {
   "cell_type": "code",
   "execution_count": 31,
   "id": "e4d26028",
   "metadata": {},
   "outputs": [
    {
     "ename": "NameError",
     "evalue": "name 'func7' is not defined",
     "output_type": "error",
     "traceback": [
      "\u001b[1;31m---------------------------------------------------------------------------\u001b[0m",
      "\u001b[1;31mNameError\u001b[0m                                 Traceback (most recent call last)",
      "\u001b[1;32m~\\AppData\\Local\\Temp/ipykernel_8036/1984207815.py\u001b[0m in \u001b[0;36m<module>\u001b[1;34m\u001b[0m\n\u001b[1;32m----> 1\u001b[1;33m \u001b[0mfunc7\u001b[0m\u001b[1;33m(\u001b[0m\u001b[1;33m)\u001b[0m\u001b[1;33m\u001b[0m\u001b[1;33m\u001b[0m\u001b[0m\n\u001b[0m",
      "\u001b[1;31mNameError\u001b[0m: name 'func7' is not defined"
     ]
    }
   ],
   "source": [
    "func7()"
   ]
  },
  {
   "cell_type": "code",
   "execution_count": 32,
   "id": "3b55989c",
   "metadata": {},
   "outputs": [],
   "source": [
    "myvar = lambda a,b :(a*b)+7"
   ]
  },
  {
   "cell_type": "code",
   "execution_count": 33,
   "id": "19be1c24",
   "metadata": {},
   "outputs": [
    {
     "name": "stdout",
     "output_type": "stream",
     "text": [
      "<function <lambda> at 0x00000190A6431940>\n"
     ]
    }
   ],
   "source": [
    "print(myvar)"
   ]
  },
  {
   "cell_type": "code",
   "execution_count": 34,
   "id": "b70f3123",
   "metadata": {},
   "outputs": [
    {
     "data": {
      "text/plain": [
       "32"
      ]
     },
     "execution_count": 34,
     "metadata": {},
     "output_type": "execute_result"
    }
   ],
   "source": [
    "myvar(5,5)"
   ]
  },
  {
   "cell_type": "code",
   "execution_count": 38,
   "id": "2b27fed6",
   "metadata": {},
   "outputs": [],
   "source": [
    "def facto(n):\n",
    "    if n == 1:\n",
    "        return 1\n",
    "    return n*facto(n-1)"
   ]
  },
  {
   "cell_type": "code",
   "execution_count": 39,
   "id": "163c7419",
   "metadata": {},
   "outputs": [
    {
     "data": {
      "text/plain": [
       "120"
      ]
     },
     "execution_count": 39,
     "metadata": {},
     "output_type": "execute_result"
    }
   ],
   "source": [
    "facto(5)"
   ]
  },
  {
   "cell_type": "code",
   "execution_count": 40,
   "id": "90158526",
   "metadata": {},
   "outputs": [
    {
     "data": {
      "text/plain": [
       "2"
      ]
     },
     "execution_count": 40,
     "metadata": {},
     "output_type": "execute_result"
    }
   ],
   "source": [
    "facto(2)"
   ]
  },
  {
   "cell_type": "code",
   "execution_count": 41,
   "id": "a5977781",
   "metadata": {},
   "outputs": [
    {
     "data": {
      "text/plain": [
       "6"
      ]
     },
     "execution_count": 41,
     "metadata": {},
     "output_type": "execute_result"
    }
   ],
   "source": [
    "facto(3)"
   ]
  },
  {
   "cell_type": "markdown",
   "id": "40ee2528",
   "metadata": {},
   "source": [
    "# python function arguments with types \n",
    "1. python function arguments\n",
    "2. defualt arguments\n",
    "3. keyword arguments\n",
    "4. arbitary arguments"
   ]
  },
  {
   "cell_type": "code",
   "execution_count": 42,
   "id": "7f837083",
   "metadata": {},
   "outputs": [],
   "source": [
    "def sayhello():\n",
    "    \"\"\"this prints hello\"\"\"\n",
    "    print(\"hello...\")"
   ]
  },
  {
   "cell_type": "code",
   "execution_count": 43,
   "id": "2a25a1eb",
   "metadata": {},
   "outputs": [
    {
     "name": "stdout",
     "output_type": "stream",
     "text": [
      "hello...\n"
     ]
    }
   ],
   "source": [
    "sayhello()"
   ]
  },
  {
   "cell_type": "code",
   "execution_count": 44,
   "id": "53d4a67c",
   "metadata": {},
   "outputs": [
    {
     "name": "stdout",
     "output_type": "stream",
     "text": [
      "hello...\n"
     ]
    }
   ],
   "source": [
    "tark = sayhello()"
   ]
  },
  {
   "cell_type": "code",
   "execution_count": 45,
   "id": "f7c57b5a",
   "metadata": {},
   "outputs": [],
   "source": [
    "tark"
   ]
  },
  {
   "cell_type": "code",
   "execution_count": 46,
   "id": "0309719c",
   "metadata": {},
   "outputs": [
    {
     "data": {
      "text/plain": [
       "15"
      ]
     },
     "execution_count": 46,
     "metadata": {},
     "output_type": "execute_result"
    }
   ],
   "source": [
    "def st(a,b):\n",
    "    return a+b\n",
    "st(6,9)"
   ]
  },
  {
   "cell_type": "markdown",
   "id": "ea0447e3",
   "metadata": {},
   "source": [
    "# types of python function arguments\n",
    "1. default arguments in python "
   ]
  },
  {
   "cell_type": "code",
   "execution_count": 47,
   "id": "d8d1e2bd",
   "metadata": {},
   "outputs": [
    {
     "name": "stdout",
     "output_type": "stream",
     "text": [
      "hello manjunath\n"
     ]
    }
   ],
   "source": [
    "def greeting(name = \"user\"):\n",
    "    print(f\"hello {name}\")\n",
    "greeting(\"manjunath\")"
   ]
  },
  {
   "cell_type": "code",
   "execution_count": 49,
   "id": "8db1fb86",
   "metadata": {},
   "outputs": [],
   "source": [
    "def divide(a,b):\n",
    "    return a/b"
   ]
  },
  {
   "cell_type": "code",
   "execution_count": 50,
   "id": "44fde7fc",
   "metadata": {},
   "outputs": [
    {
     "data": {
      "text/plain": [
       "1.5"
      ]
     },
     "execution_count": 50,
     "metadata": {},
     "output_type": "execute_result"
    }
   ],
   "source": [
    "divide(3,2)"
   ]
  },
  {
   "cell_type": "code",
   "execution_count": 51,
   "id": "d9e11909",
   "metadata": {},
   "outputs": [],
   "source": [
    "# python arbitrary arguments\n",
    "def sayhello(*names):\n",
    "    for name in names:\n",
    "        print(f\"hello {name}\")"
   ]
  },
  {
   "cell_type": "code",
   "execution_count": 52,
   "id": "42d1f09d",
   "metadata": {},
   "outputs": [
    {
     "name": "stdout",
     "output_type": "stream",
     "text": [
      "hello kannur\n"
     ]
    }
   ],
   "source": [
    "sayhello('kannur')"
   ]
  },
  {
   "cell_type": "code",
   "execution_count": 53,
   "id": "6b8ce5a0",
   "metadata": {},
   "outputs": [],
   "source": [
    "# def function_name(parameter):\n",
    "#     \"\"\"docstring \"\"\"\n",
    "#     statement(s)\n",
    "#     return expression\n",
    "def func():\n",
    "    print(\"wellcomme to yarazari...\")"
   ]
  },
  {
   "cell_type": "code",
   "execution_count": 54,
   "id": "7c543945",
   "metadata": {},
   "outputs": [
    {
     "name": "stdout",
     "output_type": "stream",
     "text": [
      "wellcome to yarazari..\n"
     ]
    }
   ],
   "source": [
    "# s imple python function\n",
    "def fun():\n",
    "    print(\"wellcome to yarazari..\")\n",
    "fun()"
   ]
  },
  {
   "cell_type": "code",
   "execution_count": 55,
   "id": "ddd6021d",
   "metadata": {},
   "outputs": [],
   "source": [
    "# arguments of a function\n",
    "def eveodd(x):\n",
    "    if (x % 2 == 0):\n",
    "        print(\"even\")\n",
    "    else:\n",
    "        print(\"odd\")"
   ]
  },
  {
   "cell_type": "code",
   "execution_count": 56,
   "id": "c294c5f8",
   "metadata": {},
   "outputs": [
    {
     "name": "stdout",
     "output_type": "stream",
     "text": [
      "odd\n"
     ]
    }
   ],
   "source": [
    "eveodd(5)"
   ]
  },
  {
   "cell_type": "code",
   "execution_count": 57,
   "id": "23d18cf2",
   "metadata": {},
   "outputs": [
    {
     "name": "stdout",
     "output_type": "stream",
     "text": [
      "even\n"
     ]
    }
   ],
   "source": [
    "eveodd(6)"
   ]
  },
  {
   "cell_type": "markdown",
   "id": "f0cfac9f",
   "metadata": {},
   "source": [
    "# types of arguements\n",
    "# python supports various types of arguements \n",
    "1. default arguments\n",
    "2. parameter arguments\n",
    "3. keywords arguments"
   ]
  },
  {
   "cell_type": "code",
   "execution_count": 63,
   "id": "1073c500",
   "metadata": {},
   "outputs": [],
   "source": [
    "def myfun(x, y = 50):\n",
    "    print(\"x: \" , x)\n",
    "    print(\"y: \",y)\n",
    "    print(f\"{x+y}\")"
   ]
  },
  {
   "cell_type": "code",
   "execution_count": 62,
   "id": "2e881db1",
   "metadata": {},
   "outputs": [
    {
     "name": "stdout",
     "output_type": "stream",
     "text": [
      "x:  5\n",
      "y:  5\n"
     ]
    },
    {
     "ename": "NameError",
     "evalue": "name 'a' is not defined",
     "output_type": "error",
     "traceback": [
      "\u001b[1;31m---------------------------------------------------------------------------\u001b[0m",
      "\u001b[1;31mNameError\u001b[0m                                 Traceback (most recent call last)",
      "\u001b[1;32m~\\AppData\\Local\\Temp/ipykernel_8036/887556257.py\u001b[0m in \u001b[0;36m<module>\u001b[1;34m\u001b[0m\n\u001b[1;32m----> 1\u001b[1;33m \u001b[0mmyfun\u001b[0m\u001b[1;33m(\u001b[0m\u001b[1;36m5\u001b[0m\u001b[1;33m,\u001b[0m\u001b[1;36m5\u001b[0m\u001b[1;33m)\u001b[0m\u001b[1;33m\u001b[0m\u001b[1;33m\u001b[0m\u001b[0m\n\u001b[0m",
      "\u001b[1;32m~\\AppData\\Local\\Temp/ipykernel_8036/1237162128.py\u001b[0m in \u001b[0;36mmyfun\u001b[1;34m(x, y)\u001b[0m\n\u001b[0;32m      2\u001b[0m     \u001b[0mprint\u001b[0m\u001b[1;33m(\u001b[0m\u001b[1;34m\"x: \"\u001b[0m \u001b[1;33m,\u001b[0m \u001b[0mx\u001b[0m\u001b[1;33m)\u001b[0m\u001b[1;33m\u001b[0m\u001b[1;33m\u001b[0m\u001b[0m\n\u001b[0;32m      3\u001b[0m     \u001b[0mprint\u001b[0m\u001b[1;33m(\u001b[0m\u001b[1;34m\"y: \"\u001b[0m\u001b[1;33m,\u001b[0m\u001b[0my\u001b[0m\u001b[1;33m)\u001b[0m\u001b[1;33m\u001b[0m\u001b[1;33m\u001b[0m\u001b[0m\n\u001b[1;32m----> 4\u001b[1;33m     \u001b[0mprint\u001b[0m\u001b[1;33m(\u001b[0m\u001b[1;34mf\"{a+b}\"\u001b[0m\u001b[1;33m)\u001b[0m\u001b[1;33m\u001b[0m\u001b[1;33m\u001b[0m\u001b[0m\n\u001b[0m",
      "\u001b[1;31mNameError\u001b[0m: name 'a' is not defined"
     ]
    }
   ],
   "source": [
    "myfun(5,5)"
   ]
  },
  {
   "cell_type": "code",
   "execution_count": 64,
   "id": "3056ab57",
   "metadata": {},
   "outputs": [
    {
     "name": "stdout",
     "output_type": "stream",
     "text": [
      "x:  5\n",
      "y:  50\n",
      "55\n"
     ]
    }
   ],
   "source": [
    "myfun(5)"
   ]
  },
  {
   "cell_type": "code",
   "execution_count": 65,
   "id": "b75d6fdb",
   "metadata": {},
   "outputs": [],
   "source": [
    "def student(firstname, lastname):\n",
    "    return firstname,lastname"
   ]
  },
  {
   "cell_type": "code",
   "execution_count": 66,
   "id": "2aa129f6",
   "metadata": {},
   "outputs": [
    {
     "data": {
      "text/plain": [
       "('renukadevi', 'bhudihal')"
      ]
     },
     "execution_count": 66,
     "metadata": {},
     "output_type": "execute_result"
    }
   ],
   "source": [
    "student('renukadevi','bhudihal')"
   ]
  },
  {
   "cell_type": "code",
   "execution_count": 68,
   "id": "4bcbe462",
   "metadata": {},
   "outputs": [
    {
     "data": {
      "text/plain": [
       "('renukadevi', 'yallamma')"
      ]
     },
     "execution_count": 68,
     "metadata": {},
     "output_type": "execute_result"
    }
   ],
   "source": [
    "student(firstname = 'renukadevi',lastname = 'yallamma')"
   ]
  },
  {
   "cell_type": "code",
   "execution_count": 69,
   "id": "864eb98a",
   "metadata": {},
   "outputs": [
    {
     "data": {
      "text/plain": [
       "('mahesh', 'baluti')"
      ]
     },
     "execution_count": 69,
     "metadata": {},
     "output_type": "execute_result"
    }
   ],
   "source": [
    "student(firstname = 'mahesh',lastname = 'baluti')"
   ]
  },
  {
   "cell_type": "markdown",
   "id": "7b8ac40c",
   "metadata": {},
   "source": [
    "# variable- langth arguments\n",
    "1. *args(non-keyword argumens)\n",
    "2. **kwargs(keywords arguments)"
   ]
  },
  {
   "cell_type": "code",
   "execution_count": 71,
   "id": "82860dfb",
   "metadata": {},
   "outputs": [],
   "source": [
    "# *args for variable number of arguments\n",
    "def myfun(*args):\n",
    "    for arg in args:\n",
    "        print(arg)"
   ]
  },
  {
   "cell_type": "code",
   "execution_count": 72,
   "id": "0f558154",
   "metadata": {},
   "outputs": [
    {
     "name": "stdout",
     "output_type": "stream",
     "text": [
      "kannur\n"
     ]
    }
   ],
   "source": [
    "myfun(\"kannur\")"
   ]
  },
  {
   "cell_type": "code",
   "execution_count": 73,
   "id": "25ea5bc8",
   "metadata": {},
   "outputs": [
    {
     "name": "stdout",
     "output_type": "stream",
     "text": [
      "myfun\n",
      "like\n",
      "for\n",
      "nothing\n",
      "to\n",
      "high\n"
     ]
    }
   ],
   "source": [
    "myfun(\"myfun\",'like','for','nothing','to','high')"
   ]
  },
  {
   "cell_type": "code",
   "execution_count": 77,
   "id": "4add3ab8",
   "metadata": {},
   "outputs": [],
   "source": [
    "data=[1,2,3,4,[1,2,3,[1,2,3,[1,2,3]]]]"
   ]
  },
  {
   "cell_type": "code",
   "execution_count": 78,
   "id": "6aaaf8b0",
   "metadata": {},
   "outputs": [
    {
     "data": {
      "text/plain": [
       "[1, 2, 3, 4, [1, 2, 3, [1, 2, 3, [1, 2, 3]]]]"
      ]
     },
     "execution_count": 78,
     "metadata": {},
     "output_type": "execute_result"
    }
   ],
   "source": [
    "data"
   ]
  },
  {
   "cell_type": "code",
   "execution_count": 81,
   "id": "a1c55ecc",
   "metadata": {},
   "outputs": [],
   "source": [
    "import array as arr"
   ]
  },
  {
   "cell_type": "code",
   "execution_count": 85,
   "id": "7f3bf578",
   "metadata": {},
   "outputs": [
    {
     "data": {
      "text/plain": [
       "[1, 2, 3, 4, [1, 2, 3, [1, 2, 3, [1, 2, 3]]]]"
      ]
     },
     "execution_count": 85,
     "metadata": {},
     "output_type": "execute_result"
    }
   ],
   "source": [
    "data"
   ]
  },
  {
   "cell_type": "code",
   "execution_count": 89,
   "id": "852c9300",
   "metadata": {},
   "outputs": [
    {
     "data": {
      "text/plain": [
       "[1, 2, 3, 4, [1, 2, 3, [1, 2, 3, [1, 2, 3]]]]"
      ]
     },
     "execution_count": 89,
     "metadata": {},
     "output_type": "execute_result"
    }
   ],
   "source": [
    "data"
   ]
  },
  {
   "cell_type": "code",
   "execution_count": 90,
   "id": "f8bc540a",
   "metadata": {},
   "outputs": [],
   "source": [
    "mydata = list(data)"
   ]
  },
  {
   "cell_type": "code",
   "execution_count": 91,
   "id": "6ada6f76",
   "metadata": {},
   "outputs": [
    {
     "data": {
      "text/plain": [
       "[1, 2, 3, 4, [1, 2, 3, [1, 2, 3, [1, 2, 3]]]]"
      ]
     },
     "execution_count": 91,
     "metadata": {},
     "output_type": "execute_result"
    }
   ],
   "source": [
    "mydata"
   ]
  },
  {
   "cell_type": "code",
   "execution_count": 92,
   "id": "718b2b4d",
   "metadata": {},
   "outputs": [],
   "source": [
    "# def recu(n):\n",
    "#     data=[1,2,3,4,[1,2,3,[1,2,3,[1,2,3]]]]\n",
    "    \n",
    "#     return recu*(n-1)\n",
    "\n",
    "    "
   ]
  },
  {
   "cell_type": "code",
   "execution_count": 93,
   "id": "f7862ca3",
   "metadata": {},
   "outputs": [],
   "source": [
    "data=[1,1,2,2,3,4,3,3,2,2]\n"
   ]
  },
  {
   "cell_type": "code",
   "execution_count": 94,
   "id": "098a8b7f",
   "metadata": {},
   "outputs": [],
   "source": [
    "uniequ = set(data)"
   ]
  },
  {
   "cell_type": "code",
   "execution_count": 96,
   "id": "48b95353",
   "metadata": {},
   "outputs": [
    {
     "data": {
      "text/plain": [
       "{1, 2, 3, 4}"
      ]
     },
     "execution_count": 96,
     "metadata": {},
     "output_type": "execute_result"
    }
   ],
   "source": [
    "uniequ"
   ]
  },
  {
   "cell_type": "code",
   "execution_count": 97,
   "id": "b2d0ccee",
   "metadata": {},
   "outputs": [],
   "source": [
    "from collections import Counter"
   ]
  },
  {
   "cell_type": "code",
   "execution_count": 98,
   "id": "da4c913e",
   "metadata": {},
   "outputs": [],
   "source": [
    "mydata = Counter(data)"
   ]
  },
  {
   "cell_type": "code",
   "execution_count": 99,
   "id": "4935545a",
   "metadata": {},
   "outputs": [
    {
     "data": {
      "text/plain": [
       "Counter({1: 2, 2: 4, 3: 3, 4: 1})"
      ]
     },
     "execution_count": 99,
     "metadata": {},
     "output_type": "execute_result"
    }
   ],
   "source": [
    "mydata"
   ]
  },
  {
   "cell_type": "code",
   "execution_count": 100,
   "id": "37b3d896",
   "metadata": {},
   "outputs": [
    {
     "data": {
      "text/plain": [
       "[1, 1, 2, 2, 3, 4, 3, 3, 2, 2]"
      ]
     },
     "execution_count": 100,
     "metadata": {},
     "output_type": "execute_result"
    }
   ],
   "source": [
    "data"
   ]
  },
  {
   "cell_type": "code",
   "execution_count": 109,
   "id": "e1566220",
   "metadata": {},
   "outputs": [
    {
     "name": "stdout",
     "output_type": "stream",
     "text": [
      "1\n",
      "1\n",
      "2\n",
      "2\n",
      "3\n",
      "4\n",
      "3\n",
      "3\n",
      "2\n",
      "2\n"
     ]
    }
   ],
   "source": [
    "for item in (data):\n",
    "    mydict = {}\n",
    "#     print(item)\n",
    "#     mydata = []\n",
    "#     mydata.count(item)\n",
    "#     print(mydata,item)"
   ]
  },
  {
   "cell_type": "code",
   "execution_count": 121,
   "id": "4a3a0628",
   "metadata": {},
   "outputs": [],
   "source": [
    "data11=[1,1,2,2,3,4,3,3,2,2]\n",
    "result=[]\n",
    "for x in data11:\n",
    "    if x>=2:\n",
    "        result.append(x*x)"
   ]
  },
  {
   "cell_type": "code",
   "execution_count": 122,
   "id": "b1bf2b07",
   "metadata": {},
   "outputs": [
    {
     "data": {
      "text/plain": [
       "[4, 4, 9, 16, 9, 9, 4, 4]"
      ]
     },
     "execution_count": 122,
     "metadata": {},
     "output_type": "execute_result"
    }
   ],
   "source": [
    "result"
   ]
  },
  {
   "cell_type": "code",
   "execution_count": 124,
   "id": "cbb2ba32",
   "metadata": {},
   "outputs": [],
   "source": [
    "result = [x*x for x in data11 if x >=2]"
   ]
  },
  {
   "cell_type": "code",
   "execution_count": 125,
   "id": "4299df94",
   "metadata": {},
   "outputs": [
    {
     "data": {
      "text/plain": [
       "[4, 4, 9, 16, 9, 9, 4, 4]"
      ]
     },
     "execution_count": 125,
     "metadata": {},
     "output_type": "execute_result"
    }
   ],
   "source": [
    "result"
   ]
  },
  {
   "cell_type": "code",
   "execution_count": 119,
   "id": "b669d5cb",
   "metadata": {},
   "outputs": [],
   "source": [
    "del data11"
   ]
  },
  {
   "cell_type": "code",
   "execution_count": null,
   "id": "3834bc0f",
   "metadata": {},
   "outputs": [],
   "source": []
  }
 ],
 "metadata": {
  "kernelspec": {
   "display_name": "Python 3 (ipykernel)",
   "language": "python",
   "name": "python3"
  },
  "language_info": {
   "codemirror_mode": {
    "name": "ipython",
    "version": 3
   },
   "file_extension": ".py",
   "mimetype": "text/x-python",
   "name": "python",
   "nbconvert_exporter": "python",
   "pygments_lexer": "ipython3",
   "version": "3.9.2"
  }
 },
 "nbformat": 4,
 "nbformat_minor": 5
}
